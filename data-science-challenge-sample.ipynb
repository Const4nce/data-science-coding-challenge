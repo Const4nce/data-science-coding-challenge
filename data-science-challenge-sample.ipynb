{
 "cells": [
  {
   "cell_type": "code",
   "execution_count": 270,
   "id": "a3777794",
   "metadata": {},
   "outputs": [],
   "source": [
    "import pandas as pd\n",
    "import datetime as dt\n",
    "import seaborn as sns\n",
    "import matplotlib.pyplot as plt \n"
   ]
  },
  {
   "cell_type": "code",
   "execution_count": 41,
   "id": "b64df4bb",
   "metadata": {},
   "outputs": [
    {
     "data": {
      "text/html": [
       "<div>\n",
       "<style scoped>\n",
       "    .dataframe tbody tr th:only-of-type {\n",
       "        vertical-align: middle;\n",
       "    }\n",
       "\n",
       "    .dataframe tbody tr th {\n",
       "        vertical-align: top;\n",
       "    }\n",
       "\n",
       "    .dataframe thead th {\n",
       "        text-align: right;\n",
       "    }\n",
       "</style>\n",
       "<table border=\"1\" class=\"dataframe\">\n",
       "  <thead>\n",
       "    <tr style=\"text-align: right;\">\n",
       "      <th></th>\n",
       "      <th>Sno</th>\n",
       "      <th>Date</th>\n",
       "      <th>Time</th>\n",
       "      <th>State/UnionTerritory</th>\n",
       "      <th>ConfirmedIndianNational</th>\n",
       "      <th>ConfirmedForeignNational</th>\n",
       "      <th>Cured</th>\n",
       "      <th>Deaths</th>\n",
       "      <th>Confirmed</th>\n",
       "    </tr>\n",
       "  </thead>\n",
       "  <tbody>\n",
       "    <tr>\n",
       "      <th>0</th>\n",
       "      <td>1</td>\n",
       "      <td>2020-01-30</td>\n",
       "      <td>6:00 PM</td>\n",
       "      <td>Kerala</td>\n",
       "      <td>1</td>\n",
       "      <td>0</td>\n",
       "      <td>0</td>\n",
       "      <td>0</td>\n",
       "      <td>1</td>\n",
       "    </tr>\n",
       "    <tr>\n",
       "      <th>1</th>\n",
       "      <td>2</td>\n",
       "      <td>2020-01-31</td>\n",
       "      <td>6:00 PM</td>\n",
       "      <td>Kerala</td>\n",
       "      <td>1</td>\n",
       "      <td>0</td>\n",
       "      <td>0</td>\n",
       "      <td>0</td>\n",
       "      <td>1</td>\n",
       "    </tr>\n",
       "    <tr>\n",
       "      <th>2</th>\n",
       "      <td>3</td>\n",
       "      <td>2020-02-01</td>\n",
       "      <td>6:00 PM</td>\n",
       "      <td>Kerala</td>\n",
       "      <td>2</td>\n",
       "      <td>0</td>\n",
       "      <td>0</td>\n",
       "      <td>0</td>\n",
       "      <td>2</td>\n",
       "    </tr>\n",
       "    <tr>\n",
       "      <th>3</th>\n",
       "      <td>4</td>\n",
       "      <td>2020-02-02</td>\n",
       "      <td>6:00 PM</td>\n",
       "      <td>Kerala</td>\n",
       "      <td>3</td>\n",
       "      <td>0</td>\n",
       "      <td>0</td>\n",
       "      <td>0</td>\n",
       "      <td>3</td>\n",
       "    </tr>\n",
       "    <tr>\n",
       "      <th>4</th>\n",
       "      <td>5</td>\n",
       "      <td>2020-02-03</td>\n",
       "      <td>6:00 PM</td>\n",
       "      <td>Kerala</td>\n",
       "      <td>3</td>\n",
       "      <td>0</td>\n",
       "      <td>0</td>\n",
       "      <td>0</td>\n",
       "      <td>3</td>\n",
       "    </tr>\n",
       "  </tbody>\n",
       "</table>\n",
       "</div>"
      ],
      "text/plain": [
       "   Sno        Date     Time State/UnionTerritory ConfirmedIndianNational  \\\n",
       "0    1  2020-01-30  6:00 PM               Kerala                       1   \n",
       "1    2  2020-01-31  6:00 PM               Kerala                       1   \n",
       "2    3  2020-02-01  6:00 PM               Kerala                       2   \n",
       "3    4  2020-02-02  6:00 PM               Kerala                       3   \n",
       "4    5  2020-02-03  6:00 PM               Kerala                       3   \n",
       "\n",
       "  ConfirmedForeignNational  Cured  Deaths  Confirmed  \n",
       "0                        0      0       0          1  \n",
       "1                        0      0       0          1  \n",
       "2                        0      0       0          2  \n",
       "3                        0      0       0          3  \n",
       "4                        0      0       0          3  "
      ]
     },
     "execution_count": 41,
     "metadata": {},
     "output_type": "execute_result"
    }
   ],
   "source": [
    "covid_india_raw = pd.read_csv('covid-19-india-datasets/covid_19_india.csv')\n",
    "covid_india_raw.head(5)"
   ]
  },
  {
   "cell_type": "code",
   "execution_count": 42,
   "id": "220454b2",
   "metadata": {},
   "outputs": [
    {
     "data": {
      "text/plain": [
       "(18110, 9)"
      ]
     },
     "execution_count": 42,
     "metadata": {},
     "output_type": "execute_result"
    }
   ],
   "source": [
    "covid_india_raw.shape"
   ]
  },
  {
   "cell_type": "code",
   "execution_count": 43,
   "id": "70d2b33b",
   "metadata": {},
   "outputs": [
    {
     "data": {
      "text/plain": [
       "Sno                          int64\n",
       "Date                        object\n",
       "Time                        object\n",
       "State/UnionTerritory        object\n",
       "ConfirmedIndianNational     object\n",
       "ConfirmedForeignNational    object\n",
       "Cured                        int64\n",
       "Deaths                       int64\n",
       "Confirmed                    int64\n",
       "dtype: object"
      ]
     },
     "execution_count": 43,
     "metadata": {},
     "output_type": "execute_result"
    }
   ],
   "source": [
    "#check data types in dataframe\n",
    "covid_india_raw.dtypes"
   ]
  },
  {
   "cell_type": "markdown",
   "id": "a8a1acca",
   "metadata": {},
   "source": [
    "* Plot the month-on-month Covid positive numbers state wise\n",
    "* Display the top 3 states for the month of June."
   ]
  },
  {
   "cell_type": "code",
   "execution_count": 45,
   "id": "b9321f92",
   "metadata": {},
   "outputs": [
    {
     "data": {
      "text/html": [
       "<div>\n",
       "<style scoped>\n",
       "    .dataframe tbody tr th:only-of-type {\n",
       "        vertical-align: middle;\n",
       "    }\n",
       "\n",
       "    .dataframe tbody tr th {\n",
       "        vertical-align: top;\n",
       "    }\n",
       "\n",
       "    .dataframe thead th {\n",
       "        text-align: right;\n",
       "    }\n",
       "</style>\n",
       "<table border=\"1\" class=\"dataframe\">\n",
       "  <thead>\n",
       "    <tr style=\"text-align: right;\">\n",
       "      <th></th>\n",
       "      <th>Sno</th>\n",
       "      <th>Date</th>\n",
       "      <th>Time</th>\n",
       "      <th>State/UnionTerritory</th>\n",
       "      <th>ConfirmedIndianNational</th>\n",
       "      <th>ConfirmedForeignNational</th>\n",
       "      <th>Cured</th>\n",
       "      <th>Deaths</th>\n",
       "      <th>Confirmed</th>\n",
       "      <th>month</th>\n",
       "      <th>month_two_digits</th>\n",
       "      <th>year_week</th>\n",
       "      <th>year_month</th>\n",
       "    </tr>\n",
       "  </thead>\n",
       "  <tbody>\n",
       "    <tr>\n",
       "      <th>0</th>\n",
       "      <td>1</td>\n",
       "      <td>2020-01-30</td>\n",
       "      <td>6:00 PM</td>\n",
       "      <td>Kerala</td>\n",
       "      <td>1</td>\n",
       "      <td>0</td>\n",
       "      <td>0</td>\n",
       "      <td>0</td>\n",
       "      <td>1</td>\n",
       "      <td>2020-01</td>\n",
       "      <td>01</td>\n",
       "      <td>2020-04</td>\n",
       "      <td>2020_01</td>\n",
       "    </tr>\n",
       "    <tr>\n",
       "      <th>1</th>\n",
       "      <td>2</td>\n",
       "      <td>2020-01-31</td>\n",
       "      <td>6:00 PM</td>\n",
       "      <td>Kerala</td>\n",
       "      <td>1</td>\n",
       "      <td>0</td>\n",
       "      <td>0</td>\n",
       "      <td>0</td>\n",
       "      <td>1</td>\n",
       "      <td>2020-01</td>\n",
       "      <td>01</td>\n",
       "      <td>2020-04</td>\n",
       "      <td>2020_01</td>\n",
       "    </tr>\n",
       "    <tr>\n",
       "      <th>2</th>\n",
       "      <td>3</td>\n",
       "      <td>2020-02-01</td>\n",
       "      <td>6:00 PM</td>\n",
       "      <td>Kerala</td>\n",
       "      <td>2</td>\n",
       "      <td>0</td>\n",
       "      <td>0</td>\n",
       "      <td>0</td>\n",
       "      <td>2</td>\n",
       "      <td>2020-02</td>\n",
       "      <td>02</td>\n",
       "      <td>2020-04</td>\n",
       "      <td>2020_02</td>\n",
       "    </tr>\n",
       "    <tr>\n",
       "      <th>3</th>\n",
       "      <td>4</td>\n",
       "      <td>2020-02-02</td>\n",
       "      <td>6:00 PM</td>\n",
       "      <td>Kerala</td>\n",
       "      <td>3</td>\n",
       "      <td>0</td>\n",
       "      <td>0</td>\n",
       "      <td>0</td>\n",
       "      <td>3</td>\n",
       "      <td>2020-02</td>\n",
       "      <td>02</td>\n",
       "      <td>2020-05</td>\n",
       "      <td>2020_02</td>\n",
       "    </tr>\n",
       "    <tr>\n",
       "      <th>4</th>\n",
       "      <td>5</td>\n",
       "      <td>2020-02-03</td>\n",
       "      <td>6:00 PM</td>\n",
       "      <td>Kerala</td>\n",
       "      <td>3</td>\n",
       "      <td>0</td>\n",
       "      <td>0</td>\n",
       "      <td>0</td>\n",
       "      <td>3</td>\n",
       "      <td>2020-02</td>\n",
       "      <td>02</td>\n",
       "      <td>2020-05</td>\n",
       "      <td>2020_02</td>\n",
       "    </tr>\n",
       "  </tbody>\n",
       "</table>\n",
       "</div>"
      ],
      "text/plain": [
       "   Sno       Date     Time State/UnionTerritory ConfirmedIndianNational  \\\n",
       "0    1 2020-01-30  6:00 PM               Kerala                       1   \n",
       "1    2 2020-01-31  6:00 PM               Kerala                       1   \n",
       "2    3 2020-02-01  6:00 PM               Kerala                       2   \n",
       "3    4 2020-02-02  6:00 PM               Kerala                       3   \n",
       "4    5 2020-02-03  6:00 PM               Kerala                       3   \n",
       "\n",
       "  ConfirmedForeignNational  Cured  Deaths  Confirmed    month  \\\n",
       "0                        0      0       0          1  2020-01   \n",
       "1                        0      0       0          1  2020-01   \n",
       "2                        0      0       0          2  2020-02   \n",
       "3                        0      0       0          3  2020-02   \n",
       "4                        0      0       0          3  2020-02   \n",
       "\n",
       "  month_two_digits year_week year_month  \n",
       "0               01   2020-04    2020_01  \n",
       "1               01   2020-04    2020_01  \n",
       "2               02   2020-04    2020_02  \n",
       "3               02   2020-05    2020_02  \n",
       "4               02   2020-05    2020_02  "
      ]
     },
     "execution_count": 45,
     "metadata": {},
     "output_type": "execute_result"
    }
   ],
   "source": [
    "#convert column to date\n",
    "covid_india_raw['Date'] = pd.to_datetime(covid_india_raw['Date'])\n",
    "#year_month\n",
    "covid_india_raw['month'] = pd.to_datetime(covid_india_raw['Date']).dt.to_period('M')\n",
    "#or \n",
    "covid_india_raw['year_month'] = covid_india_raw['Date'].dt.strftime('%Y_%m')\n",
    "#or\n",
    "covid_india_raw['month_two_digits'] = covid_india_raw['Date'].dt.strftime('%m')\n",
    "\n",
    "\n",
    "#year_week\n",
    "#'%U' represents the week number of the year (Sunday as the first day of the week) \n",
    "#as a zero padded decimal number. All days in a new year preceding the first Sunday \n",
    "#are considered to be in week 0. alternative is %V\n",
    "covid_india_raw['year_week'] = covid_india_raw['Date'].dt.strftime('%Y-%U')\n",
    "\n",
    "covid_india_raw.head(5)"
   ]
  },
  {
   "cell_type": "code",
   "execution_count": 29,
   "id": "de135379",
   "metadata": {},
   "outputs": [
    {
     "data": {
      "text/html": [
       "<div>\n",
       "<style scoped>\n",
       "    .dataframe tbody tr th:only-of-type {\n",
       "        vertical-align: middle;\n",
       "    }\n",
       "\n",
       "    .dataframe tbody tr th {\n",
       "        vertical-align: top;\n",
       "    }\n",
       "\n",
       "    .dataframe thead th {\n",
       "        text-align: right;\n",
       "    }\n",
       "</style>\n",
       "<table border=\"1\" class=\"dataframe\">\n",
       "  <thead>\n",
       "    <tr style=\"text-align: right;\">\n",
       "      <th></th>\n",
       "      <th>State/UnionTerritory</th>\n",
       "      <th>year_month</th>\n",
       "      <th>Confirmed</th>\n",
       "    </tr>\n",
       "  </thead>\n",
       "  <tbody>\n",
       "    <tr>\n",
       "      <th>0</th>\n",
       "      <td>Andaman and Nicobar Islands</td>\n",
       "      <td>2020-03</td>\n",
       "      <td>36</td>\n",
       "    </tr>\n",
       "    <tr>\n",
       "      <th>1</th>\n",
       "      <td>Andaman and Nicobar Islands</td>\n",
       "      <td>2020-04</td>\n",
       "      <td>485</td>\n",
       "    </tr>\n",
       "    <tr>\n",
       "      <th>2</th>\n",
       "      <td>Andaman and Nicobar Islands</td>\n",
       "      <td>2020-05</td>\n",
       "      <td>1023</td>\n",
       "    </tr>\n",
       "    <tr>\n",
       "      <th>3</th>\n",
       "      <td>Andaman and Nicobar Islands</td>\n",
       "      <td>2020-06</td>\n",
       "      <td>1352</td>\n",
       "    </tr>\n",
       "    <tr>\n",
       "      <th>4</th>\n",
       "      <td>Andaman and Nicobar Islands</td>\n",
       "      <td>2020-07</td>\n",
       "      <td>6372</td>\n",
       "    </tr>\n",
       "  </tbody>\n",
       "</table>\n",
       "</div>"
      ],
      "text/plain": [
       "          State/UnionTerritory year_month  Confirmed\n",
       "0  Andaman and Nicobar Islands    2020-03         36\n",
       "1  Andaman and Nicobar Islands    2020-04        485\n",
       "2  Andaman and Nicobar Islands    2020-05       1023\n",
       "3  Andaman and Nicobar Islands    2020-06       1352\n",
       "4  Andaman and Nicobar Islands    2020-07       6372"
      ]
     },
     "execution_count": 29,
     "metadata": {},
     "output_type": "execute_result"
    }
   ],
   "source": [
    "monthly_by_state = covid_india_raw.groupby(by=['State/UnionTerritory','year_month'], sort=True).agg({'Confirmed':'sum'}).reset_index()\n",
    "monthly_by_state.head()"
   ]
  },
  {
   "cell_type": "code",
   "execution_count": 31,
   "id": "93c7ac68",
   "metadata": {},
   "outputs": [
    {
     "data": {
      "image/png": "[encoded data removed]",
      "text/plain": [
       "<Figure size 1152x864 with 1 Axes>"
      ]
     },
     "metadata": {
      "needs_background": "light"
     },
     "output_type": "display_data"
    }
   ],
   "source": [
    "fig, ax = plt.subplots(figsize=(16,12));\n",
    "\n",
    "sns.pointplot(x='year_month', y='Confirmed', hue='State/UnionTerritory', data=monthly_by_state, ax=ax)\n",
    "ax.tick_params(axis='x', rotation=45)\n",
    "ax.grid()\n",
    "#take legend outside of graph\n",
    "plt.legend(bbox_to_anchor=(1.05, 1), loc='upper left', borderaxespad=0)\n",
    "\n",
    "plt.show()"
   ]
  },
  {
   "cell_type": "code",
   "execution_count": 48,
   "id": "e0fb15f9",
   "metadata": {},
   "outputs": [
    {
     "data": {
      "text/html": [
       "<div>\n",
       "<style scoped>\n",
       "    .dataframe tbody tr th:only-of-type {\n",
       "        vertical-align: middle;\n",
       "    }\n",
       "\n",
       "    .dataframe tbody tr th {\n",
       "        vertical-align: top;\n",
       "    }\n",
       "\n",
       "    .dataframe thead th {\n",
       "        text-align: right;\n",
       "    }\n",
       "</style>\n",
       "<table border=\"1\" class=\"dataframe\">\n",
       "  <thead>\n",
       "    <tr style=\"text-align: right;\">\n",
       "      <th></th>\n",
       "      <th>State/UnionTerritory</th>\n",
       "      <th>year_month</th>\n",
       "      <th>Confirmed</th>\n",
       "    </tr>\n",
       "  </thead>\n",
       "  <tbody>\n",
       "    <tr>\n",
       "      <th>1</th>\n",
       "      <td>Maharashtra</td>\n",
       "      <td>2021-06</td>\n",
       "      <td>177421994</td>\n",
       "    </tr>\n",
       "    <tr>\n",
       "      <th>2</th>\n",
       "      <td>Karnataka</td>\n",
       "      <td>2021-06</td>\n",
       "      <td>82689874</td>\n",
       "    </tr>\n",
       "    <tr>\n",
       "      <th>3</th>\n",
       "      <td>Kerala</td>\n",
       "      <td>2021-06</td>\n",
       "      <td>82082292</td>\n",
       "    </tr>\n",
       "  </tbody>\n",
       "</table>\n",
       "</div>"
      ],
      "text/plain": [
       "  State/UnionTerritory year_month  Confirmed\n",
       "1          Maharashtra    2021-06  177421994\n",
       "2            Karnataka    2021-06   82689874\n",
       "3               Kerala    2021-06   82082292"
      ]
     },
     "execution_count": 48,
     "metadata": {},
     "output_type": "execute_result"
    }
   ],
   "source": [
    "#top 3 for month June 2021 \n",
    "top_3 = (monthly_by_state[monthly_by_state['year_month'] == '2021-06']\n",
    " .sort_values(by=['Confirmed'], ascending=False)\n",
    " .reset_index()\n",
    " .drop('index', axis=1)\n",
    " .head(3)\n",
    ")\n",
    "\n",
    "#start index at 1\n",
    "top_3.index = top_3.index + 1\n",
    "top_3"
   ]
  },
  {
   "cell_type": "markdown",
   "id": "72d16afb",
   "metadata": {},
   "source": [
    "* Create a dummy Dataset that has sensor values"
   ]
  },
  {
   "cell_type": "code",
   "execution_count": 103,
   "id": "1e2df741",
   "metadata": {},
   "outputs": [
    {
     "data": {
      "text/html": [
       "<div>\n",
       "<style scoped>\n",
       "    .dataframe tbody tr th:only-of-type {\n",
       "        vertical-align: middle;\n",
       "    }\n",
       "\n",
       "    .dataframe tbody tr th {\n",
       "        vertical-align: top;\n",
       "    }\n",
       "\n",
       "    .dataframe thead th {\n",
       "        text-align: right;\n",
       "    }\n",
       "</style>\n",
       "<table border=\"1\" class=\"dataframe\">\n",
       "  <thead>\n",
       "    <tr style=\"text-align: right;\">\n",
       "      <th></th>\n",
       "      <th>Timestamp</th>\n",
       "      <th>Pressure (sensor 1)</th>\n",
       "    </tr>\n",
       "  </thead>\n",
       "  <tbody>\n",
       "    <tr>\n",
       "      <th>0</th>\n",
       "      <td>12-Dec 2019 00:11:03 am</td>\n",
       "      <td>11</td>\n",
       "    </tr>\n",
       "    <tr>\n",
       "      <th>1</th>\n",
       "      <td>21-Dec 2019 11:10:03 pm</td>\n",
       "      <td>10</td>\n",
       "    </tr>\n",
       "    <tr>\n",
       "      <th>2</th>\n",
       "      <td>01-Jan 2020 10:13:53 pm</td>\n",
       "      <td>13</td>\n",
       "    </tr>\n",
       "    <tr>\n",
       "      <th>3</th>\n",
       "      <td>02-Jan 2020 08:11:07 am</td>\n",
       "      <td>21</td>\n",
       "    </tr>\n",
       "  </tbody>\n",
       "</table>\n",
       "</div>"
      ],
      "text/plain": [
       "                 Timestamp  Pressure (sensor 1)\n",
       "0  12-Dec 2019 00:11:03 am                   11\n",
       "1  21-Dec 2019 11:10:03 pm                   10\n",
       "2  01-Jan 2020 10:13:53 pm                   13\n",
       "3  02-Jan 2020 08:11:07 am                   21"
      ]
     },
     "execution_count": 103,
     "metadata": {},
     "output_type": "execute_result"
    }
   ],
   "source": [
    "df1 = pd.DataFrame()\n",
    "df1['Timestamp'] = ['12-Dec 2019 00:11:03 am', '21-Dec 2019 11:10:03 pm', '01-Jan 2020 10:13:53 pm', '02-Jan 2020 08:11:07 am']\n",
    "df1['Pressure (sensor 1)'] = [11,10,13,21]\n",
    "df1"
   ]
  },
  {
   "cell_type": "code",
   "execution_count": 104,
   "id": "97a37643",
   "metadata": {},
   "outputs": [
    {
     "data": {
      "text/html": [
       "<div>\n",
       "<style scoped>\n",
       "    .dataframe tbody tr th:only-of-type {\n",
       "        vertical-align: middle;\n",
       "    }\n",
       "\n",
       "    .dataframe tbody tr th {\n",
       "        vertical-align: top;\n",
       "    }\n",
       "\n",
       "    .dataframe thead th {\n",
       "        text-align: right;\n",
       "    }\n",
       "</style>\n",
       "<table border=\"1\" class=\"dataframe\">\n",
       "  <thead>\n",
       "    <tr style=\"text-align: right;\">\n",
       "      <th></th>\n",
       "      <th>Timestamp</th>\n",
       "      <th>Temperature (sensor 2)</th>\n",
       "    </tr>\n",
       "  </thead>\n",
       "  <tbody>\n",
       "    <tr>\n",
       "      <th>0</th>\n",
       "      <td>14/12/2019 00:11:03:563</td>\n",
       "      <td>100</td>\n",
       "    </tr>\n",
       "    <tr>\n",
       "      <th>1</th>\n",
       "      <td>21/12/2019 21:10:03:098</td>\n",
       "      <td>130</td>\n",
       "    </tr>\n",
       "    <tr>\n",
       "      <th>2</th>\n",
       "      <td>02/01/2020 10:13:53:234</td>\n",
       "      <td>132</td>\n",
       "    </tr>\n",
       "    <tr>\n",
       "      <th>3</th>\n",
       "      <td>02/01/2020 18:11:07:567</td>\n",
       "      <td>213</td>\n",
       "    </tr>\n",
       "  </tbody>\n",
       "</table>\n",
       "</div>"
      ],
      "text/plain": [
       "                 Timestamp  Temperature (sensor 2)\n",
       "0  14/12/2019 00:11:03:563                     100\n",
       "1  21/12/2019 21:10:03:098                     130\n",
       "2  02/01/2020 10:13:53:234                     132\n",
       "3  02/01/2020 18:11:07:567                     213"
      ]
     },
     "execution_count": 104,
     "metadata": {},
     "output_type": "execute_result"
    }
   ],
   "source": [
    "df2 = pd.DataFrame()\n",
    "df2['Timestamp'] = ['14/12/2019 00:11:03:563', '21/12/2019 21:10:03:098', '02/01/2020 10:13:53:234', '02/01/2020 18:11:07:567' ]\n",
    "df2['Temperature (sensor 2)'] = [100,130,132,213]\n",
    "df2"
   ]
  },
  {
   "cell_type": "code",
   "execution_count": 106,
   "id": "a3552031",
   "metadata": {},
   "outputs": [],
   "source": [
    "df1['new_date'] = pd.to_datetime(df1['Timestamp'], format='%d-%b %Y %H:%M:%S %p').dt.strftime('%Y-%m-%d')\n",
    "df2['new_date'] = pd.to_datetime(df2['Timestamp'], format='%d/%m/%Y %H:%M:%S:%f').dt.strftime('%Y-%m-%d')\n",
    "\n",
    "df1 = df1[['new_date', 'Pressure (sensor 1)']]\n",
    "df2 = df2[['new_date', 'Temperature (sensor 2)']]"
   ]
  },
  {
   "cell_type": "markdown",
   "id": "f84291e5",
   "metadata": {},
   "source": [
    "### Date String Formats\n",
    "https://docs.python.org/3/library/datetime.html"
   ]
  },
  {
   "cell_type": "code",
   "execution_count": 107,
   "id": "248b87e6",
   "metadata": {},
   "outputs": [
    {
     "data": {
      "text/html": [
       "<div>\n",
       "<style scoped>\n",
       "    .dataframe tbody tr th:only-of-type {\n",
       "        vertical-align: middle;\n",
       "    }\n",
       "\n",
       "    .dataframe tbody tr th {\n",
       "        vertical-align: top;\n",
       "    }\n",
       "\n",
       "    .dataframe thead th {\n",
       "        text-align: right;\n",
       "    }\n",
       "</style>\n",
       "<table border=\"1\" class=\"dataframe\">\n",
       "  <thead>\n",
       "    <tr style=\"text-align: right;\">\n",
       "      <th></th>\n",
       "      <th>new_date</th>\n",
       "      <th>Temperature (sensor 2)</th>\n",
       "    </tr>\n",
       "  </thead>\n",
       "  <tbody>\n",
       "    <tr>\n",
       "      <th>0</th>\n",
       "      <td>2019-12-14</td>\n",
       "      <td>100</td>\n",
       "    </tr>\n",
       "    <tr>\n",
       "      <th>1</th>\n",
       "      <td>2019-12-21</td>\n",
       "      <td>130</td>\n",
       "    </tr>\n",
       "    <tr>\n",
       "      <th>2</th>\n",
       "      <td>2020-01-02</td>\n",
       "      <td>132</td>\n",
       "    </tr>\n",
       "    <tr>\n",
       "      <th>3</th>\n",
       "      <td>2020-01-02</td>\n",
       "      <td>213</td>\n",
       "    </tr>\n",
       "  </tbody>\n",
       "</table>\n",
       "</div>"
      ],
      "text/plain": [
       "     new_date  Temperature (sensor 2)\n",
       "0  2019-12-14                     100\n",
       "1  2019-12-21                     130\n",
       "2  2020-01-02                     132\n",
       "3  2020-01-02                     213"
      ]
     },
     "execution_count": 107,
     "metadata": {},
     "output_type": "execute_result"
    }
   ],
   "source": [
    "df2"
   ]
  },
  {
   "cell_type": "code",
   "execution_count": 108,
   "id": "f1be050e",
   "metadata": {},
   "outputs": [
    {
     "data": {
      "text/plain": [
       "new_date                  object\n",
       "Temperature (sensor 2)     int64\n",
       "dtype: object"
      ]
     },
     "execution_count": 108,
     "metadata": {},
     "output_type": "execute_result"
    }
   ],
   "source": [
    "df2.dtypes"
   ]
  },
  {
   "cell_type": "code",
   "execution_count": 109,
   "id": "19442d2d",
   "metadata": {},
   "outputs": [
    {
     "data": {
      "text/plain": [
       "new_date               object\n",
       "Pressure (sensor 1)     int64\n",
       "dtype: object"
      ]
     },
     "execution_count": 109,
     "metadata": {},
     "output_type": "execute_result"
    }
   ],
   "source": [
    "df1.dtypes"
   ]
  },
  {
   "cell_type": "code",
   "execution_count": 122,
   "id": "ac364ab6",
   "metadata": {},
   "outputs": [
    {
     "data": {
      "text/html": [
       "<div>\n",
       "<style scoped>\n",
       "    .dataframe tbody tr th:only-of-type {\n",
       "        vertical-align: middle;\n",
       "    }\n",
       "\n",
       "    .dataframe tbody tr th {\n",
       "        vertical-align: top;\n",
       "    }\n",
       "\n",
       "    .dataframe thead th {\n",
       "        text-align: right;\n",
       "    }\n",
       "</style>\n",
       "<table border=\"1\" class=\"dataframe\">\n",
       "  <thead>\n",
       "    <tr style=\"text-align: right;\">\n",
       "      <th></th>\n",
       "      <th>new_date</th>\n",
       "      <th>Pressure (sensor 1)</th>\n",
       "      <th>Temperature (sensor 2)</th>\n",
       "      <th>ratio</th>\n",
       "    </tr>\n",
       "  </thead>\n",
       "  <tbody>\n",
       "    <tr>\n",
       "      <th>3</th>\n",
       "      <td>2020-01-02</td>\n",
       "      <td>21.0</td>\n",
       "      <td>132.0</td>\n",
       "      <td>0.159091</td>\n",
       "    </tr>\n",
       "    <tr>\n",
       "      <th>4</th>\n",
       "      <td>2020-01-02</td>\n",
       "      <td>21.0</td>\n",
       "      <td>213.0</td>\n",
       "      <td>0.098592</td>\n",
       "    </tr>\n",
       "    <tr>\n",
       "      <th>1</th>\n",
       "      <td>2019-12-21</td>\n",
       "      <td>10.0</td>\n",
       "      <td>130.0</td>\n",
       "      <td>0.076923</td>\n",
       "    </tr>\n",
       "    <tr>\n",
       "      <th>0</th>\n",
       "      <td>2019-12-12</td>\n",
       "      <td>11.0</td>\n",
       "      <td>NaN</td>\n",
       "      <td>NaN</td>\n",
       "    </tr>\n",
       "    <tr>\n",
       "      <th>2</th>\n",
       "      <td>2020-01-01</td>\n",
       "      <td>13.0</td>\n",
       "      <td>NaN</td>\n",
       "      <td>NaN</td>\n",
       "    </tr>\n",
       "    <tr>\n",
       "      <th>5</th>\n",
       "      <td>2019-12-14</td>\n",
       "      <td>NaN</td>\n",
       "      <td>100.0</td>\n",
       "      <td>NaN</td>\n",
       "    </tr>\n",
       "  </tbody>\n",
       "</table>\n",
       "</div>"
      ],
      "text/plain": [
       "     new_date  Pressure (sensor 1)  Temperature (sensor 2)     ratio\n",
       "3  2020-01-02                 21.0                   132.0  0.159091\n",
       "4  2020-01-02                 21.0                   213.0  0.098592\n",
       "1  2019-12-21                 10.0                   130.0  0.076923\n",
       "0  2019-12-12                 11.0                     NaN       NaN\n",
       "2  2020-01-01                 13.0                     NaN       NaN\n",
       "5  2019-12-14                  NaN                   100.0       NaN"
      ]
     },
     "execution_count": 122,
     "metadata": {},
     "output_type": "execute_result"
    }
   ],
   "source": [
    "merged_df = df1.merge(df2, on='new_date', how='outer')#.fillna(0.0)\n",
    "merged_df['ratio'] = merged_df['Pressure (sensor 1)']/merged_df['Temperature (sensor 2)']\n",
    "merged_df.sort_values(by=['ratio'], ascending=False)\n",
    "#merged_df"
   ]
  },
  {
   "cell_type": "markdown",
   "id": "677e4852",
   "metadata": {},
   "source": [
    "* Write a code that takes a number from the user and outputs all Fibonacci numbers less than the user input."
   ]
  },
  {
   "cell_type": "markdown",
   "id": "6dd418d2",
   "metadata": {},
   "source": [
    "A Fibonacci sequence is the integer sequence of 0, 1, 1, 2, 3, 5, 8....\n",
    "\n",
    "* The first two terms are 0 and 1. \n",
    "* All other terms are obtained by adding the preceding two terms. This means to say the nth term is the sum of (n-1)th and (n-2)th term."
   ]
  },
  {
   "cell_type": "code",
   "execution_count": 215,
   "id": "f5da8bfb",
   "metadata": {},
   "outputs": [
    {
     "data": {
      "text/plain": [
       "[0, 1, 1, 2, 3, 5, 8, 13, 21, 34]"
      ]
     },
     "execution_count": 215,
     "metadata": {},
     "output_type": "execute_result"
    }
   ],
   "source": [
    "def fibonacci_of(n):\n",
    "    if n in {0, 1}:  # Base case\n",
    "        return n\n",
    "    return fibonacci_of(n - 1) + fibonacci_of(n - 2)  # Recursive case\n",
    "\n",
    "\n",
    "sequence2 = [fibonacci_of(n) for n in range(10)]\n",
    "sequence2\n",
    "#sequence2.remove(input)"
   ]
  },
  {
   "cell_type": "code",
   "execution_count": 216,
   "id": "1dcbd407",
   "metadata": {},
   "outputs": [
    {
     "data": {
      "text/plain": [
       "[0, 2, 3, 5, 8, 13, 21, 34]"
      ]
     },
     "execution_count": 216,
     "metadata": {},
     "output_type": "execute_result"
    }
   ],
   "source": [
    "user_input = 1\n",
    "\n",
    "sequence3 = [i for i in sequence2 if i!=user_input]\n",
    "sequence3"
   ]
  },
  {
   "cell_type": "markdown",
   "id": "ef1afe32",
   "metadata": {},
   "source": [
    "* probability questions\n",
    "https://www.analyticsvidhya.com/blog/2017/04/40-questions-on-probability-for-all-aspiring-data-scientists/"
   ]
  },
  {
   "cell_type": "markdown",
   "id": "716d899e",
   "metadata": {},
   "source": [
    "### Mean, Median and Standard Deviation"
   ]
  },
  {
   "cell_type": "code",
   "execution_count": 264,
   "id": "d9fde9ad",
   "metadata": {},
   "outputs": [],
   "source": [
    "# creating a dataframe \n",
    "df = pd.DataFrame({'ID':[114, 345, 157788, 5626],\n",
    "                   'Product':['shirt', 'trousers', 'tie', 'belt'],\n",
    "                   'Color':['White', 'Black', 'Red', 'Brown'],\n",
    "                   'Discount':[10, 10, 10, 10]})"
   ]
  },
  {
   "cell_type": "code",
   "execution_count": 265,
   "id": "046d4571",
   "metadata": {},
   "outputs": [
    {
     "name": "stderr",
     "output_type": "stream",
     "text": [
      "/var/folders/73/pmvfzdgd5qb8qw5z3_9f6zz00000gn/T/ipykernel_15245/3698961737.py:1: FutureWarning: Dropping of nuisance columns in DataFrame reductions (with 'numeric_only=None') is deprecated; in a future version this will raise TypeError.  Select only valid columns before calling the reduction.\n",
      "  df.mean()\n"
     ]
    },
    {
     "data": {
      "text/plain": [
       "ID          40968.25\n",
       "Discount       10.00\n",
       "dtype: float64"
      ]
     },
     "execution_count": 265,
     "metadata": {},
     "output_type": "execute_result"
    }
   ],
   "source": [
    "#will show mean of numerical values\n",
    "df.mean()"
   ]
  },
  {
   "cell_type": "code",
   "execution_count": 266,
   "id": "e5f4e94b",
   "metadata": {},
   "outputs": [
    {
     "data": {
      "text/plain": [
       "10.0"
      ]
     },
     "execution_count": 266,
     "metadata": {},
     "output_type": "execute_result"
    }
   ],
   "source": [
    "#for specific column\n",
    "df['Discount'].mean()"
   ]
  },
  {
   "cell_type": "code",
   "execution_count": 267,
   "id": "75c52b91",
   "metadata": {},
   "outputs": [
    {
     "data": {
      "text/plain": [
       "10.0"
      ]
     },
     "execution_count": 267,
     "metadata": {},
     "output_type": "execute_result"
    }
   ],
   "source": [
    "df['Discount'].median()"
   ]
  },
  {
   "cell_type": "code",
   "execution_count": 268,
   "id": "877a9f97",
   "metadata": {},
   "outputs": [
    {
     "data": {
      "text/plain": [
       "0.0"
      ]
     },
     "execution_count": 268,
     "metadata": {},
     "output_type": "execute_result"
    }
   ],
   "source": [
    "df['Discount'].std()"
   ]
  },
  {
   "cell_type": "markdown",
   "id": "3c3c7805",
   "metadata": {},
   "source": [
    "## Probabilities"
   ]
  },
  {
   "cell_type": "markdown",
   "id": "a7f75ba0",
   "metadata": {},
   "source": [
    "### Bayes Theorem"
   ]
  },
  {
   "cell_type": "markdown",
   "id": "44418937",
   "metadata": {},
   "source": [
    "* Q1: You're testing for a disease and advertising that the test is 99% accurate; that is if you have the disease, you will test positive 99% of the time, and if you don't have the disease, you will test negative 99% of the time. Let's say that 1% of all people have the disease and someone tests positive. What's the probability that the person has the disease? Select the correct set up for this problem."
   ]
  },
  {
   "cell_type": "markdown",
   "id": "22641a5b",
   "metadata": {},
   "source": [
    "P(A|B) = P(B|A) * P(A) / P(B)"
   ]
  },
  {
   "cell_type": "code",
   "execution_count": 225,
   "id": "80323fc4",
   "metadata": {},
   "outputs": [
    {
     "data": {
      "text/plain": [
       "0.5"
      ]
     },
     "execution_count": 225,
     "metadata": {},
     "output_type": "execute_result"
    }
   ],
   "source": [
    "p_ab=(.99 * 0.01) /( (0.01*0.99)+(0.99*0.01) )\n",
    "p_ab"
   ]
  },
  {
   "cell_type": "code",
   "execution_count": 255,
   "id": "3a30770a",
   "metadata": {},
   "outputs": [
    {
     "data": {
      "text/plain": [
       "0.4999999999999997"
      ]
     },
     "execution_count": 255,
     "metadata": {},
     "output_type": "execute_result"
    }
   ],
   "source": [
    "def bayes_theorem(\n",
    "        prob_th=0.01,\n",
    "        x=0.99,\n",
    "        y=0.99,\n",
    "        prevelance=0.01,\n",
    "        verbose=True):\n",
    "    \"\"\"\n",
    "    Computes the posterior using Bayes' rule\n",
    "    \"\"\"\n",
    "    p_user = prevelance\n",
    "    p_non_user = 1-prevelance\n",
    "    p_pos_user = x\n",
    "    p_neg_user = y\n",
    "    p_pos_non_user = 1-y\n",
    "    \n",
    "    num = p_pos_user*p_user\n",
    "    den = p_pos_user*p_user+p_pos_non_user*p_non_user\n",
    "    \n",
    "    prob = num/den\n",
    "    return prob\n",
    "\n",
    "bayes_theorem(prob_th=0.05)"
   ]
  },
  {
   "cell_type": "markdown",
   "id": "27643493",
   "metadata": {},
   "source": [
    "* Q2: You have two coins in your hand. Out of the two coins, one is a real coin (heads and tails) and the other is a faulty coin with tails on both sides. You are blindfolded and forced to choose a random coin and then toss it in the air. The coin lands with tails facing upwards. Find the probability that this is the faulty coin."
   ]
  },
  {
   "cell_type": "code",
   "execution_count": 231,
   "id": "a6d5e587",
   "metadata": {},
   "outputs": [
    {
     "data": {
      "text/plain": [
       "0.6666666666666666"
      ]
     },
     "execution_count": 231,
     "metadata": {},
     "output_type": "execute_result"
    }
   ],
   "source": [
    "p_tails = 2/4\n",
    "p_faulty = 3/4\n",
    "p_tails_and_faulty = 2/4 #(1/2)*1\n",
    "p_faulty_given_tails = 1*(1/2)/(3/4)\n",
    "p_faulty_given_tails"
   ]
  },
  {
   "cell_type": "code",
   "execution_count": null,
   "id": "18b0031e",
   "metadata": {},
   "outputs": [],
   "source": []
  },
  {
   "cell_type": "markdown",
   "id": "3f5b048f",
   "metadata": {},
   "source": [
    "### Central limit theorem\n",
    "\n",
    "About\n",
    "* when there is large enough sample data (30 or more) the dataset is normally distributed (always true n matter what the population - underlying distribution of data looks like)\n",
    "\n",
    "Why is important?\n",
    "* For A/B testing! It ensures that your sampling mean distribution is a normal distribution, enable us to form hypothesis and do hypothesis testing. So we can measure the likelihood that a given mean came from a specific distribution and based on this you accept or reject your hypothesis.\n",
    "\n",
    "\n",
    "exercises\n",
    "* simulate rolls from a standard dice numbered 1 through 6. \n",
    "* create a small and a large sample\n",
    "* simulate the central limit theorem"
   ]
  },
  {
   "cell_type": "code",
   "execution_count": 245,
   "id": "4136c4e4",
   "metadata": {},
   "outputs": [
    {
     "name": "stdout",
     "output_type": "stream",
     "text": [
      "3.6\n",
      "3.537\n"
     ]
    },
    {
     "data": {
      "image/png": "[encoded data removed]",
      "text/plain": [
       "<Figure size 432x288 with 1 Axes>"
      ]
     },
     "metadata": {
      "needs_background": "light"
     },
     "output_type": "display_data"
    }
   ],
   "source": [
    "from numpy.random import randint\n",
    "import numpy \n",
    "\n",
    "# Create a sample of 10 die rolls\n",
    "small = randint(1, 7, 10)\n",
    "\n",
    "# Calculate and print the mean of the sample\n",
    "small_mean = numpy.mean(small)\n",
    "print(small_mean)\n",
    "\n",
    "# Create a sample of 1000 die rolls\n",
    "large = randint(1, 7, 1000)\n",
    "\n",
    "# Calculate and print the mean of the large sample\n",
    "large_mean = numpy.mean(large)\n",
    "print(large_mean)\n",
    "\n",
    "\n",
    "#simulate central theorem\n",
    "\n",
    "#Create a list named means with 1000 sample means from samples of 30 rolled dice by using list comprehension.\n",
    "# Create a list of 1000 sample means of size 30\n",
    "means = [randint(1, 7, 30).mean() for i in range(1000)]\n",
    "#print(means)\n",
    "\n",
    "#Create and show a histogram of the means using the hist() function; examine the shape of the distribution.\n",
    "# Create and show a histogram of the means\n",
    "plt.hist(means)\n",
    "plt.show()\n",
    "\n",
    "#Adapt your code to visualize only 100 samples in the means list; did the distribution change at all?"
   ]
  },
  {
   "cell_type": "code",
   "execution_count": 246,
   "id": "9431856b",
   "metadata": {},
   "outputs": [
    {
     "data": {
      "image/png": "[encoded data removed]",
      "text/plain": [
       "<Figure size 432x288 with 1 Axes>"
      ]
     },
     "metadata": {
      "needs_background": "light"
     },
     "output_type": "display_data"
    }
   ],
   "source": [
    "#Adapt code to visualize only 100 samples in the means list; did the distribution change at all?\n",
    "from numpy.random import randint\n",
    "import random\n",
    "\n",
    "# Adapt code for 100 samples of size 30\n",
    "means = [randint(1, 7, 30).mean() for i in range(100)]\n",
    "\n",
    "# Create and show a histogram of the means\n",
    "plt.hist(means)\n",
    "plt.show()"
   ]
  },
  {
   "cell_type": "markdown",
   "id": "fad231e4",
   "metadata": {},
   "source": [
    "## Probability distributions\n",
    "\n",
    "### Bernoulli Distribution\n",
    "\n",
    "Generate sample data for a Bernoulli event and then examine the visualization produced.\n",
    "\n",
    "* Generate a sample using the rvs() function with size set to 100; assign it to the data variable."
   ]
  },
  {
   "cell_type": "code",
   "execution_count": 259,
   "id": "663e6ba4",
   "metadata": {},
   "outputs": [
    {
     "data": {
      "image/png": "[encoded data removed]",
      "text/plain": [
       "<Figure size 432x288 with 1 Axes>"
      ]
     },
     "metadata": {
      "needs_background": "light"
     },
     "output_type": "display_data"
    }
   ],
   "source": [
    "# Generate bernoulli data\n",
    "from scipy.stats import bernoulli\n",
    "#p=0.5 because we are looking at a fair coin\n",
    "data = bernoulli.rvs(p=0.5, size=100)\n",
    "\n",
    "# Plot distribution\n",
    "plt.hist(data)\n",
    "plt.show()"
   ]
  },
  {
   "cell_type": "markdown",
   "id": "5ec6268d",
   "metadata": {},
   "source": [
    "### Binomial Distribution"
   ]
  },
  {
   "cell_type": "markdown",
   "id": "c46ee047",
   "metadata": {},
   "source": [
    "about\n",
    "* used to model the number of successful outcomes in trials where there is some consistent probability of success.\n",
    "\n",
    "exercise\n",
    "* consider a game where you are trying to make a ball in a basket. You are given 10 shots and you know that you have an 80% chance of making a given shot. Assume each shot is an independent event. \n",
    "\n",
    "Notes:\n",
    "Assign the probability of making 8 or less shots to prob1.\n",
    "Assign the probability of making all 10 shots to prob2."
   ]
  },
  {
   "cell_type": "code",
   "execution_count": 260,
   "id": "94b1b214",
   "metadata": {},
   "outputs": [
    {
     "data": {
      "image/png": "[encoded data removed]",
      "text/plain": [
       "<Figure size 432x288 with 1 Axes>"
      ]
     },
     "metadata": {
      "needs_background": "light"
     },
     "output_type": "display_data"
    },
    {
     "name": "stdout",
     "output_type": "stream",
     "text": [
      "0.6241903615999999\n",
      "0.10737418240000006\n"
     ]
    }
   ],
   "source": [
    "# Generate binomial data\n",
    "from scipy.stats import binom\n",
    "data = binom.rvs(n=10, p=0.8, size=1000)\n",
    "\n",
    "# Plot the distribution\n",
    "plt.hist(data)\n",
    "plt.show()\n",
    "\n",
    "# Assign and print probability of 8 or less successes\n",
    "prob1 = binom.cdf(k=8, n=10, p=0.8)\n",
    "print(prob1)\n",
    "\n",
    "# Assign and print probability of all 10 successes\n",
    "prob2 = binom.pmf(k=10, n=10, p=0.8)\n",
    "print(prob2)"
   ]
  },
  {
   "cell_type": "markdown",
   "id": "d97da91d",
   "metadata": {},
   "source": [
    "### Normal (Gaussian) distribution\n",
    "\n",
    "exercise\n",
    "* Given a standardized normal distribution, what is the probability of an observation greater than 2?\n",
    "* Looking at our sample, what is the probability of an observation greater than 2?\n"
   ]
  },
  {
   "cell_type": "code",
   "execution_count": 261,
   "id": "5b227d07",
   "metadata": {},
   "outputs": [
    {
     "data": {
      "image/png": "[encoded data removed]",
      "text/plain": [
       "<Figure size 432x288 with 1 Axes>"
      ]
     },
     "metadata": {
      "needs_background": "light"
     },
     "output_type": "display_data"
    },
    {
     "name": "stdout",
     "output_type": "stream",
     "text": [
      "0.02275013194817921\n",
      "0.016\n"
     ]
    }
   ],
   "source": [
    "# Generate normal data\n",
    "from scipy.stats import norm\n",
    "data = norm.rvs(size=1000)\n",
    "\n",
    "# Plot distribution\n",
    "plt.hist(data)\n",
    "plt.show()\n",
    "\n",
    "#Given a standardized normal distribution, what is the probability of an observation greater than 2?\n",
    "# Compute and print true probability for greater than 2\n",
    "true_prob = 1 - norm.cdf(2)\n",
    "print(true_prob)\n",
    "\n",
    "#Looking at our sample, what is the probability of an observation greater than 2?\n",
    "# Compute and sample probability for greater than 2\n",
    "sample_prob = sum(i > 2 for i in data) / len(data)\n",
    "print(sample_prob)"
   ]
  },
  {
   "cell_type": "markdown",
   "id": "dbc9e007",
   "metadata": {},
   "source": [
    "* Q?: Person A decides to go on a sky diving trip. Based on his research, the probability of a glitch resulting in death is 0.001. If A goes on 500 sky dives, what is the probability of death?"
   ]
  },
  {
   "cell_type": "markdown",
   "id": "92b251e6",
   "metadata": {},
   "source": [
    "bayes theorem examples:\n",
    "https://dev.to/xsabzal/conditional-probability-and-bayes-theorem-examples-onk"
   ]
  },
  {
   "cell_type": "markdown",
   "id": "521c82f0",
   "metadata": {},
   "source": [
    "## Pearson Correlation"
   ]
  },
  {
   "cell_type": "code",
   "execution_count": 271,
   "id": "034bbb9d",
   "metadata": {},
   "outputs": [
    {
     "name": "stdout",
     "output_type": "stream",
     "text": [
      "data1: mean=100.776 stdv=19.620\n",
      "data2: mean=151.050 stdv=22.358\n"
     ]
    },
    {
     "data": {
      "image/png": "[encoded data removed]",
      "text/plain": [
       "<Figure size 432x288 with 1 Axes>"
      ]
     },
     "metadata": {
      "needs_background": "light"
     },
     "output_type": "display_data"
    }
   ],
   "source": [
    "# generate related variables\n",
    "from numpy import mean\n",
    "from numpy import std\n",
    "from numpy.random import randn\n",
    "from numpy.random import seed\n",
    "# seed random number generator\n",
    "seed(1)\n",
    "# prepare data (two arrays)\n",
    "data1 = 20 * randn(1000) + 100\n",
    "data2 = data1 + (10 * randn(1000) + 50)\n",
    "# summarize\n",
    "print('data1: mean=%.3f stdv=%.3f' % (mean(data1), std(data1)))\n",
    "print('data2: mean=%.3f stdv=%.3f' % (mean(data2), std(data2)))\n",
    "# plot\n",
    "plt.scatter(data1, data2)\n",
    "plt.show()"
   ]
  },
  {
   "cell_type": "markdown",
   "id": "aee38944",
   "metadata": {},
   "source": [
    "### Calculate covariance"
   ]
  },
  {
   "cell_type": "code",
   "execution_count": 274,
   "id": "ddad4c2d",
   "metadata": {},
   "outputs": [
    {
     "data": {
      "text/plain": [
       "array([[385.33297729, 389.7545618 ],\n",
       "       [389.7545618 , 500.38006058]])"
      ]
     },
     "execution_count": 274,
     "metadata": {},
     "output_type": "execute_result"
    }
   ],
   "source": [
    "covariance = np.cov(data1, data2)\n",
    "covariance"
   ]
  },
  {
   "cell_type": "markdown",
   "id": "66892cfd",
   "metadata": {},
   "source": [
    "Observation: The covariance between the two variables is 389.75. We can see that it is positive, suggesting the variables change in the same direction as we expect."
   ]
  },
  {
   "cell_type": "markdown",
   "id": "d1f7b0a4",
   "metadata": {},
   "source": [
    "### Pearson's correlation"
   ]
  },
  {
   "cell_type": "code",
   "execution_count": 277,
   "id": "8c95dc1d",
   "metadata": {},
   "outputs": [
    {
     "name": "stdout",
     "output_type": "stream",
     "text": [
      "Pearsons correlation: 0.888\n"
     ]
    }
   ],
   "source": [
    "from scipy.stats import pearsonr\n",
    "\n",
    "# calculate Pearson's correlation\n",
    "corr, _ = pearsonr(data1, data2)\n",
    "print('Pearsons correlation: %.3f' % corr)"
   ]
  },
  {
   "cell_type": "markdown",
   "id": "faab4ff6",
   "metadata": {},
   "source": [
    "### Spearman's correlation"
   ]
  },
  {
   "cell_type": "code",
   "execution_count": 278,
   "id": "25c51454",
   "metadata": {},
   "outputs": [
    {
     "name": "stdout",
     "output_type": "stream",
     "text": [
      "Spearmans correlation: 0.872\n"
     ]
    }
   ],
   "source": [
    "from scipy.stats import spearmanr\n",
    "\n",
    "# calculate spearman's correlation\n",
    "corr, _ = spearmanr(data1, data2)\n",
    "print('Spearmans correlation: %.3f' % corr)"
   ]
  },
  {
   "cell_type": "markdown",
   "id": "518cf640",
   "metadata": {},
   "source": [
    "## Confidence Intervals"
   ]
  },
  {
   "cell_type": "code",
   "execution_count": null,
   "id": "e6043e79",
   "metadata": {},
   "outputs": [],
   "source": [
    "import scipy.stats\n",
    "\n",
    "#calculating the 95% confidence interval of data\n",
    "def mean_confidence_interval(data, confidence=0.95):\n",
    "    a = 1.0 * np.array(data)\n",
    "    n = len(a)\n",
    "    m, se = np.mean(a), scipy.stats.sem(a)\n",
    "    h = se * scipy.stats.t.ppf((1 + confidence) / 2., n-1)\n",
    "    return m, m-h, m+h"
   ]
  },
  {
   "cell_type": "code",
   "execution_count": null,
   "id": "c68814b8",
   "metadata": {},
   "outputs": [],
   "source": [
    "#calculating the 95% confidence interval of the mean of array a - alternative to previous:\n",
    "scipy.stats.t.interval(0.95, loc=np.mean(a), scale=st.sem(a))\n"
   ]
  },
  {
   "cell_type": "code",
   "execution_count": 280,
   "id": "32c145ad",
   "metadata": {},
   "outputs": [
    {
     "data": {
      "text/plain": [
       "(-0.2432898570231422, 0.12668779965638471)"
      ]
     },
     "execution_count": 280,
     "metadata": {},
     "output_type": "execute_result"
    }
   ],
   "source": [
    "#alternative to estimate confidence interval\n",
    "from scipy.stats import t\n",
    "x = np.random.normal(size=100)\n",
    "m = x.mean()\n",
    "s = x.std()\n",
    "dof = len(x)-1\n",
    "confidence = 0.95\n",
    "t_crit = np.abs(t.ppf((1-confidence)/2,dof))\n",
    "(m-s*t_crit/np.sqrt(len(x)), m+s*t_crit/np.sqrt(len(x)))\n"
   ]
  },
  {
   "cell_type": "markdown",
   "id": "616e513d",
   "metadata": {},
   "source": [
    "### One sample z-test"
   ]
  },
  {
   "cell_type": "code",
   "execution_count": 281,
   "id": "ec85332a",
   "metadata": {},
   "outputs": [
    {
     "data": {
      "text/plain": [
       "(1.5976240527147705, 0.1101266701438426)"
      ]
     },
     "execution_count": 281,
     "metadata": {},
     "output_type": "execute_result"
    }
   ],
   "source": [
    "from statsmodels.stats.weightstats import ztest as ztest\n",
    "data = [88, 92, 94, 94, 96, 97, 97, 97, 99, 99,\n",
    "        105, 109, 109, 109, 110, 112, 112, 113, 114, 115]\n",
    "\n",
    "#perform one sample z-test\n",
    "ztest(data, value=100)"
   ]
  },
  {
   "cell_type": "markdown",
   "id": "d86a63d9",
   "metadata": {},
   "source": [
    "The test statistic for the one sample z-test is 1.5976 and the corresponding p-value is 0.1101.\n",
    "\n",
    "Since this p-value is not less than .05, we do not have sufficient evidence to reject the null hypothesis. In other words, x does not significantly affect y (with y been the output after applying x)."
   ]
  },
  {
   "cell_type": "markdown",
   "id": "7ab470b4",
   "metadata": {},
   "source": [
    "### Two sample z-test"
   ]
  },
  {
   "cell_type": "code",
   "execution_count": 282,
   "id": "6b7dccb7",
   "metadata": {},
   "outputs": [
    {
     "data": {
      "text/plain": [
       "(-1.9953236073282115, 0.046007596761332065)"
      ]
     },
     "execution_count": 282,
     "metadata": {},
     "output_type": "execute_result"
    }
   ],
   "source": [
    "from statsmodels.stats.weightstats import ztest as ztest\n",
    "\n",
    "#enter IQ levels for 20 individuals from each city\n",
    "sample_a = [82, 84, 85, 89, 91, 91, 92, 94, 99, 99,\n",
    "         105, 109, 109, 109, 110, 112, 112, 113, 114, 114]\n",
    "\n",
    "sample_b = [90, 91, 91, 91, 95, 95, 99, 99, 108, 109,\n",
    "         109, 114, 115, 116, 117, 117, 128, 129, 130, 133]\n",
    "\n",
    "#perform two sample z-test\n",
    "ztest(sample_a, sample_b, value=0) \n",
    "\n"
   ]
  },
  {
   "cell_type": "markdown",
   "id": "accf69aa",
   "metadata": {},
   "source": [
    "The test statistic for the two sample z-test is -1.9953 and the corresponding p-value is 0.0460.\n",
    "\n",
    "Since this p-value is less than .05, we have sufficient evidence to reject the null hypothesis. In other words, the mean IQ level is significantly different between the two cities."
   ]
  },
  {
   "cell_type": "markdown",
   "id": "1ecbd9b3",
   "metadata": {},
   "source": [
    "## T-test\n",
    "\n",
    "Hypotheses\n",
    "Now, when performing t-tests you typically have the following two hypotheses:\n",
    "\n",
    "Null hypotheses: Two group means are equal\n",
    "Alternative hypotheses: Two group means are different (two-tailed)\n",
    "\n",
    "Assumption 1: Are the two samples independent?\n",
    "Assumption 2: Are the data from each of the 2 groups following a normal distribution?\n",
    "Assumption 3: Do the two samples have the same variances (Homogeneity of Variance)?"
   ]
  },
  {
   "cell_type": "code",
   "execution_count": 283,
   "id": "a06d1e22",
   "metadata": {},
   "outputs": [
    {
     "data": {
      "text/html": [
       "<div>\n",
       "<style scoped>\n",
       "    .dataframe tbody tr th:only-of-type {\n",
       "        vertical-align: middle;\n",
       "    }\n",
       "\n",
       "    .dataframe tbody tr th {\n",
       "        vertical-align: top;\n",
       "    }\n",
       "\n",
       "    .dataframe thead th {\n",
       "        text-align: right;\n",
       "    }\n",
       "</style>\n",
       "<table border=\"1\" class=\"dataframe\">\n",
       "  <thead>\n",
       "    <tr style=\"text-align: right;\">\n",
       "      <th></th>\n",
       "      <th>grouping</th>\n",
       "      <th>height</th>\n",
       "    </tr>\n",
       "  </thead>\n",
       "  <tbody>\n",
       "    <tr>\n",
       "      <th>0</th>\n",
       "      <td>men</td>\n",
       "      <td>181.5</td>\n",
       "    </tr>\n",
       "    <tr>\n",
       "      <th>1</th>\n",
       "      <td>men</td>\n",
       "      <td>187.3</td>\n",
       "    </tr>\n",
       "    <tr>\n",
       "      <th>2</th>\n",
       "      <td>men</td>\n",
       "      <td>175.3</td>\n",
       "    </tr>\n",
       "    <tr>\n",
       "      <th>3</th>\n",
       "      <td>men</td>\n",
       "      <td>178.3</td>\n",
       "    </tr>\n",
       "    <tr>\n",
       "      <th>4</th>\n",
       "      <td>men</td>\n",
       "      <td>169.0</td>\n",
       "    </tr>\n",
       "  </tbody>\n",
       "</table>\n",
       "</div>"
      ],
      "text/plain": [
       "  grouping  height\n",
       "0      men   181.5\n",
       "1      men   187.3\n",
       "2      men   175.3\n",
       "3      men   178.3\n",
       "4      men   169.0"
      ]
     },
     "execution_count": 283,
     "metadata": {},
     "output_type": "execute_result"
    }
   ],
   "source": [
    "example_data = 'https://gist.githubusercontent.com/baskaufs/1a7a995c1b25d6e88b45/raw/4bb17ccc5c1e62c27627833a4f25380f27d30b35/t-test.csv'\n",
    "df = pd.read_csv(example_data)\n",
    "\n",
    "df.head()"
   ]
  },
  {
   "cell_type": "code",
   "execution_count": 287,
   "id": "94feac44",
   "metadata": {},
   "outputs": [
    {
     "name": "stdout",
     "output_type": "stream",
     "text": [
      "ShapiroResult(statistic=0.9550848603248596, pvalue=0.7756242156028748)\n",
      "ShapiroResult(statistic=0.9197608828544617, pvalue=0.467536598443985)\n",
      "LeveneResult(statistic=0.026695150465104206, pvalue=0.8729335280501348)\n"
     ]
    }
   ],
   "source": [
    "#checking data\n",
    "\n",
    "import scipy\n",
    "# Subset data\n",
    "male = df.query('grouping == \"men\"')['height']\n",
    "female = df.query('grouping == \"women\"')['height']\n",
    "#Checking the Normality of Data\n",
    "print(scipy.stats.shapiro(male))\n",
    "print(scipy.stats.shapiro(female))\n",
    "#Checking the Homogeneity of Variances Assumption in Python\n",
    "print(scipy.stats.levene(male, female))"
   ]
  },
  {
   "cell_type": "markdown",
   "id": "b0ab91b5",
   "metadata": {},
   "source": [
    "observations:\n",
    "\n",
    "* shapiro results: null hypothesis is that the data follows a normal distribution. Thus, we can infer that the data from both groups is normally distributed.\n",
    "* p-value suggests that the data follows the assumption of equal variances. If data does not fulfill the assumption of equal variances, we can use Welch’s t-test instead of t-test."
   ]
  },
  {
   "cell_type": "code",
   "execution_count": 290,
   "id": "5b37d2d8",
   "metadata": {},
   "outputs": [
    {
     "data": {
      "text/plain": [
       "Ttest_indResult(statistic=2.765444762721087, pvalue=0.017105701528166175)"
      ]
     },
     "metadata": {},
     "output_type": "display_data"
    }
   ],
   "source": [
    "#performing t-test\n",
    "res = scipy.stats.ttest_ind(male, female, \n",
    "                      equal_var=True)\n",
    "\n",
    "display(res)\n",
    "\n",
    "#note:  If data violate the second assumption (equal variances) set the equal_var parameter to False.\n"
   ]
  },
  {
   "cell_type": "code",
   "execution_count": 291,
   "id": "12a5e7e6",
   "metadata": {},
   "outputs": [
    {
     "data": {
      "text/plain": [
       "(2.7654447627210694, 0.017105701528166727, 12.0)"
      ]
     },
     "execution_count": 291,
     "metadata": {},
     "output_type": "execute_result"
    }
   ],
   "source": [
    "#alternative with statsmodel\n",
    "from statsmodels.stats.weightstats import ttest_ind\n",
    "\n",
    "ttest_ind(male, female)"
   ]
  },
  {
   "cell_type": "code",
   "execution_count": 295,
   "id": "3a110e04",
   "metadata": {},
   "outputs": [
    {
     "data": {
      "text/html": [
       "<div>\n",
       "<style scoped>\n",
       "    .dataframe tbody tr th:only-of-type {\n",
       "        vertical-align: middle;\n",
       "    }\n",
       "\n",
       "    .dataframe tbody tr th {\n",
       "        vertical-align: top;\n",
       "    }\n",
       "\n",
       "    .dataframe thead th {\n",
       "        text-align: right;\n",
       "    }\n",
       "</style>\n",
       "<table border=\"1\" class=\"dataframe\">\n",
       "  <thead>\n",
       "    <tr style=\"text-align: right;\">\n",
       "      <th></th>\n",
       "      <th>T</th>\n",
       "      <th>dof</th>\n",
       "      <th>alternative</th>\n",
       "      <th>p-val</th>\n",
       "      <th>CI95%</th>\n",
       "      <th>cohen-d</th>\n",
       "      <th>BF10</th>\n",
       "      <th>power</th>\n",
       "    </tr>\n",
       "  </thead>\n",
       "  <tbody>\n",
       "    <tr>\n",
       "      <th>T-test</th>\n",
       "      <td>2.765445</td>\n",
       "      <td>12</td>\n",
       "      <td>two-sided</td>\n",
       "      <td>0.017106</td>\n",
       "      <td>[1.87, 15.76]</td>\n",
       "      <td>1.478192</td>\n",
       "      <td>3.601</td>\n",
       "      <td>0.718909</td>\n",
       "    </tr>\n",
       "  </tbody>\n",
       "</table>\n",
       "</div>"
      ],
      "text/plain": [
       "               T  dof alternative     p-val          CI95%   cohen-d   BF10  \\\n",
       "T-test  2.765445   12   two-sided  0.017106  [1.87, 15.76]  1.478192  3.601   \n",
       "\n",
       "           power  \n",
       "T-test  0.718909  "
      ]
     },
     "metadata": {},
     "output_type": "display_data"
    }
   ],
   "source": [
    "#two sample t-test with pingouin\n",
    "import pingouin as pg\n",
    "res = pg.ttest(male, female, correction=False)\n",
    "display(res)"
   ]
  },
  {
   "cell_type": "markdown",
   "id": "8fbc1939",
   "metadata": {},
   "source": [
    "T: t-value\n",
    "dof: degrees of freedom\n",
    "p-val: p-value\n",
    "CI95%: confidence interval\n",
    "cohen-d : cohen's d\n",
    "\n",
    "There was a significant difference in height for men (M = 179.87, SD = 6.21) and women (M = 171.05, SD = 5.69); t(12) = 2.77, p = .017, %95 CI [1.87, 15.76], d = 1.48."
   ]
  },
  {
   "cell_type": "code",
   "execution_count": 296,
   "id": "fc45411d",
   "metadata": {},
   "outputs": [
    {
     "data": {
      "text/plain": [
       "<AxesSubplot:xlabel='grouping', ylabel='height'>"
      ]
     },
     "execution_count": 296,
     "metadata": {},
     "output_type": "execute_result"
    },
    {
     "data": {
      "image/png": "[encoded data removed]",
      "text/plain": [
       "<Figure size 432x288 with 1 Axes>"
      ]
     },
     "metadata": {
      "needs_background": "light"
     },
     "output_type": "display_data"
    }
   ],
   "source": [
    "#visualize data with boxplots\n",
    "import seaborn as sns\n",
    "\n",
    "sns.boxplot(x='grouping', y='height', data=df)"
   ]
  },
  {
   "cell_type": "markdown",
   "id": "86b80cf5",
   "metadata": {},
   "source": [
    "## Remove outliers"
   ]
  },
  {
   "cell_type": "code",
   "execution_count": 304,
   "id": "faeaf87e",
   "metadata": {},
   "outputs": [
    {
     "data": {
      "text/html": [
       "<div>\n",
       "<style scoped>\n",
       "    .dataframe tbody tr th:only-of-type {\n",
       "        vertical-align: middle;\n",
       "    }\n",
       "\n",
       "    .dataframe tbody tr th {\n",
       "        vertical-align: top;\n",
       "    }\n",
       "\n",
       "    .dataframe thead th {\n",
       "        text-align: right;\n",
       "    }\n",
       "</style>\n",
       "<table border=\"1\" class=\"dataframe\">\n",
       "  <thead>\n",
       "    <tr style=\"text-align: right;\">\n",
       "      <th></th>\n",
       "      <th>grouping</th>\n",
       "      <th>height</th>\n",
       "    </tr>\n",
       "  </thead>\n",
       "  <tbody>\n",
       "    <tr>\n",
       "      <th>0</th>\n",
       "      <td>men</td>\n",
       "      <td>181.5</td>\n",
       "    </tr>\n",
       "    <tr>\n",
       "      <th>1</th>\n",
       "      <td>men</td>\n",
       "      <td>187.3</td>\n",
       "    </tr>\n",
       "    <tr>\n",
       "      <th>2</th>\n",
       "      <td>men</td>\n",
       "      <td>175.3</td>\n",
       "    </tr>\n",
       "    <tr>\n",
       "      <th>3</th>\n",
       "      <td>men</td>\n",
       "      <td>178.3</td>\n",
       "    </tr>\n",
       "    <tr>\n",
       "      <th>4</th>\n",
       "      <td>men</td>\n",
       "      <td>169.0</td>\n",
       "    </tr>\n",
       "  </tbody>\n",
       "</table>\n",
       "</div>"
      ],
      "text/plain": [
       "  grouping  height\n",
       "0      men   181.5\n",
       "1      men   187.3\n",
       "2      men   175.3\n",
       "3      men   178.3\n",
       "4      men   169.0"
      ]
     },
     "execution_count": 304,
     "metadata": {},
     "output_type": "execute_result"
    }
   ],
   "source": [
    "#filter out outliers based on zscore (df from previous step)\n",
    "df_no_outliers = df[(np.abs(scipy.stats.zscore(df[['height']])) < 3).all(axis=1)]\n",
    "df_no_outliers.head()"
   ]
  },
  {
   "cell_type": "markdown",
   "id": "504caaf8",
   "metadata": {},
   "source": [
    "## Bonferroni Correction\n",
    "\n",
    "(multiple comparison corrections)"
   ]
  },
  {
   "cell_type": "code",
   "execution_count": 412,
   "id": "9fae6f34",
   "metadata": {},
   "outputs": [],
   "source": [
    "rvs1 = scipy.stats.norm.rvs(loc=5, scale=10, size=1000, random_state=0)\n",
    "rvs2 = scipy.stats.norm.rvs(loc=6.5, scale=8, size=1000, random_state=0)"
   ]
  },
  {
   "cell_type": "code",
   "execution_count": 413,
   "id": "649afc70",
   "metadata": {},
   "outputs": [
    {
     "data": {
      "text/plain": [
       "array([ 2.26405235e+01,  9.00157208e+00,  1.47873798e+01,  2.74089320e+01,\n",
       "        2.36755799e+01, -4.77277880e+00,  1.45008842e+01,  3.48642792e+00,\n",
       "        3.96781148e+00,  9.10598502e+00,  6.44043571e+00,  1.95427351e+01,\n",
       "        1.26103773e+01,  6.21675016e+00,  9.43863233e+00,  8.33674327e+00,\n",
       "        1.99407907e+01,  2.94841736e+00,  8.13067702e+00, -3.54095739e+00,\n",
       "       -2.05298982e+01,  1.15361860e+01,  1.36443620e+01, -2.42165020e+00,\n",
       "        2.76975462e+01, -9.54365675e+00,  5.45758517e+00,  3.12816150e+00,\n",
       "        2.03277921e+01,  1.96935877e+01,  6.54947426e+00,  8.78162520e+00,\n",
       "       -3.87785748e+00, -1.48079647e+01,  1.52087851e+00,  6.56348969e+00,\n",
       "        1.73029068e+01,  1.70237985e+01,  1.12673183e+00,  1.97697249e+00,\n",
       "       -5.48552965e+00, -9.20017937e+00, -1.20627019e+01,  2.45077540e+01,\n",
       "       -9.65218175e-02,  6.19256984e-01, -7.52795360e+00,  1.27749036e+01,\n",
       "       -1.11389785e+01,  2.87259720e+00, -3.95466561e+00,  8.86902498e+00,\n",
       "       -1.08051376e-01, -6.80632184e+00,  4.71817772e+00,  9.28331871e+00,\n",
       "        5.66517222e+00,  8.02471898e+00, -1.34322094e+00,  1.37258834e+00,\n",
       "       -1.72460448e+00,  1.40446838e+00, -3.13146282e+00, -1.22628260e+01,\n",
       "        6.77426142e+00,  9.82190638e-01, -1.13019835e+01,  9.62782256e+00,\n",
       "       -4.07298364e+00,  5.51945396e+00,  1.22909056e+01,  6.28982911e+00,\n",
       "        1.63940068e+01, -7.34825820e+00,  9.02341641e+00, -1.84810091e+00,\n",
       "       -3.70797149e+00, -7.88496648e-01,  1.88447468e+00,  5.56165342e+00,\n",
       "       -6.65149841e+00,  1.40082649e+01,  9.65662440e+00, -1.03624369e+01,\n",
       "        1.98825219e+01,  2.39588918e+01,  1.67877957e+01,  3.20075164e+00,\n",
       "       -5.70752622e+00,  1.55445173e+01,  9.68230530e-01,  1.72244507e+01,\n",
       "        7.08274978e+00,  1.47663904e+01,  8.56366397e+00,  1.20657317e+01,\n",
       "        5.10500021e+00,  2.28587049e+01,  6.26912093e+00,  9.01989363e+00,\n",
       "        2.38315070e+01, -8.47759061e+00, -7.70484998e+00,  1.46939671e+01,\n",
       "       -6.73123405e+00,  2.44362119e+01,  8.63810192e-01, -2.47454811e+00,\n",
       "        2.42294203e+01,  1.98051479e+01,  2.36755896e+01,  1.40604466e+01,\n",
       "       -3.61225685e+00,  2.41006495e+01,  2.31996629e+00,  1.30245640e+01,\n",
       "        1.44725197e+01,  3.44989907e+00,  1.11407937e+01,  1.42220667e+01,\n",
       "        8.76425531e+00, -5.99400791e+00,  7.98238174e+00,  1.82638590e+01,\n",
       "       -1.94567860e+00,  3.50365460e+00,  6.48464483e-01,  2.34926373e+01,\n",
       "        1.17229476e+01,  9.07461836e+00, -2.69916074e+00,  1.03924919e+01,\n",
       "       -1.74332661e+00,  5.31830558e+00, -1.35846078e+00,  1.17643329e+01,\n",
       "        1.07659082e+01,  2.91701244e+00,  8.96006713e+00, -5.93061509e+00,\n",
       "       -9.91257593e+00,  9.39391701e+00,  6.66673495e+00,  1.13503144e+01,\n",
       "        2.88314477e+01,  1.44447949e+01, -4.12822225e+00,  1.61701629e+01,\n",
       "       -8.15907411e+00,  3.84153952e-01,  4.31758395e+00,  2.21334272e+01,\n",
       "       -2.44754822e+00, -3.26438539e+00,  4.01547476e+00, -1.63478286e+00,\n",
       "        1.62663592e+01, -5.79931508e+00, -6.47468652e+00,  6.21799553e-01,\n",
       "        1.96754931e-02,  2.42953205e+01,  1.44942081e+01,  5.87551241e+00,\n",
       "       -7.25435519e+00,  1.34436298e+01, -5.00215347e+00, -1.04477110e+01,\n",
       "        1.68802979e+01,  8.16942612e+00,  1.42085882e+01,  8.18727653e+00,\n",
       "        1.35683061e+01, -1.51025593e+00, -5.34242842e+00,  1.18159452e+01,\n",
       "       -3.03409664e+00, -1.89549778e+00,  4.44674965e-01,  5.17479159e+00,\n",
       "        1.46006089e+00, -8.74951293e+00, -1.43618403e+00, -1.72340315e+01,\n",
       "        1.12523145e+01, -1.10205766e+01, -6.04383339e+00,  5.52165079e+00,\n",
       "       -2.39562996e+00,  2.04301460e+01, -7.92856910e+00,  7.67050869e+00,\n",
       "        4.60717182e+00, -6.68093498e+00,  1.02327666e+01,  3.28453669e+00,\n",
       "        1.27179055e+01,  1.32350415e+01,  2.66323595e+01,  1.83652795e+01,\n",
       "        1.30818162e+00,  2.60620822e+00,  1.59965960e+01,  1.15526373e+01,\n",
       "        1.14013153e+01, -1.11695604e+01,  4.75673876e+00, -2.38030909e+00,\n",
       "        7.79924599e+00,  4.01849610e+00,  1.41017891e+01,  8.17218215e+00,\n",
       "        1.28632796e+01,  3.35809033e-01, -4.44446256e+00,  8.99503068e-01,\n",
       "        4.82979586e+00,  8.79151736e+00,  2.75930895e+01,  4.57742848e+00,\n",
       "       -4.55945000e+00,  1.54018224e+00,  3.64040254e-01,  9.81481474e+00,\n",
       "       -1.04079701e+01,  5.63261994e+00,  6.56506538e+00,  7.32181036e+00,\n",
       "       -9.73160690e-01,  2.62078270e+00, -9.24060909e+00,  6.68011664e-02,\n",
       "       -4.28614760e-01,  9.16050046e+00, -6.56182432e+00,  1.28119810e+01,\n",
       "        1.99448454e+01, -1.56998503e+01,  9.26258731e+00,  1.17690804e+01,\n",
       "       -1.37437026e+00,  1.02728186e+00,  3.67119422e+00,  2.02209121e+00,\n",
       "        1.90987031e+00, -1.17600381e+01,  1.65233156e+01,  1.57961859e+01,\n",
       "       -3.13364259e+00, -9.66424328e+00,  1.02106488e+01, -7.57879698e-01,\n",
       "        6.41953163e+00,  1.80671583e+00,  1.19153875e+01,  1.19474914e+01,\n",
       "       -2.25597378e+00, -8.83363955e+00, -1.08293840e+01,  1.11037938e+01,\n",
       "       -6.88859258e+00, -6.81635430e-02, -9.63140385e-01,  4.47432704e+00,\n",
       "       -1.43627981e+01,  6.88778597e+00,  1.02389102e+01,  5.88422087e+00,\n",
       "        1.89113828e+00,  5.97400166e+00,  8.99046346e+00, -2.27259276e+01,\n",
       "        2.45591231e+01,  8.90093323e+00, -1.52408582e+00,  1.09046625e+00,\n",
       "        9.93741777e+00,  3.83896061e+00, -1.53068447e+01,  2.56449286e+01,\n",
       "        3.89459343e+00,  1.52017271e+01, -1.92049848e+00,  2.03637705e+01,\n",
       "        7.86343689e+00,  1.10884383e+01, -5.45253366e+00,  1.71114529e+01,\n",
       "        1.18981816e+01,  1.80184623e+01, -1.28087560e+00,  1.89728815e-01,\n",
       "        2.80391670e+01, -5.60015823e+00,  3.64050299e+00,  1.63689136e+01,\n",
       "        5.97724968e+00,  1.08295368e+01,  1.00550971e+00,  8.70055888e+00,\n",
       "       -8.06526852e+00,  2.15813068e+01,  3.81835955e+00, -1.80178204e+00,\n",
       "        1.16638308e+01,  3.92802126e-01, -8.34258471e+00, -8.46717506e+00,\n",
       "        1.19377315e+01,  3.40426562e+00,  3.66298440e+00,  1.57774381e+01,\n",
       "       -6.26825809e+00, -2.30677753e+00,  1.15120191e+00,  5.94351589e+00,\n",
       "        4.57828549e+00,  2.13112808e+00,  4.38373598e+00,  3.92694724e+00,\n",
       "       -2.19604389e+00, -3.12992989e+00,  7.74516358e+00, -3.90915083e+00,\n",
       "       -6.57355259e+00,  1.87707749e+00,  3.42332984e+00,  2.75672350e+01,\n",
       "       -2.04700276e+00,  1.44326072e+01,  1.24718833e+01, -6.88944955e+00,\n",
       "        1.27325298e+01, -6.83880640e+00, -2.15917224e+01,  1.10631952e+01,\n",
       "       -1.25589058e+01,  9.50934462e+00, -1.84010898e+00,  2.15955080e+01,\n",
       "        1.56850940e+01,  4.66141961e-01, -1.87837611e+00, -7.14077403e+00,\n",
       "        5.90773677e-01,  2.19644505e+00,  1.35306456e+00,  6.56703855e+00,\n",
       "        1.07852150e+01,  8.49654457e+00, -2.64143924e+00, -9.37791474e+00,\n",
       "        1.86453185e+01, -1.89449185e+00, -1.52293600e+00, -2.11893123e-01,\n",
       "       -1.34306955e+01,  2.20259960e-01,  2.03441860e-01,  1.12035830e+01,\n",
       "        1.19845715e+01,  5.03770889e+00,  1.43184837e+01,  8.39964984e+00,\n",
       "        4.84317888e+00,  6.60928168e+00,  3.09346506e+00,  1.05150486e+00,\n",
       "        2.32266463e+00, -6.28011331e+00,  7.80441705e+00, -4.93123611e+00,\n",
       "        1.34163126e+01,  2.50541420e+00,  5.49494982e+00,  9.93836776e+00,\n",
       "        1.14331447e+01, -1.07062341e+01,  2.93096324e+00,  1.38017891e+01,\n",
       "       -1.19810582e+01,  8.87280475e+00, -1.75556423e+01, -5.22506844e+00,\n",
       "        5.38630552e+00, -1.15671510e+01, -4.85510738e+00, -9.71835007e+00,\n",
       "        2.14813493e+01,  6.64227755e+00,  1.06729028e+01,  2.77324899e+00,\n",
       "        1.46568251e+00, -1.11647419e+01,  2.08162637e+00, -2.61492212e+00,\n",
       "        1.35792392e+01,  1.64110187e+01,  1.96657872e+01,  1.35255194e+01,\n",
       "       -9.86539369e-01, -6.15896986e+00,  1.26666318e+01,  8.56292817e+00,\n",
       "       -1.26853845e+01,  8.55481793e+00,  1.31451982e+01,  5.58925589e+00,\n",
       "        3.14946329e+00, -3.07648488e+00, -9.46534700e+00,  1.30029795e+01,\n",
       "        1.90885555e+00,  2.66533338e+00,  2.23272119e+01,  1.18450111e+01,\n",
       "        8.70825001e+00,  6.42061805e+00,  2.01999486e+01,  2.21958931e+01,\n",
       "        1.42950511e+01,  1.08222459e+01, -1.59460307e+01,  6.23721914e+00,\n",
       "        3.69893046e+00,  5.93953229e+00,  1.44304609e+01, -2.23967717e+01,\n",
       "       -6.93120535e-01,  7.69904355e+00,  3.31544539e-01, -9.16906113e+00,\n",
       "        1.36896349e+01,  7.76871906e+00, -4.71104570e+00,  8.14817205e+00,\n",
       "        1.32158571e+01,  5.05292646e+00,  1.30056480e+01,  5.78260175e+00,\n",
       "        1.04771017e+00, -6.59420516e+00,  4.14069233e+00,  6.94292938e+00,\n",
       "        1.37583276e+01,  3.84892532e+00,  9.57415606e+00, -4.64612014e+00,\n",
       "       -2.82629156e+00,  3.89610701e+00, -5.54628464e+00,  1.32024784e+01,\n",
       "        9.63130329e+00,  7.79095764e+00,  8.38904125e+00,  2.52104356e+01,\n",
       "        3.11358120e-01, -1.70144129e+01,  6.99300197e+00,  4.49396459e+00,\n",
       "       -1.75190425e-01, -4.78829859e+00,  6.08104782e-01,  6.81338429e+00,\n",
       "       -2.81670064e-02,  2.91245368e+01, -4.60504382e+00, -2.93117363e+00,\n",
       "       -1.78862004e+01,  7.51484415e+00, -1.51640663e+01, -3.94546334e-01,\n",
       "        2.24329465e+00, -2.09727966e+00,  2.23887268e+01,  1.49439439e+01,\n",
       "        1.81913688e+01, -3.82418819e+00,  1.62859406e+01,  9.96000946e+00,\n",
       "        1.27140595e+01,  1.52943883e+01, -4.08763246e+00,  7.56823790e-01,\n",
       "        1.36259601e+01, -2.15561909e+01,  2.01332808e+01,  1.05313206e+01,\n",
       "        4.54296039e+00,  7.20507656e+00, -5.29935283e+00,  1.50056635e+00,\n",
       "        1.60028434e+01,  1.79802197e+01,  3.19622405e+01,  4.26075334e+00,\n",
       "       -1.58552967e+00, -1.42339659e-01, -5.18041875e+00,  4.22145244e+00,\n",
       "        8.82732430e+00,  4.65757719e+00,  1.59634685e+01,  2.65784199e+00,\n",
       "        1.52549348e+00, -8.12684769e-01, -1.13263453e+01, -1.06776772e+01,\n",
       "       -6.79157931e+00,  1.80142807e+01,  1.39526027e+01,  1.87496407e+01,\n",
       "       -8.32211655e+00, -1.46862469e+01, -1.60056320e+00,  6.75818953e+00,\n",
       "        9.98690275e+00,  1.54797216e+01,  7.84279671e+00,  2.24266878e+01,\n",
       "        2.77394319e+00, -4.13079218e+00, -1.18121822e+01, -3.88971358e+00,\n",
       "        7.42117961e+00, -3.88720257e+00,  1.43674246e+01,  1.91232771e+01,\n",
       "       -1.86958691e+01,  1.36405230e+01, -1.73960406e+01,  9.01499055e+00,\n",
       "        1.72487056e+01,  5.64856106e+00, -7.79689173e+00, -8.54312043e-01,\n",
       "        2.38354554e+00,  3.17755216e+00,  2.97103159e+00,  3.90117221e+00,\n",
       "        7.13480049e+00, -7.08573654e+00,  2.57980170e+00,  2.01826117e+01,\n",
       "        1.15354577e+00,  5.61639068e-01,  1.57819730e+01, -2.05918467e+01,\n",
       "        1.68137860e+01, -1.31903758e+00,  6.63928572e+00,  5.96321356e+00,\n",
       "        1.44246812e+01,  2.32405254e+00, -1.78025782e+00,  1.79784579e+01,\n",
       "       -1.86417382e+01,  5.20334182e+00, -8.47925423e+00, -2.61573388e+00,\n",
       "        2.51125668e+01,  4.55404574e+00,  6.95069697e+00, -1.28156286e+01,\n",
       "       -2.29044659e+00,  6.96557401e+00,  8.54757693e+00,  1.11688655e+01,\n",
       "        5.08627899e+00,  1.02700421e+01,  9.53781913e+00, -1.32974041e+01,\n",
       "        5.37005722e+00,  1.26790241e+01,  1.08987982e+01,  1.36141190e+00,\n",
       "       -3.05626508e+00, -6.18311924e+00,  3.68945988e+00,  1.63307988e+01,\n",
       "       -1.45180410e+01, -1.59891730e+00, -6.39802455e+00,  1.28495752e+01,\n",
       "       -5.43096266e-01,  2.93623418e-01,  2.83050430e+00,  9.45393251e+00,\n",
       "        1.07611002e+00, -2.54614305e+01,  1.04331189e+01,  9.39042958e+00,\n",
       "        2.80458972e+00, -5.84036621e+00,  8.51780111e+00,  8.79235534e+00,\n",
       "        2.99671173e-01,  2.83268529e+00, -4.30156503e+00,  3.21410908e+00,\n",
       "       -1.05042935e+01,  9.17318821e+00, -4.44368491e+00,  7.38103148e+00,\n",
       "       -9.05962916e+00, -9.00576459e-01,  3.89510595e+00, -1.16069981e+01,\n",
       "        6.15147873e+00,  1.20852437e+00, -1.24235620e+01, -8.03242754e+00,\n",
       "        1.10512008e+01,  1.39555599e+01,  3.68091360e+00,  9.04761812e+00,\n",
       "        7.23843563e+00,  8.29622982e+00,  1.78598401e+01, -1.00699840e+01,\n",
       "        1.17646073e+01,  1.17991044e+00,  2.75741066e+00,  1.97750270e+00,\n",
       "        1.24852883e+00, -7.26196192e+00,  6.83339199e+00,  2.17094303e+01,\n",
       "        4.43866980e+00,  4.98614957e+00, -1.87299037e+00,  3.82525454e+00,\n",
       "        9.66166426e+00,  1.29757559e+00,  4.61959589e-01,  9.03264540e+00,\n",
       "       -4.18004770e+00,  7.52496627e+00,  1.32032180e+01,  1.85994854e+01,\n",
       "        4.09617993e+00,  1.86759724e+01,  1.53440989e+01, -4.96212640e+00,\n",
       "       -7.17938512e+00,  1.95036362e+00,  1.52893549e+01,  4.27712992e+00,\n",
       "       -1.00657558e+00,  2.05224318e+01,  7.86904488e+00, -1.82059428e+01,\n",
       "        8.17160626e+00,  1.02004061e+01,  7.25608654e+00,  9.49712100e+00,\n",
       "        4.32724391e+00, -8.18395870e+00,  1.29295997e+00, -4.45615796e+00,\n",
       "       -4.32740911e+00, -7.63068349e+00,  9.52489093e+00,  5.97896145e+00,\n",
       "        5.18346373e-01, -1.49337928e+00,  4.76576895e+00,  1.57919473e+01,\n",
       "       -1.50421572e+01,  8.76876521e+00, -4.57119740e-01, -1.38458584e+01,\n",
       "       -1.44570308e+01, -4.12783494e+00,  7.19509556e+00,  8.93062934e+00,\n",
       "       -4.38981573e+00,  1.51702099e+01,  1.92298350e+01,  8.96086585e+00,\n",
       "       -9.14026678e-01,  1.62441918e+01,  1.25539570e+01,  1.36740741e+01,\n",
       "       -1.56463675e+00, -2.33455451e+01,  2.61679102e+01, -1.11087840e+01,\n",
       "        4.64231928e+00,  2.88074535e+01,  8.30576756e+00,  1.44924647e+01,\n",
       "       -1.00239657e+01, -1.27766695e+01, -3.27027920e-01,  1.59074973e+01,\n",
       "        1.53750552e+00, -2.94636321e+00,  6.97967290e+00,  1.58193522e+01,\n",
       "       -9.44940199e+00, -7.10542994e+00, -2.88669255e+00,  1.59463837e+01,\n",
       "        7.34821526e+00,  2.63215341e+01,  1.43644573e+01,  4.64904823e+00,\n",
       "        1.76507784e+01,  7.11497013e+00, -2.04921353e+00,  1.17997484e+01,\n",
       "       -1.96326654e+00,  2.09602899e+00,  1.82778270e+01,  3.98718514e+00,\n",
       "       -3.03141387e+00,  3.56623086e-01,  1.52179059e+01, -5.25406734e-01,\n",
       "        1.13129153e+00, -1.02927396e-01,  6.83925494e+00,  1.14510240e+00,\n",
       "       -1.10183605e+01, -3.87180942e+00, -4.32789042e+00,  1.74331938e+01,\n",
       "        1.31267404e+01,  1.08725938e+01, -5.35831726e-02, -3.15791542e+00,\n",
       "       -7.51760166e-02, -5.51880103e+00,  2.99720039e+01, -1.74532165e+01,\n",
       "        1.06400854e+01, -7.84552298e+00,  3.95656509e+00, -4.88001942e+00,\n",
       "       -6.77628962e+00, -6.40196301e+00,  2.25498615e+01,  3.67011578e+00,\n",
       "       -2.65702194e+00,  1.05578696e+01,  5.10349315e+00,  1.22003376e+01,\n",
       "       -1.32425666e+01,  8.03603904e+00,  1.27269484e+01, -1.16159829e+01,\n",
       "        9.48195284e+00,  2.19618157e+01,  4.85142297e+00,  1.32140594e+01,\n",
       "        1.17057045e+01, -2.07505698e+00,  5.39766735e+00, -1.06699471e+01,\n",
       "        4.86969629e-01,  7.65687975e+00,  1.22310049e+01,  5.24612125e+00,\n",
       "        1.21998373e+01, -6.02906213e+00,  3.98302725e+00,  5.19279385e+00,\n",
       "        2.34959125e+01,  2.85833344e+00,  9.83362006e-03,  5.21351224e+00,\n",
       "       -4.19113445e+00,  6.92753849e+00,  1.34944783e+00, -1.29132755e+01,\n",
       "        4.41413449e+00,  1.82456906e+00, -1.13242330e+01,  4.32865845e+00,\n",
       "        1.98935596e+01,  1.02130375e+01,  1.11192719e+01, -8.41496726e+00,\n",
       "        9.76898369e+00,  6.48449581e+00,  1.02904524e+01,  9.22628622e+00,\n",
       "       -8.59780726e+00,  4.58599188e+00, -2.57870860e+00,  4.49915906e+00,\n",
       "       -3.97400927e+00,  1.81247037e+01, -3.58972388e+00, -3.98942156e+00,\n",
       "        5.74586407e+00, -5.77099069e+00,  7.53366976e-01, -3.29964598e+00,\n",
       "        1.91117206e+01,  1.28580383e+01,  4.42530482e+00,  1.08782948e+00,\n",
       "        1.44091761e+01,  9.05204080e+00,  9.98052405e+00,  4.73807763e+00,\n",
       "       -1.18823003e+01,  3.87534017e+00, -3.24899192e-01,  1.14505527e+01,\n",
       "        1.51184243e+01, -1.57951045e+00,  9.68385234e+00,  2.23587900e+01,\n",
       "       -1.67712721e+00,  2.18192174e+01, -3.52585847e+00,  5.22959756e+00,\n",
       "        4.88854388e+00,  5.11498900e+00, -3.37678042e+00, -9.11831038e-01,\n",
       "       -1.67720286e+00,  8.26962595e+00,  8.30035115e+00,  2.72594433e+01,\n",
       "        1.87098901e+01, -9.84324214e-02,  8.24869616e+00,  1.49711798e+01,\n",
       "        5.30601824e+00,  4.30358422e+00,  5.51574943e+00,  1.36727663e+01,\n",
       "       -3.48320523e+00,  1.74330531e+00,  9.70433145e+00,  8.11447072e+00,\n",
       "        7.39582760e+00,  1.30198834e+00,  1.47253579e+01,  2.63386825e+01,\n",
       "        9.06415494e+00,  3.06823298e+00,  1.25574029e+01, -3.91326368e-01,\n",
       "       -2.49690345e+00,  5.32808748e+00, -2.08279663e+01, -6.53950364e+00,\n",
       "        1.52038144e+00, -8.53388858e+00, -5.32643102e+00,  6.32516625e-01,\n",
       "       -1.14296529e+01,  9.39282037e-01, -3.52701645e-01,  5.25405208e+00,\n",
       "        1.65418403e+01,  6.72504416e+00,  5.21062021e+00,  5.99454457e+00,\n",
       "        7.27392775e+00, -5.16738649e+00,  3.85224675e+00,  8.08751242e+00,\n",
       "       -8.70759983e+00,  1.36565292e+01,  1.58137603e+01, -1.31375988e+00,\n",
       "        2.58662209e+00, -3.78190343e+00,  1.19938048e+01, -5.61222287e+00,\n",
       "        2.77522990e+00, -3.58919908e+00,  5.50954277e+00, -1.29422927e+01,\n",
       "        1.82646164e+01, -4.64606424e+00,  5.59894683e+00,  2.87476955e+00,\n",
       "       -2.62114512e+00, -3.87780137e+00,  1.43639854e+01, -2.56405931e-01,\n",
       "        7.71170185e+00, -3.01496885e+00, -1.47181432e+00,  9.72247150e+00,\n",
       "        1.43040850e+01,  3.24683598e+00, -9.21919872e+00,  2.49795608e+01,\n",
       "       -3.56549308e+00, -1.04158740e+01,  3.09442459e+01,  9.59677061e-01,\n",
       "       -9.61732688e+00, -1.83439767e+00,  8.67544896e+00,  6.90311558e+00,\n",
       "       -3.51729197e+00,  2.32272360e+01, -2.15796780e-01, -6.84686590e+00,\n",
       "        1.46069340e+01,  1.82906285e+01, -3.17493098e+00, -9.01347293e+00,\n",
       "        1.53043827e+01, -1.54732361e+01, -7.26621659e+00,  1.46744615e+01,\n",
       "        4.44647452e+00,  2.36062651e+00,  8.52816606e+00,  3.47225576e+00,\n",
       "       -7.98686722e+00,  1.77607535e+01,  1.82501405e+01,  7.05332564e+00,\n",
       "        5.45134015e+00,  2.83962481e+01,  2.23567155e+00,  2.40423018e+00,\n",
       "        8.64481249e+00,  1.97132196e+01,  2.09277075e+01,  2.41427368e+00,\n",
       "        8.08331246e+00, -8.78083467e+00,  1.88023892e+00, -3.40290395e+00,\n",
       "       -5.06831752e+00,  2.18157672e+01, -2.92286662e+00, -3.16059080e-01,\n",
       "        8.65848788e+00,  1.79782527e+01,  9.81115126e+00,  3.25935511e+01,\n",
       "        4.25332022e+00,  7.58716440e+00,  7.75600674e+00,  1.93504939e+01,\n",
       "        1.00723895e+01,  3.83770300e+00, -4.47488595e+00,  7.44443456e+00,\n",
       "        1.90134483e+01,  8.96182063e-01,  1.02894362e+01,  7.46147789e+00,\n",
       "        1.36351966e+01, -3.04753741e+00,  2.84664703e+01, -7.79161107e+00,\n",
       "        1.34448910e+00,  1.43809254e+01,  7.96733172e+00,  1.32998616e+01,\n",
       "        3.89766602e-02,  4.25195017e+00,  5.12231984e+00,  2.06925961e+01,\n",
       "        1.19042902e+01,  1.29667211e+01, -1.57926093e+00,  1.46888264e+01,\n",
       "        7.25581664e+00,  1.88914532e+01,  2.51406015e+01,  1.93234224e+00,\n",
       "        9.36968696e-01, -3.64044991e+00,  3.56420488e+00,  1.17974551e+00,\n",
       "        8.59504400e+00,  3.55433183e+00,  1.38400719e+00,  1.56458514e+01,\n",
       "       -4.37880231e+00,  9.33107953e+00,  9.40582728e-01,  1.22436850e+01,\n",
       "        1.88526155e+01,  1.96901747e+00,  9.41032907e+00,  6.78792866e+00,\n",
       "       -2.99422400e+00,  7.40787510e+00,  7.89120505e+00,  9.12870820e+00,\n",
       "        3.01601103e+00,  5.94192300e+00, -6.47610945e+00,  1.41885925e+00])"
      ]
     },
     "execution_count": 413,
     "metadata": {},
     "output_type": "execute_result"
    }
   ],
   "source": [
    "rvs1"
   ]
  },
  {
   "cell_type": "code",
   "execution_count": 417,
   "id": "84efb487",
   "metadata": {},
   "outputs": [],
   "source": [
    "#t-test analysis\n",
    "def t_test_function(rvs, alpha, no_test):\n",
    "    counter = 0\n",
    "    for i in range(no_test):\n",
    "        rvs_random = scipy.stats.norm.rvs(loc=5, scale=10, size=1000, random_state=i+1)\n",
    "\n",
    "        statistic, pvalue = scipy.stats.ttest_ind(rvs, rvs_random, equal_var=False)\n",
    "\n",
    "        if pvalue <= alpha:\n",
    "            counter = counter + 1\n",
    "\n",
    "    print(counter)"
   ]
  },
  {
   "cell_type": "code",
   "execution_count": 418,
   "id": "f716ad7a",
   "metadata": {},
   "outputs": [
    {
     "name": "stdout",
     "output_type": "stream",
     "text": [
      "11\n",
      "85\n"
     ]
    }
   ],
   "source": [
    "t_test_function(rvs1, alpha=0.05, no_test=100)\n",
    "t_test_function(rvs2, alpha=0.05, no_test=100)\n"
   ]
  },
  {
   "cell_type": "code",
   "execution_count": 419,
   "id": "3edbffc4",
   "metadata": {},
   "outputs": [],
   "source": [
    "#bonferroni correction\n",
    "def bonferroni_correction_function(rvs, alpha, no_test):\n",
    "    alpha_bonferroni = alpha/no_test\n",
    "    \n",
    "    counter = 0\n",
    "    for i in range(no_test):\n",
    "        rvs_random = scipy.stats.norm.rvs(loc=5, scale=10, size=1000, random_state=i+1)\n",
    "\n",
    "        statistic, pvalue = scipy.stats.ttest_ind(rvs, rvs_random, equal_var=False)\n",
    "\n",
    "        if pvalue <= alpha_bonferroni:\n",
    "            counter = counter + 1\n",
    "\n",
    "    print(counter)"
   ]
  },
  {
   "cell_type": "code",
   "execution_count": 420,
   "id": "9fc212b0",
   "metadata": {},
   "outputs": [
    {
     "name": "stdout",
     "output_type": "stream",
     "text": [
      "0\n",
      "18\n"
     ]
    }
   ],
   "source": [
    "bonferroni_correction_function(rvs1, alpha=0.05, no_test=100)\n",
    "bonferroni_correction_function(rvs2, alpha=0.05, no_test=100)\n"
   ]
  },
  {
   "cell_type": "code",
   "execution_count": 421,
   "id": "a86a1624",
   "metadata": {},
   "outputs": [],
   "source": [
    "#bonferroni holm correction\n",
    "def bonferroni_holm_correction_function(rvs, alpha, no_test):\n",
    "    pvalue_test = []\n",
    "    for i in range(no_test):\n",
    "        rvs_random = scipy.stats.norm.rvs(loc=5, scale=10, size=1000, random_state=i+1)\n",
    "\n",
    "        statistic, pvalue = scipy.stats.ttest_ind(rvs, rvs_random, equal_var=False)\n",
    "        pvalue_test.append(pvalue)\n",
    "        \n",
    "    pvalue_test_sorted = sorted(pvalue_test, key=float)\n",
    "    \n",
    "    counter = 0\n",
    "    for i in range(no_test):\n",
    "        if pvalue_test_sorted[i] <= alpha/(no_test-i):\n",
    "            counter = counter + 1\n",
    "\n",
    "    print(counter)"
   ]
  },
  {
   "cell_type": "code",
   "execution_count": 422,
   "id": "46fd7681",
   "metadata": {},
   "outputs": [
    {
     "name": "stdout",
     "output_type": "stream",
     "text": [
      "0\n",
      "19\n"
     ]
    }
   ],
   "source": [
    "bonferroni_holm_correction_function(rvs1, alpha=0.05, no_test=100)\n",
    "bonferroni_holm_correction_function(rvs2, alpha=0.05, no_test=100)\n",
    "\n"
   ]
  },
  {
   "cell_type": "markdown",
   "id": "71777d95",
   "metadata": {},
   "source": [
    "## Calculate sample size for a study"
   ]
  },
  {
   "cell_type": "markdown",
   "id": "110b19c0",
   "metadata": {},
   "source": [
    "## sample size for a 2 independent sample t-test "
   ]
  },
  {
   "cell_type": "code",
   "execution_count": 453,
   "id": "6aafa2fb",
   "metadata": {},
   "outputs": [
    {
     "name": "stdout",
     "output_type": "stream",
     "text": [
      "Number in *each* group: 16.71472\n"
     ]
    }
   ],
   "source": [
    "from statsmodels.stats.power import tt_ind_solve_power\n",
    "\n",
    "mean_diff, sd_diff = 0.5, 0.5\n",
    "std_effect_size = mean_diff / sd_diff\n",
    "\n",
    "n = tt_ind_solve_power(effect_size=std_effect_size, alpha=0.05, power=0.8, ratio=1, alternative='two-sided')\n",
    "print('Number in *each* group: {:.5f}'.format(n))\n",
    "\n"
   ]
  },
  {
   "cell_type": "code",
   "execution_count": 454,
   "id": "f7f396c4",
   "metadata": {},
   "outputs": [
    {
     "name": "stdout",
     "output_type": "stream",
     "text": [
      "Number in *each* group when SD is 0.4 : 11.09\n",
      "Number in *each* group when SD is 0.5 : 16.71\n",
      "Number in *each* group when SD is 0.6 : 23.60\n"
     ]
    }
   ],
   "source": [
    "for sd in [0.4, 0.5, 0.6]:\n",
    "    n = tt_ind_solve_power(effect_size=mean_diff/sd, alpha=0.05, power=0.8, ratio=1, alternative='two-sided')\n",
    "    print('Number in *each* group when SD is {:<4.1f}: {:.2f}'.format(sd, n))\n"
   ]
  },
  {
   "cell_type": "markdown",
   "id": "b09104e0",
   "metadata": {},
   "source": [
    "## sample size for a paired t-test "
   ]
  },
  {
   "cell_type": "code",
   "execution_count": 456,
   "id": "6924279c",
   "metadata": {},
   "outputs": [
    {
     "name": "stdout",
     "output_type": "stream",
     "text": [
      "Number in the group when paired standardised mean difference is 0.50: 9.94\n",
      "Number in the group when paired standardised mean difference is 0.40: 14.30\n",
      "Number in the group when paired standardised mean difference is 0.30: 23.79\n"
     ]
    }
   ],
   "source": [
    "from statsmodels.stats.power import tt_solve_power\n",
    "\n",
    "for mean_diff in [0.5, 0.4, 0.3]:\n",
    "    n = tt_solve_power(effect_size=mean_diff/sd_diff, alpha=0.05, power=0.8, alternative='two-sided')\n",
    "    print('Number in the group when paired standardised mean difference is {:<4.2f}: {:.2f}'.format(mean_diff, n))"
   ]
  },
  {
   "cell_type": "markdown",
   "id": "ca55e26b",
   "metadata": {},
   "source": [
    "### sample size precision planning"
   ]
  },
  {
   "cell_type": "markdown",
   "id": "a7156d2f",
   "metadata": {},
   "source": [
    "Most sample size calculations for independent or paired samples are performed based on power to detect an effect of a certain size, assuming there’s no effect. Instead, Cumming and Calin-Jageman recommend that readers plan studies to detect precise effects.\n",
    "The 95% confidence interval (CI) indicates precision about effects. Therefore, it is possible to plan studies to detect narrow 95% CIs about effects, instead of plan studies to detect the existence of effects."
   ]
  },
  {
   "cell_type": "code",
   "execution_count": 457,
   "id": "e9c8d576",
   "metadata": {},
   "outputs": [
    {
     "name": "stdout",
     "output_type": "stream",
     "text": [
      "\n",
      "Fraction of population SD: 0.4\n",
      "N in *each* group: 48.02\n",
      "N of paired group: 28.81\n",
      "\n",
      "Fraction of population SD: 0.5\n",
      "N in *each* group: 30.73\n",
      "N of paired group: 18.44\n",
      "\n",
      "Fraction of population SD: 0.6\n",
      "N in *each* group: 21.34\n",
      "N of paired group: 12.81\n"
     ]
    }
   ],
   "source": [
    "z = 1.96\n",
    "fractions = [0.4, 0.5, 0.6] # fractions of population SD\n",
    "\n",
    "for f in fractions:\n",
    "    print('\\nFraction of population SD: {}'.format(f))\n",
    "\n",
    "    # Two independent groups\n",
    "    N = 2 * (z/f)**2 # z assumes population SD is known\n",
    "    print('N in *each* group: {:.2f}'.format(N))\n",
    "\n",
    "    # Paired groups\n",
    "    rho = 0.4 # correlation in population between the two measures\n",
    "    N = 2 * (1 - rho) * (z/f)**2\n",
    "    print('N of paired group: {:.2f}'.format(N))\n"
   ]
  },
  {
   "cell_type": "markdown",
   "id": "44226b73",
   "metadata": {},
   "source": [
    "## Label Encoding\n",
    "\n",
    "### Encoding categorical values"
   ]
  },
  {
   "cell_type": "code",
   "execution_count": 305,
   "id": "58ce85b6",
   "metadata": {},
   "outputs": [
    {
     "data": {
      "text/html": [
       "<div>\n",
       "<style scoped>\n",
       "    .dataframe tbody tr th:only-of-type {\n",
       "        vertical-align: middle;\n",
       "    }\n",
       "\n",
       "    .dataframe tbody tr th {\n",
       "        vertical-align: top;\n",
       "    }\n",
       "\n",
       "    .dataframe thead th {\n",
       "        text-align: right;\n",
       "    }\n",
       "</style>\n",
       "<table border=\"1\" class=\"dataframe\">\n",
       "  <thead>\n",
       "    <tr style=\"text-align: right;\">\n",
       "      <th></th>\n",
       "      <th>symboling</th>\n",
       "      <th>normalized_losses</th>\n",
       "      <th>make</th>\n",
       "      <th>fuel_type</th>\n",
       "      <th>aspiration</th>\n",
       "      <th>num_doors</th>\n",
       "      <th>body_style</th>\n",
       "      <th>drive_wheels</th>\n",
       "      <th>engine_location</th>\n",
       "      <th>wheel_base</th>\n",
       "      <th>...</th>\n",
       "      <th>engine_size</th>\n",
       "      <th>fuel_system</th>\n",
       "      <th>bore</th>\n",
       "      <th>stroke</th>\n",
       "      <th>compression_ratio</th>\n",
       "      <th>horsepower</th>\n",
       "      <th>peak_rpm</th>\n",
       "      <th>city_mpg</th>\n",
       "      <th>highway_mpg</th>\n",
       "      <th>price</th>\n",
       "    </tr>\n",
       "  </thead>\n",
       "  <tbody>\n",
       "    <tr>\n",
       "      <th>0</th>\n",
       "      <td>3</td>\n",
       "      <td>NaN</td>\n",
       "      <td>alfa-romero</td>\n",
       "      <td>gas</td>\n",
       "      <td>std</td>\n",
       "      <td>two</td>\n",
       "      <td>convertible</td>\n",
       "      <td>rwd</td>\n",
       "      <td>front</td>\n",
       "      <td>88.6</td>\n",
       "      <td>...</td>\n",
       "      <td>130</td>\n",
       "      <td>mpfi</td>\n",
       "      <td>3.47</td>\n",
       "      <td>2.68</td>\n",
       "      <td>9.0</td>\n",
       "      <td>111.0</td>\n",
       "      <td>5000.0</td>\n",
       "      <td>21</td>\n",
       "      <td>27</td>\n",
       "      <td>13495.0</td>\n",
       "    </tr>\n",
       "    <tr>\n",
       "      <th>1</th>\n",
       "      <td>3</td>\n",
       "      <td>NaN</td>\n",
       "      <td>alfa-romero</td>\n",
       "      <td>gas</td>\n",
       "      <td>std</td>\n",
       "      <td>two</td>\n",
       "      <td>convertible</td>\n",
       "      <td>rwd</td>\n",
       "      <td>front</td>\n",
       "      <td>88.6</td>\n",
       "      <td>...</td>\n",
       "      <td>130</td>\n",
       "      <td>mpfi</td>\n",
       "      <td>3.47</td>\n",
       "      <td>2.68</td>\n",
       "      <td>9.0</td>\n",
       "      <td>111.0</td>\n",
       "      <td>5000.0</td>\n",
       "      <td>21</td>\n",
       "      <td>27</td>\n",
       "      <td>16500.0</td>\n",
       "    </tr>\n",
       "    <tr>\n",
       "      <th>2</th>\n",
       "      <td>1</td>\n",
       "      <td>NaN</td>\n",
       "      <td>alfa-romero</td>\n",
       "      <td>gas</td>\n",
       "      <td>std</td>\n",
       "      <td>two</td>\n",
       "      <td>hatchback</td>\n",
       "      <td>rwd</td>\n",
       "      <td>front</td>\n",
       "      <td>94.5</td>\n",
       "      <td>...</td>\n",
       "      <td>152</td>\n",
       "      <td>mpfi</td>\n",
       "      <td>2.68</td>\n",
       "      <td>3.47</td>\n",
       "      <td>9.0</td>\n",
       "      <td>154.0</td>\n",
       "      <td>5000.0</td>\n",
       "      <td>19</td>\n",
       "      <td>26</td>\n",
       "      <td>16500.0</td>\n",
       "    </tr>\n",
       "    <tr>\n",
       "      <th>3</th>\n",
       "      <td>2</td>\n",
       "      <td>164.0</td>\n",
       "      <td>audi</td>\n",
       "      <td>gas</td>\n",
       "      <td>std</td>\n",
       "      <td>four</td>\n",
       "      <td>sedan</td>\n",
       "      <td>fwd</td>\n",
       "      <td>front</td>\n",
       "      <td>99.8</td>\n",
       "      <td>...</td>\n",
       "      <td>109</td>\n",
       "      <td>mpfi</td>\n",
       "      <td>3.19</td>\n",
       "      <td>3.40</td>\n",
       "      <td>10.0</td>\n",
       "      <td>102.0</td>\n",
       "      <td>5500.0</td>\n",
       "      <td>24</td>\n",
       "      <td>30</td>\n",
       "      <td>13950.0</td>\n",
       "    </tr>\n",
       "    <tr>\n",
       "      <th>4</th>\n",
       "      <td>2</td>\n",
       "      <td>164.0</td>\n",
       "      <td>audi</td>\n",
       "      <td>gas</td>\n",
       "      <td>std</td>\n",
       "      <td>four</td>\n",
       "      <td>sedan</td>\n",
       "      <td>4wd</td>\n",
       "      <td>front</td>\n",
       "      <td>99.4</td>\n",
       "      <td>...</td>\n",
       "      <td>136</td>\n",
       "      <td>mpfi</td>\n",
       "      <td>3.19</td>\n",
       "      <td>3.40</td>\n",
       "      <td>8.0</td>\n",
       "      <td>115.0</td>\n",
       "      <td>5500.0</td>\n",
       "      <td>18</td>\n",
       "      <td>22</td>\n",
       "      <td>17450.0</td>\n",
       "    </tr>\n",
       "  </tbody>\n",
       "</table>\n",
       "<p>5 rows × 26 columns</p>\n",
       "</div>"
      ],
      "text/plain": [
       "   symboling  normalized_losses         make fuel_type aspiration num_doors  \\\n",
       "0          3                NaN  alfa-romero       gas        std       two   \n",
       "1          3                NaN  alfa-romero       gas        std       two   \n",
       "2          1                NaN  alfa-romero       gas        std       two   \n",
       "3          2              164.0         audi       gas        std      four   \n",
       "4          2              164.0         audi       gas        std      four   \n",
       "\n",
       "    body_style drive_wheels engine_location  wheel_base  ...  engine_size  \\\n",
       "0  convertible          rwd           front        88.6  ...          130   \n",
       "1  convertible          rwd           front        88.6  ...          130   \n",
       "2    hatchback          rwd           front        94.5  ...          152   \n",
       "3        sedan          fwd           front        99.8  ...          109   \n",
       "4        sedan          4wd           front        99.4  ...          136   \n",
       "\n",
       "   fuel_system  bore  stroke compression_ratio horsepower  peak_rpm city_mpg  \\\n",
       "0         mpfi  3.47    2.68               9.0      111.0    5000.0       21   \n",
       "1         mpfi  3.47    2.68               9.0      111.0    5000.0       21   \n",
       "2         mpfi  2.68    3.47               9.0      154.0    5000.0       19   \n",
       "3         mpfi  3.19    3.40              10.0      102.0    5500.0       24   \n",
       "4         mpfi  3.19    3.40               8.0      115.0    5500.0       18   \n",
       "\n",
       "   highway_mpg    price  \n",
       "0           27  13495.0  \n",
       "1           27  16500.0  \n",
       "2           26  16500.0  \n",
       "3           30  13950.0  \n",
       "4           22  17450.0  \n",
       "\n",
       "[5 rows x 26 columns]"
      ]
     },
     "execution_count": 305,
     "metadata": {},
     "output_type": "execute_result"
    }
   ],
   "source": [
    "#new sample data\n",
    "\n",
    "# Define the headers since the data does not have any\n",
    "headers = [\"symboling\", \"normalized_losses\", \"make\", \"fuel_type\", \"aspiration\",\n",
    "           \"num_doors\", \"body_style\", \"drive_wheels\", \"engine_location\",\n",
    "           \"wheel_base\", \"length\", \"width\", \"height\", \"curb_weight\",\n",
    "           \"engine_type\", \"num_cylinders\", \"engine_size\", \"fuel_system\",\n",
    "           \"bore\", \"stroke\", \"compression_ratio\", \"horsepower\", \"peak_rpm\",\n",
    "           \"city_mpg\", \"highway_mpg\", \"price\"]\n",
    "\n",
    "# Read in the CSV file and convert \"?\" to NaN\n",
    "sample_data2 = pd.read_csv(\"https://archive.ics.uci.edu/ml/machine-learning-databases/autos/imports-85.data\",\n",
    "                  header=None, names=headers, na_values=\"?\" )\n",
    "sample_data2.head()"
   ]
  },
  {
   "cell_type": "markdown",
   "id": "596c69b0",
   "metadata": {},
   "source": [
    "what we want: Encode  body_style column to the following labels\n",
    "* convertible -> 0\n",
    "* hardtop -> 1\n",
    "* hatchback -> 2\n",
    "* sedan -> 3\n",
    "* wagon -> 4\n"
   ]
  },
  {
   "cell_type": "code",
   "execution_count": 309,
   "id": "3174270b",
   "metadata": {},
   "outputs": [
    {
     "data": {
      "text/html": [
       "<div>\n",
       "<style scoped>\n",
       "    .dataframe tbody tr th:only-of-type {\n",
       "        vertical-align: middle;\n",
       "    }\n",
       "\n",
       "    .dataframe tbody tr th {\n",
       "        vertical-align: top;\n",
       "    }\n",
       "\n",
       "    .dataframe thead th {\n",
       "        text-align: right;\n",
       "    }\n",
       "</style>\n",
       "<table border=\"1\" class=\"dataframe\">\n",
       "  <thead>\n",
       "    <tr style=\"text-align: right;\">\n",
       "      <th></th>\n",
       "      <th>symboling</th>\n",
       "      <th>normalized_losses</th>\n",
       "      <th>make</th>\n",
       "      <th>fuel_type</th>\n",
       "      <th>aspiration</th>\n",
       "      <th>num_doors</th>\n",
       "      <th>body_style</th>\n",
       "      <th>drive_wheels</th>\n",
       "      <th>engine_location</th>\n",
       "      <th>wheel_base</th>\n",
       "      <th>...</th>\n",
       "      <th>fuel_system</th>\n",
       "      <th>bore</th>\n",
       "      <th>stroke</th>\n",
       "      <th>compression_ratio</th>\n",
       "      <th>horsepower</th>\n",
       "      <th>peak_rpm</th>\n",
       "      <th>city_mpg</th>\n",
       "      <th>highway_mpg</th>\n",
       "      <th>price</th>\n",
       "      <th>body_style_cat</th>\n",
       "    </tr>\n",
       "  </thead>\n",
       "  <tbody>\n",
       "    <tr>\n",
       "      <th>0</th>\n",
       "      <td>3</td>\n",
       "      <td>NaN</td>\n",
       "      <td>alfa-romero</td>\n",
       "      <td>gas</td>\n",
       "      <td>std</td>\n",
       "      <td>two</td>\n",
       "      <td>convertible</td>\n",
       "      <td>rwd</td>\n",
       "      <td>front</td>\n",
       "      <td>88.6</td>\n",
       "      <td>...</td>\n",
       "      <td>mpfi</td>\n",
       "      <td>3.47</td>\n",
       "      <td>2.68</td>\n",
       "      <td>9.0</td>\n",
       "      <td>111.0</td>\n",
       "      <td>5000.0</td>\n",
       "      <td>21</td>\n",
       "      <td>27</td>\n",
       "      <td>13495.0</td>\n",
       "      <td>0</td>\n",
       "    </tr>\n",
       "    <tr>\n",
       "      <th>1</th>\n",
       "      <td>3</td>\n",
       "      <td>NaN</td>\n",
       "      <td>alfa-romero</td>\n",
       "      <td>gas</td>\n",
       "      <td>std</td>\n",
       "      <td>two</td>\n",
       "      <td>convertible</td>\n",
       "      <td>rwd</td>\n",
       "      <td>front</td>\n",
       "      <td>88.6</td>\n",
       "      <td>...</td>\n",
       "      <td>mpfi</td>\n",
       "      <td>3.47</td>\n",
       "      <td>2.68</td>\n",
       "      <td>9.0</td>\n",
       "      <td>111.0</td>\n",
       "      <td>5000.0</td>\n",
       "      <td>21</td>\n",
       "      <td>27</td>\n",
       "      <td>16500.0</td>\n",
       "      <td>0</td>\n",
       "    </tr>\n",
       "    <tr>\n",
       "      <th>2</th>\n",
       "      <td>1</td>\n",
       "      <td>NaN</td>\n",
       "      <td>alfa-romero</td>\n",
       "      <td>gas</td>\n",
       "      <td>std</td>\n",
       "      <td>two</td>\n",
       "      <td>hatchback</td>\n",
       "      <td>rwd</td>\n",
       "      <td>front</td>\n",
       "      <td>94.5</td>\n",
       "      <td>...</td>\n",
       "      <td>mpfi</td>\n",
       "      <td>2.68</td>\n",
       "      <td>3.47</td>\n",
       "      <td>9.0</td>\n",
       "      <td>154.0</td>\n",
       "      <td>5000.0</td>\n",
       "      <td>19</td>\n",
       "      <td>26</td>\n",
       "      <td>16500.0</td>\n",
       "      <td>2</td>\n",
       "    </tr>\n",
       "    <tr>\n",
       "      <th>3</th>\n",
       "      <td>2</td>\n",
       "      <td>164.0</td>\n",
       "      <td>audi</td>\n",
       "      <td>gas</td>\n",
       "      <td>std</td>\n",
       "      <td>four</td>\n",
       "      <td>sedan</td>\n",
       "      <td>fwd</td>\n",
       "      <td>front</td>\n",
       "      <td>99.8</td>\n",
       "      <td>...</td>\n",
       "      <td>mpfi</td>\n",
       "      <td>3.19</td>\n",
       "      <td>3.40</td>\n",
       "      <td>10.0</td>\n",
       "      <td>102.0</td>\n",
       "      <td>5500.0</td>\n",
       "      <td>24</td>\n",
       "      <td>30</td>\n",
       "      <td>13950.0</td>\n",
       "      <td>3</td>\n",
       "    </tr>\n",
       "    <tr>\n",
       "      <th>4</th>\n",
       "      <td>2</td>\n",
       "      <td>164.0</td>\n",
       "      <td>audi</td>\n",
       "      <td>gas</td>\n",
       "      <td>std</td>\n",
       "      <td>four</td>\n",
       "      <td>sedan</td>\n",
       "      <td>4wd</td>\n",
       "      <td>front</td>\n",
       "      <td>99.4</td>\n",
       "      <td>...</td>\n",
       "      <td>mpfi</td>\n",
       "      <td>3.19</td>\n",
       "      <td>3.40</td>\n",
       "      <td>8.0</td>\n",
       "      <td>115.0</td>\n",
       "      <td>5500.0</td>\n",
       "      <td>18</td>\n",
       "      <td>22</td>\n",
       "      <td>17450.0</td>\n",
       "      <td>3</td>\n",
       "    </tr>\n",
       "  </tbody>\n",
       "</table>\n",
       "<p>5 rows × 27 columns</p>\n",
       "</div>"
      ],
      "text/plain": [
       "   symboling  normalized_losses         make fuel_type aspiration num_doors  \\\n",
       "0          3                NaN  alfa-romero       gas        std       two   \n",
       "1          3                NaN  alfa-romero       gas        std       two   \n",
       "2          1                NaN  alfa-romero       gas        std       two   \n",
       "3          2              164.0         audi       gas        std      four   \n",
       "4          2              164.0         audi       gas        std      four   \n",
       "\n",
       "    body_style drive_wheels engine_location  wheel_base  ...  fuel_system  \\\n",
       "0  convertible          rwd           front        88.6  ...         mpfi   \n",
       "1  convertible          rwd           front        88.6  ...         mpfi   \n",
       "2    hatchback          rwd           front        94.5  ...         mpfi   \n",
       "3        sedan          fwd           front        99.8  ...         mpfi   \n",
       "4        sedan          4wd           front        99.4  ...         mpfi   \n",
       "\n",
       "   bore  stroke  compression_ratio horsepower peak_rpm  city_mpg highway_mpg  \\\n",
       "0  3.47    2.68                9.0      111.0   5000.0        21          27   \n",
       "1  3.47    2.68                9.0      111.0   5000.0        21          27   \n",
       "2  2.68    3.47                9.0      154.0   5000.0        19          26   \n",
       "3  3.19    3.40               10.0      102.0   5500.0        24          30   \n",
       "4  3.19    3.40                8.0      115.0   5500.0        18          22   \n",
       "\n",
       "     price  body_style_cat  \n",
       "0  13495.0               0  \n",
       "1  16500.0               0  \n",
       "2  16500.0               2  \n",
       "3  13950.0               3  \n",
       "4  17450.0               3  \n",
       "\n",
       "[5 rows x 27 columns]"
      ]
     },
     "execution_count": 309,
     "metadata": {},
     "output_type": "execute_result"
    }
   ],
   "source": [
    "sample_data2[\"body_style\"] = sample_data2[\"body_style\"].astype('category')\n",
    "sample_data2[\"body_style_cat\"] = sample_data2[\"body_style\"].cat.codes\n",
    "sample_data2.head(5)\n",
    "#sample_data2.dtypes"
   ]
  },
  {
   "cell_type": "markdown",
   "id": "37a76c41",
   "metadata": {},
   "source": [
    "### One Hot Encoding"
   ]
  },
  {
   "cell_type": "markdown",
   "id": "d724fc80",
   "metadata": {},
   "source": [
    "create dummy variables for column `drive_wheels`\n"
   ]
  },
  {
   "cell_type": "code",
   "execution_count": 310,
   "id": "6f9812b6",
   "metadata": {},
   "outputs": [
    {
     "data": {
      "text/html": [
       "<div>\n",
       "<style scoped>\n",
       "    .dataframe tbody tr th:only-of-type {\n",
       "        vertical-align: middle;\n",
       "    }\n",
       "\n",
       "    .dataframe tbody tr th {\n",
       "        vertical-align: top;\n",
       "    }\n",
       "\n",
       "    .dataframe thead th {\n",
       "        text-align: right;\n",
       "    }\n",
       "</style>\n",
       "<table border=\"1\" class=\"dataframe\">\n",
       "  <thead>\n",
       "    <tr style=\"text-align: right;\">\n",
       "      <th></th>\n",
       "      <th>symboling</th>\n",
       "      <th>normalized_losses</th>\n",
       "      <th>make</th>\n",
       "      <th>fuel_type</th>\n",
       "      <th>aspiration</th>\n",
       "      <th>num_doors</th>\n",
       "      <th>body_style</th>\n",
       "      <th>engine_location</th>\n",
       "      <th>wheel_base</th>\n",
       "      <th>length</th>\n",
       "      <th>...</th>\n",
       "      <th>compression_ratio</th>\n",
       "      <th>horsepower</th>\n",
       "      <th>peak_rpm</th>\n",
       "      <th>city_mpg</th>\n",
       "      <th>highway_mpg</th>\n",
       "      <th>price</th>\n",
       "      <th>body_style_cat</th>\n",
       "      <th>drive_wheels_4wd</th>\n",
       "      <th>drive_wheels_fwd</th>\n",
       "      <th>drive_wheels_rwd</th>\n",
       "    </tr>\n",
       "  </thead>\n",
       "  <tbody>\n",
       "    <tr>\n",
       "      <th>0</th>\n",
       "      <td>3</td>\n",
       "      <td>NaN</td>\n",
       "      <td>alfa-romero</td>\n",
       "      <td>gas</td>\n",
       "      <td>std</td>\n",
       "      <td>two</td>\n",
       "      <td>convertible</td>\n",
       "      <td>front</td>\n",
       "      <td>88.6</td>\n",
       "      <td>168.8</td>\n",
       "      <td>...</td>\n",
       "      <td>9.0</td>\n",
       "      <td>111.0</td>\n",
       "      <td>5000.0</td>\n",
       "      <td>21</td>\n",
       "      <td>27</td>\n",
       "      <td>13495.0</td>\n",
       "      <td>0</td>\n",
       "      <td>0</td>\n",
       "      <td>0</td>\n",
       "      <td>1</td>\n",
       "    </tr>\n",
       "    <tr>\n",
       "      <th>1</th>\n",
       "      <td>3</td>\n",
       "      <td>NaN</td>\n",
       "      <td>alfa-romero</td>\n",
       "      <td>gas</td>\n",
       "      <td>std</td>\n",
       "      <td>two</td>\n",
       "      <td>convertible</td>\n",
       "      <td>front</td>\n",
       "      <td>88.6</td>\n",
       "      <td>168.8</td>\n",
       "      <td>...</td>\n",
       "      <td>9.0</td>\n",
       "      <td>111.0</td>\n",
       "      <td>5000.0</td>\n",
       "      <td>21</td>\n",
       "      <td>27</td>\n",
       "      <td>16500.0</td>\n",
       "      <td>0</td>\n",
       "      <td>0</td>\n",
       "      <td>0</td>\n",
       "      <td>1</td>\n",
       "    </tr>\n",
       "    <tr>\n",
       "      <th>2</th>\n",
       "      <td>1</td>\n",
       "      <td>NaN</td>\n",
       "      <td>alfa-romero</td>\n",
       "      <td>gas</td>\n",
       "      <td>std</td>\n",
       "      <td>two</td>\n",
       "      <td>hatchback</td>\n",
       "      <td>front</td>\n",
       "      <td>94.5</td>\n",
       "      <td>171.2</td>\n",
       "      <td>...</td>\n",
       "      <td>9.0</td>\n",
       "      <td>154.0</td>\n",
       "      <td>5000.0</td>\n",
       "      <td>19</td>\n",
       "      <td>26</td>\n",
       "      <td>16500.0</td>\n",
       "      <td>2</td>\n",
       "      <td>0</td>\n",
       "      <td>0</td>\n",
       "      <td>1</td>\n",
       "    </tr>\n",
       "    <tr>\n",
       "      <th>3</th>\n",
       "      <td>2</td>\n",
       "      <td>164.0</td>\n",
       "      <td>audi</td>\n",
       "      <td>gas</td>\n",
       "      <td>std</td>\n",
       "      <td>four</td>\n",
       "      <td>sedan</td>\n",
       "      <td>front</td>\n",
       "      <td>99.8</td>\n",
       "      <td>176.6</td>\n",
       "      <td>...</td>\n",
       "      <td>10.0</td>\n",
       "      <td>102.0</td>\n",
       "      <td>5500.0</td>\n",
       "      <td>24</td>\n",
       "      <td>30</td>\n",
       "      <td>13950.0</td>\n",
       "      <td>3</td>\n",
       "      <td>0</td>\n",
       "      <td>1</td>\n",
       "      <td>0</td>\n",
       "    </tr>\n",
       "    <tr>\n",
       "      <th>4</th>\n",
       "      <td>2</td>\n",
       "      <td>164.0</td>\n",
       "      <td>audi</td>\n",
       "      <td>gas</td>\n",
       "      <td>std</td>\n",
       "      <td>four</td>\n",
       "      <td>sedan</td>\n",
       "      <td>front</td>\n",
       "      <td>99.4</td>\n",
       "      <td>176.6</td>\n",
       "      <td>...</td>\n",
       "      <td>8.0</td>\n",
       "      <td>115.0</td>\n",
       "      <td>5500.0</td>\n",
       "      <td>18</td>\n",
       "      <td>22</td>\n",
       "      <td>17450.0</td>\n",
       "      <td>3</td>\n",
       "      <td>1</td>\n",
       "      <td>0</td>\n",
       "      <td>0</td>\n",
       "    </tr>\n",
       "  </tbody>\n",
       "</table>\n",
       "<p>5 rows × 29 columns</p>\n",
       "</div>"
      ],
      "text/plain": [
       "   symboling  normalized_losses         make fuel_type aspiration num_doors  \\\n",
       "0          3                NaN  alfa-romero       gas        std       two   \n",
       "1          3                NaN  alfa-romero       gas        std       two   \n",
       "2          1                NaN  alfa-romero       gas        std       two   \n",
       "3          2              164.0         audi       gas        std      four   \n",
       "4          2              164.0         audi       gas        std      four   \n",
       "\n",
       "    body_style engine_location  wheel_base  length  ...  compression_ratio  \\\n",
       "0  convertible           front        88.6   168.8  ...                9.0   \n",
       "1  convertible           front        88.6   168.8  ...                9.0   \n",
       "2    hatchback           front        94.5   171.2  ...                9.0   \n",
       "3        sedan           front        99.8   176.6  ...               10.0   \n",
       "4        sedan           front        99.4   176.6  ...                8.0   \n",
       "\n",
       "   horsepower  peak_rpm city_mpg highway_mpg    price body_style_cat  \\\n",
       "0       111.0    5000.0       21          27  13495.0              0   \n",
       "1       111.0    5000.0       21          27  16500.0              0   \n",
       "2       154.0    5000.0       19          26  16500.0              2   \n",
       "3       102.0    5500.0       24          30  13950.0              3   \n",
       "4       115.0    5500.0       18          22  17450.0              3   \n",
       "\n",
       "   drive_wheels_4wd  drive_wheels_fwd  drive_wheels_rwd  \n",
       "0                 0                 0                 1  \n",
       "1                 0                 0                 1  \n",
       "2                 0                 0                 1  \n",
       "3                 0                 1                 0  \n",
       "4                 1                 0                 0  \n",
       "\n",
       "[5 rows x 29 columns]"
      ]
     },
     "execution_count": 310,
     "metadata": {},
     "output_type": "execute_result"
    }
   ],
   "source": [
    "pd.get_dummies(sample_data2, columns=[\"drive_wheels\"]).head()\n"
   ]
  },
  {
   "cell_type": "markdown",
   "id": "ce89d67e",
   "metadata": {},
   "source": [
    "## Custom Binary Encoding"
   ]
  },
  {
   "cell_type": "code",
   "execution_count": 311,
   "id": "b9c35606",
   "metadata": {},
   "outputs": [
    {
     "data": {
      "text/html": [
       "<div>\n",
       "<style scoped>\n",
       "    .dataframe tbody tr th:only-of-type {\n",
       "        vertical-align: middle;\n",
       "    }\n",
       "\n",
       "    .dataframe tbody tr th {\n",
       "        vertical-align: top;\n",
       "    }\n",
       "\n",
       "    .dataframe thead th {\n",
       "        text-align: right;\n",
       "    }\n",
       "</style>\n",
       "<table border=\"1\" class=\"dataframe\">\n",
       "  <thead>\n",
       "    <tr style=\"text-align: right;\">\n",
       "      <th></th>\n",
       "      <th>symboling</th>\n",
       "      <th>normalized_losses</th>\n",
       "      <th>make</th>\n",
       "      <th>fuel_type</th>\n",
       "      <th>aspiration</th>\n",
       "      <th>num_doors</th>\n",
       "      <th>body_style</th>\n",
       "      <th>drive_wheels</th>\n",
       "      <th>engine_location</th>\n",
       "      <th>wheel_base</th>\n",
       "      <th>...</th>\n",
       "      <th>bore</th>\n",
       "      <th>stroke</th>\n",
       "      <th>compression_ratio</th>\n",
       "      <th>horsepower</th>\n",
       "      <th>peak_rpm</th>\n",
       "      <th>city_mpg</th>\n",
       "      <th>highway_mpg</th>\n",
       "      <th>price</th>\n",
       "      <th>body_style_cat</th>\n",
       "      <th>OHC_Code</th>\n",
       "    </tr>\n",
       "  </thead>\n",
       "  <tbody>\n",
       "    <tr>\n",
       "      <th>0</th>\n",
       "      <td>3</td>\n",
       "      <td>NaN</td>\n",
       "      <td>alfa-romero</td>\n",
       "      <td>gas</td>\n",
       "      <td>std</td>\n",
       "      <td>two</td>\n",
       "      <td>convertible</td>\n",
       "      <td>rwd</td>\n",
       "      <td>front</td>\n",
       "      <td>88.6</td>\n",
       "      <td>...</td>\n",
       "      <td>3.47</td>\n",
       "      <td>2.68</td>\n",
       "      <td>9.0</td>\n",
       "      <td>111.0</td>\n",
       "      <td>5000.0</td>\n",
       "      <td>21</td>\n",
       "      <td>27</td>\n",
       "      <td>13495.0</td>\n",
       "      <td>0</td>\n",
       "      <td>1</td>\n",
       "    </tr>\n",
       "    <tr>\n",
       "      <th>1</th>\n",
       "      <td>3</td>\n",
       "      <td>NaN</td>\n",
       "      <td>alfa-romero</td>\n",
       "      <td>gas</td>\n",
       "      <td>std</td>\n",
       "      <td>two</td>\n",
       "      <td>convertible</td>\n",
       "      <td>rwd</td>\n",
       "      <td>front</td>\n",
       "      <td>88.6</td>\n",
       "      <td>...</td>\n",
       "      <td>3.47</td>\n",
       "      <td>2.68</td>\n",
       "      <td>9.0</td>\n",
       "      <td>111.0</td>\n",
       "      <td>5000.0</td>\n",
       "      <td>21</td>\n",
       "      <td>27</td>\n",
       "      <td>16500.0</td>\n",
       "      <td>0</td>\n",
       "      <td>1</td>\n",
       "    </tr>\n",
       "    <tr>\n",
       "      <th>2</th>\n",
       "      <td>1</td>\n",
       "      <td>NaN</td>\n",
       "      <td>alfa-romero</td>\n",
       "      <td>gas</td>\n",
       "      <td>std</td>\n",
       "      <td>two</td>\n",
       "      <td>hatchback</td>\n",
       "      <td>rwd</td>\n",
       "      <td>front</td>\n",
       "      <td>94.5</td>\n",
       "      <td>...</td>\n",
       "      <td>2.68</td>\n",
       "      <td>3.47</td>\n",
       "      <td>9.0</td>\n",
       "      <td>154.0</td>\n",
       "      <td>5000.0</td>\n",
       "      <td>19</td>\n",
       "      <td>26</td>\n",
       "      <td>16500.0</td>\n",
       "      <td>2</td>\n",
       "      <td>1</td>\n",
       "    </tr>\n",
       "    <tr>\n",
       "      <th>3</th>\n",
       "      <td>2</td>\n",
       "      <td>164.0</td>\n",
       "      <td>audi</td>\n",
       "      <td>gas</td>\n",
       "      <td>std</td>\n",
       "      <td>four</td>\n",
       "      <td>sedan</td>\n",
       "      <td>fwd</td>\n",
       "      <td>front</td>\n",
       "      <td>99.8</td>\n",
       "      <td>...</td>\n",
       "      <td>3.19</td>\n",
       "      <td>3.40</td>\n",
       "      <td>10.0</td>\n",
       "      <td>102.0</td>\n",
       "      <td>5500.0</td>\n",
       "      <td>24</td>\n",
       "      <td>30</td>\n",
       "      <td>13950.0</td>\n",
       "      <td>3</td>\n",
       "      <td>1</td>\n",
       "    </tr>\n",
       "    <tr>\n",
       "      <th>4</th>\n",
       "      <td>2</td>\n",
       "      <td>164.0</td>\n",
       "      <td>audi</td>\n",
       "      <td>gas</td>\n",
       "      <td>std</td>\n",
       "      <td>four</td>\n",
       "      <td>sedan</td>\n",
       "      <td>4wd</td>\n",
       "      <td>front</td>\n",
       "      <td>99.4</td>\n",
       "      <td>...</td>\n",
       "      <td>3.19</td>\n",
       "      <td>3.40</td>\n",
       "      <td>8.0</td>\n",
       "      <td>115.0</td>\n",
       "      <td>5500.0</td>\n",
       "      <td>18</td>\n",
       "      <td>22</td>\n",
       "      <td>17450.0</td>\n",
       "      <td>3</td>\n",
       "      <td>1</td>\n",
       "    </tr>\n",
       "  </tbody>\n",
       "</table>\n",
       "<p>5 rows × 28 columns</p>\n",
       "</div>"
      ],
      "text/plain": [
       "   symboling  normalized_losses         make fuel_type aspiration num_doors  \\\n",
       "0          3                NaN  alfa-romero       gas        std       two   \n",
       "1          3                NaN  alfa-romero       gas        std       two   \n",
       "2          1                NaN  alfa-romero       gas        std       two   \n",
       "3          2              164.0         audi       gas        std      four   \n",
       "4          2              164.0         audi       gas        std      four   \n",
       "\n",
       "    body_style drive_wheels engine_location  wheel_base  ...  bore  stroke  \\\n",
       "0  convertible          rwd           front        88.6  ...  3.47    2.68   \n",
       "1  convertible          rwd           front        88.6  ...  3.47    2.68   \n",
       "2    hatchback          rwd           front        94.5  ...  2.68    3.47   \n",
       "3        sedan          fwd           front        99.8  ...  3.19    3.40   \n",
       "4        sedan          4wd           front        99.4  ...  3.19    3.40   \n",
       "\n",
       "   compression_ratio  horsepower peak_rpm city_mpg  highway_mpg    price  \\\n",
       "0                9.0       111.0   5000.0       21           27  13495.0   \n",
       "1                9.0       111.0   5000.0       21           27  16500.0   \n",
       "2                9.0       154.0   5000.0       19           26  16500.0   \n",
       "3               10.0       102.0   5500.0       24           30  13950.0   \n",
       "4                8.0       115.0   5500.0       18           22  17450.0   \n",
       "\n",
       "   body_style_cat  OHC_Code  \n",
       "0               0         1  \n",
       "1               0         1  \n",
       "2               2         1  \n",
       "3               3         1  \n",
       "4               3         1  \n",
       "\n",
       "[5 rows x 28 columns]"
      ]
     },
     "execution_count": 311,
     "metadata": {},
     "output_type": "execute_result"
    }
   ],
   "source": [
    "sample_data2[\"OHC_Code\"] = np.where(sample_data2[\"engine_type\"].str.contains(\"ohc\"), 1, 0)\n",
    "sample_data2.head()"
   ]
  },
  {
   "cell_type": "markdown",
   "id": "0e6a4d30",
   "metadata": {},
   "source": [
    "## Linear Regression"
   ]
  },
  {
   "cell_type": "code",
   "execution_count": 327,
   "id": "210bb69d",
   "metadata": {},
   "outputs": [],
   "source": [
    "Stock_Market = {'Year': [2017,2017,2017,2017,2017,2017,2017,2017,2017,2017,2017,2017,2016,2016,2016,2016,2016,2016,2016,2016,2016,2016,2016,2016],\n",
    "                'Month': [12, 11,10,9,8,7,6,5,4,3,2,1,12,11,10,9,8,7,6,5,4,3,2,1],\n",
    "                'Interest_Rate': [2.75,2.5,2.5,2.5,2.5,2.5,2.5,2.25,2.25,2.25,2,2,2,1.75,1.75,1.75,1.75,1.75,1.75,1.75,1.75,1.75,1.75,1.75],\n",
    "                'Unemployment_Rate': [5.3,5.3,5.3,5.3,5.4,5.6,5.5,5.5,5.5,5.6,5.7,5.9,6,5.9,5.8,6.1,6.2,6.1,6.1,6.1,5.9,6.2,6.2,6.1],\n",
    "                'Stock_Index_Price': [1464,1394,1357,1293,1256,1254,1234,1195,1159,1167,1130,1075,1047,965,943,958,971,949,884,866,876,822,704,719]        \n",
    "                }\n",
    "\n",
    "sample_data3 = pd.DataFrame(Stock_Market,columns=['Year','Month','Interest_Rate','Unemployment_Rate','Stock_Index_Price']) \n",
    "\n"
   ]
  },
  {
   "cell_type": "code",
   "execution_count": 386,
   "id": "80283ad2",
   "metadata": {},
   "outputs": [
    {
     "data": {
      "text/plain": [
       "Text(0.5, 1.0, 'apple_search_spend ')"
      ]
     },
     "execution_count": 386,
     "metadata": {},
     "output_type": "execute_result"
    },
    {
     "data": {
      "image/png": "[encoded data removed]",
      "text/plain": [
       "<Figure size 432x288 with 1 Axes>"
      ]
     },
     "metadata": {
      "needs_background": "light"
     },
     "output_type": "display_data"
    }
   ],
   "source": [
    "#check normality of independent variables (here only checking for stock index)\n",
    "ax1 = plt.subplot()\n",
    "res = scipy.stats.probplot(sample_data3['Stock_Index_Price'].to_numpy(), dist=\"norm\", plot=plt)\n",
    "ax1.set_title(\"apple_search_spend \")\n"
   ]
  },
  {
   "cell_type": "code",
   "execution_count": 337,
   "id": "1120e118",
   "metadata": {},
   "outputs": [
    {
     "data": {
      "image/png": "[encoded data removed]",
      "text/plain": [
       "<Figure size 432x288 with 1 Axes>"
      ]
     },
     "metadata": {
      "needs_background": "light"
     },
     "output_type": "display_data"
    }
   ],
   "source": [
    "from sklearn.linear_model import LinearRegression\n",
    "X = sample_data3.iloc[:, 3].values.reshape(-1, 1)  # values converts it into a numpy array\n",
    "Y = sample_data3.iloc[:, 4].values.reshape(-1, 1)  # -1 means that calculate the dimension of rows, but have 1 column\n",
    "#X = sm.add_constant(X) # adding a constant\n",
    "linear_regressor = LinearRegression()  # create object for the class\n",
    "linear_regressor.fit(X, Y)  # perform linear regression\n",
    "Y_pred = linear_regressor.predict(X)  # make predictions\n",
    "plt.scatter(X, Y)\n",
    "plt.plot(X, Y_pred, color='red')\n",
    "plt.show()\n"
   ]
  },
  {
   "cell_type": "code",
   "execution_count": 376,
   "id": "e9b8f77e",
   "metadata": {},
   "outputs": [
    {
     "name": "stdout",
     "output_type": "stream",
     "text": [
      "Model Performance:  0.9128032659384013\n",
      "[4484.12909203]\n",
      "[[-591.5009265]]\n"
     ]
    },
    {
     "data": {
      "text/plain": [
       "array([[1349.17418159],\n",
       "       [ 875.9734404 ],\n",
       "       [1290.02408894],\n",
       "       [1171.72390364],\n",
       "       [1349.17418159]])"
      ]
     },
     "execution_count": 376,
     "metadata": {},
     "output_type": "execute_result"
    }
   ],
   "source": [
    "#alternative Linear regression\n",
    "mix_x = sample_data3['Unemployment_Rate'].values.reshape(-1, 1)\n",
    "mix_y = sample_data3['Stock_Index_Price'].values.reshape(-1, 1)\n",
    "\n",
    "from sklearn.model_selection import train_test_split\n",
    "from sklearn import linear_model\n",
    "from sklearn.linear_model import LinearRegression\n",
    "\n",
    "\n",
    "X_train, X_test, y_train, y_test = train_test_split(mix_x, mix_y, test_size=0.2, random_state=66)\n",
    "\n",
    "reg = LinearRegression()\n",
    "linear_result= reg.fit(X_train, y_train)\n",
    "print(\"Model Performance: \", reg.score(X_test, y_test))\n",
    "print(reg.intercept_)\n",
    "print(reg.coef_)\n",
    "\n",
    "\n",
    "y_pred = reg.predict(X_test)\n",
    "y_pred\n"
   ]
  },
  {
   "cell_type": "markdown",
   "id": "3abb4a5d",
   "metadata": {},
   "source": [
    "### Evaluate linear regression"
   ]
  },
  {
   "cell_type": "code",
   "execution_count": 378,
   "id": "40850a20",
   "metadata": {},
   "outputs": [
    {
     "name": "stdout",
     "output_type": "stream",
     "text": [
      "MAE 45.06534898085211\n"
     ]
    }
   ],
   "source": [
    "from sklearn.metrics import mean_absolute_error\n",
    "print(\"MAE\",mean_absolute_error(y_test,y_pred))\n"
   ]
  },
  {
   "cell_type": "markdown",
   "id": "a8a3627b",
   "metadata": {},
   "source": [
    "Advantages of MAE\n",
    "\n",
    "* The MAE you get is in the same unit as the output variable.\n",
    "* It is most Robust to outliers.\n",
    "\n",
    "Disadvantages of MAE\n",
    "\n",
    "* The graph of MAE is not differentiable so we have to apply various optimizers like Gradient descent which can be differentiable."
   ]
  },
  {
   "cell_type": "code",
   "execution_count": 379,
   "id": "0530f517",
   "metadata": {},
   "outputs": [
    {
     "name": "stdout",
     "output_type": "stream",
     "text": [
      "MSE 2631.2625985202526\n"
     ]
    }
   ],
   "source": [
    "from sklearn.metrics import mean_squared_error\n",
    "print(\"MSE\",mean_squared_error(y_test,y_pred))"
   ]
  },
  {
   "cell_type": "markdown",
   "id": "a9c84703",
   "metadata": {},
   "source": [
    "Advantages of MSE\n",
    "\n",
    "* The graph of MSE is differentiable, so you can easily use it as a loss function.\n",
    "\n",
    "Disadvantages of MSE\n",
    "\n",
    "* The value you get after calculating MSE is a squared unit of output. for example, the output variable is in meter(m) then after calculating MSE the output we get is in meter squared.\n",
    "* If you have outliers in the dataset then it penalizes the outliers most and the calculated MSE is bigger. So, in short, It is not Robust to outliers which were an advantage in MAE."
   ]
  },
  {
   "cell_type": "code",
   "execution_count": 380,
   "id": "b5355c77",
   "metadata": {},
   "outputs": [
    {
     "name": "stdout",
     "output_type": "stream",
     "text": [
      "RMSE 51.29583412442235\n"
     ]
    }
   ],
   "source": [
    "print(\"RMSE\",np.sqrt(mean_squared_error(y_test,y_pred)))\n"
   ]
  },
  {
   "cell_type": "markdown",
   "id": "81de2604",
   "metadata": {},
   "source": [
    "Advantages of RMSE\n",
    "* The output value you get is in the same unit as the required output variable which makes interpretation of loss easy.\n",
    "\n",
    "Disadvantages of RMSE\n",
    "* It is not that robust to outliers as compared to MAE.\n",
    "for performing RMSE we have to NumPy NumPy square root function over MSE."
   ]
  },
  {
   "cell_type": "code",
   "execution_count": 381,
   "id": "8b033412",
   "metadata": {},
   "outputs": [
    {
     "name": "stdout",
     "output_type": "stream",
     "text": [
      "RMSE 3.9376095427277145\n"
     ]
    }
   ],
   "source": [
    "print(\"RMSE\",np.log(np.sqrt(mean_squared_error(y_test,y_pred))))\n"
   ]
  },
  {
   "cell_type": "markdown",
   "id": "b9c899b4",
   "metadata": {},
   "source": [
    "Taking the log of the RMSE metric slows down the scale of error. The metric is very helpful when you are developing a model without calling the inputs. In that case, the output will vary on a large scale."
   ]
  },
  {
   "cell_type": "code",
   "execution_count": 382,
   "id": "c7bb4566",
   "metadata": {},
   "outputs": [
    {
     "name": "stdout",
     "output_type": "stream",
     "text": [
      "0.9128032659384013\n"
     ]
    }
   ],
   "source": [
    "from sklearn.metrics import r2_score\n",
    "r2 = r2_score(y_test,y_pred)\n",
    "print(r2)"
   ]
  },
  {
   "cell_type": "markdown",
   "id": "219dc5db",
   "metadata": {},
   "source": [
    "R2 score is a metric that tells the performance of your model, not the loss in an absolute sense that how many wells did your model perform.\n",
    "\n",
    "In contrast, MAE and MSE depend on the context as we have seen whereas the R2 score is independent of context.\n",
    "\n",
    "So, with help of R squared we have a baseline model to compare a model which none of the other metrics provides. The same we have in classification problems which we call a threshold which is fixed at 0.5. So basically R2 squared calculates how must regression line is better than a mean line.\n",
    "\n",
    "Hence, R2 squared is also known as Coefficient of Determination or sometimes also known as Goodness of fit"
   ]
  },
  {
   "cell_type": "code",
   "execution_count": 383,
   "id": "319fd8fe",
   "metadata": {},
   "outputs": [
    {
     "name": "stdout",
     "output_type": "stream",
     "text": [
      "0.9080899289620987\n"
     ]
    }
   ],
   "source": [
    "#adjusted R squared\n",
    "n=40\n",
    "k=2\n",
    "adj_r2_score = 1 - ((1-r2)*(n-1)/(n-k-1))\n",
    "print(adj_r2_score)"
   ]
  },
  {
   "cell_type": "markdown",
   "id": "520ff1dd",
   "metadata": {},
   "source": [
    "The disadvantage of the R2 score is while adding new features in data the R2 score starts increasing or remains constant but it never decreases because It assumes that while adding more data variance of data increases.\n",
    "\n",
    "But the problem is when we add an irrelevant feature in the dataset then at that time R2 sometimes starts increasing which is incorrect.\n",
    "\n",
    "Hence, To control this situation Adjusted R Squared came into existence."
   ]
  },
  {
   "cell_type": "markdown",
   "id": "6e7e6c42",
   "metadata": {},
   "source": [
    "### check if results hold assumptions"
   ]
  },
  {
   "cell_type": "code",
   "execution_count": 390,
   "id": "12896ff3",
   "metadata": {},
   "outputs": [
    {
     "data": {
      "image/png": "[encoded data removed]",
      "text/plain": [
       "<Figure size 576x432 with 1 Axes>"
      ]
     },
     "metadata": {
      "needs_background": "light"
     },
     "output_type": "display_data"
    }
   ],
   "source": [
    "#linearity test (regression)\n",
    "def linearity_test(model, y):\n",
    "    '''\n",
    "    Function for visually inspecting the assumption of linearity in a linear regression model.\n",
    "    It plots observed vs. predicted values and residuals vs. predicted values.\n",
    "    \n",
    "    Args:\n",
    "    * model - fitted OLS model from statsmodels\n",
    "    * y - observed values\n",
    "    '''\n",
    "\n",
    "\n",
    "    fig, ax = plt.subplots(figsize=(8,6))\n",
    "    \n",
    "    sns.regplot(x=y_pred, y=y_test, lowess=True, ax=ax, line_kws={'color': 'red'})\n",
    "    ax.set_title('Observed vs. Predicted Values', fontsize=16)\n",
    "    ax.set(xlabel='Predicted', ylabel='Observed')\n",
    "\n",
    "    #sns.regplot(x=predicted_values, y=model_residuals, lowess=True, ax=ax[1], line_kws={'color': 'red'})\n",
    "    #ax[1].set_title('Residuals vs. Predicted Values', fontsize=16)\n",
    "    #ax[1].set(xlabel='Predicted', ylabel='Residuals')\n",
    "    \n",
    "linearity_test(reg, y)\n"
   ]
  },
  {
   "cell_type": "code",
   "execution_count": null,
   "id": "4f959b42",
   "metadata": {},
   "outputs": [],
   "source": []
  },
  {
   "cell_type": "markdown",
   "id": "06600e38",
   "metadata": {},
   "source": [
    "## Regression Ordinary Least Squares"
   ]
  },
  {
   "cell_type": "code",
   "execution_count": 334,
   "id": "9c2072a6",
   "metadata": {},
   "outputs": [
    {
     "name": "stdout",
     "output_type": "stream",
     "text": [
      "                            OLS Regression Results                            \n",
      "==============================================================================\n",
      "Dep. Variable:      Stock_Index_Price   R-squared:                       0.898\n",
      "Model:                            OLS   Adj. R-squared:                  0.888\n",
      "Method:                 Least Squares   F-statistic:                     92.07\n",
      "Date:                Sun, 30 Jan 2022   Prob (F-statistic):           4.04e-11\n",
      "Time:                        18:04:09   Log-Likelihood:                -134.61\n",
      "No. Observations:                  24   AIC:                             275.2\n",
      "Df Residuals:                      21   BIC:                             278.8\n",
      "Df Model:                           2                                         \n",
      "Covariance Type:            nonrobust                                         \n",
      "=====================================================================================\n",
      "                        coef    std err          t      P>|t|      [0.025      0.975]\n",
      "-------------------------------------------------------------------------------------\n",
      "const              1798.4040    899.248      2.000      0.059     -71.685    3668.493\n",
      "Interest_Rate       345.5401    111.367      3.103      0.005     113.940     577.140\n",
      "Unemployment_Rate  -250.1466    117.950     -2.121      0.046    -495.437      -4.856\n",
      "==============================================================================\n",
      "Omnibus:                        2.691   Durbin-Watson:                   0.530\n",
      "Prob(Omnibus):                  0.260   Jarque-Bera (JB):                1.551\n",
      "Skew:                          -0.612   Prob(JB):                        0.461\n",
      "Kurtosis:                       3.226   Cond. No.                         394.\n",
      "==============================================================================\n",
      "\n",
      "Notes:\n",
      "[1] Standard Errors assume that the covariance matrix of the errors is correctly specified.\n"
     ]
    },
    {
     "name": "stderr",
     "output_type": "stream",
     "text": [
      "/Users/constantina_mac/opt/anaconda3/lib/python3.9/site-packages/statsmodels/tsa/tsatools.py:142: FutureWarning: In a future version of pandas all arguments of concat except for the argument 'objs' will be keyword-only\n",
      "  x = pd.concat(x[::order], 1)\n"
     ]
    }
   ],
   "source": [
    "#ols\n",
    "import statsmodels.api as sm\n",
    "\n",
    "X = sample_data3[['Interest_Rate','Unemployment_Rate']] # here we have 2 variables for the multiple linear regression. If you just want to use one variable for simple linear regression, then use X = df['Interest_Rate'] for example\n",
    "Y = sample_data3['Stock_Index_Price']\n",
    "X = sm.add_constant(X) # adding a constant\n",
    "\n",
    "model = sm.OLS(Y, X).fit()\n",
    "predictions = model.predict(X) \n",
    "\n",
    "print_model = model.summary()\n",
    "print(print_model)"
   ]
  },
  {
   "cell_type": "markdown",
   "id": "83b1514c",
   "metadata": {},
   "source": [
    "### Interpreting Regression Results\n",
    "* Adjusted. R-squared reflects the fit of the model. R-squared values range from 0 to 1, where a higher value generally indicates a better fit, assuming certain conditions are met.\n",
    "* const coefficient is your Y-intercept. It means that if both the Interest_Rate and Unemployment_Rate coefficients are zero, then the expected output (i.e., the Y) would be equal to the const coefficient.\n",
    "* Interest_Rate coefficient represents the change in the output Y due to a change of one unit in the interest rate (everything else held constant)\n",
    "* Unemployment_Rate coefficient represents the change in the output Y due to a change of one unit in the unemployment rate (everything else held constant)\n",
    "* std err reflects the level of accuracy of the coefficients. The lower it is, the higher is the level of accuracy\n",
    "* P >|t| is your p-value. A p-value of less than 0.05 is considered to be statistically significant\n",
    "* Confidence Interval represents the range in which our coefficients are likely to fall (with a likelihood of 95%)"
   ]
  },
  {
   "cell_type": "markdown",
   "id": "7cd3d5b3",
   "metadata": {},
   "source": [
    "### Making Predictions based on the Regression Results\n",
    "\n",
    "* Y = C + M1*X1 + M2*X2 + …\n"
   ]
  },
  {
   "cell_type": "code",
   "execution_count": 318,
   "id": "099ad68c",
   "metadata": {},
   "outputs": [
    {
     "data": {
      "text/plain": [
       "1422.862295"
      ]
     },
     "execution_count": 318,
     "metadata": {},
     "output_type": "execute_result"
    }
   ],
   "source": [
    "#Stock_Index_Price = (const coef) + (Interest_Rate coef)*X1 + (Unemployment_Rate coef)*X2\n",
    "#Stock_Index_Price = (1798.4040) + (345.5401)*X1 + (-250.1466)*X2 --> plugging numbers calculated\n",
    "\n",
    "#checking stock index price for specific values \n",
    "Stock_Index_Price\n",
    "Stock_Index_Price = (1798.4040) + (345.5401)*(2.75) + (-250.1466)*(5.3) "
   ]
  },
  {
   "cell_type": "markdown",
   "id": "d05e7827",
   "metadata": {},
   "source": [
    "## Logistic Regression"
   ]
  },
  {
   "cell_type": "code",
   "execution_count": 348,
   "id": "2cdc1155",
   "metadata": {},
   "outputs": [],
   "source": [
    "x = np.arange(10).reshape(-1, 1)\n",
    "y = np.array([0, 0, 0, 0, 1, 1, 1, 1, 1, 1])"
   ]
  },
  {
   "cell_type": "code",
   "execution_count": 349,
   "id": "7cbfccd5",
   "metadata": {},
   "outputs": [
    {
     "data": {
      "text/plain": [
       "array([[0],\n",
       "       [1],\n",
       "       [2],\n",
       "       [3],\n",
       "       [4],\n",
       "       [5],\n",
       "       [6],\n",
       "       [7],\n",
       "       [8],\n",
       "       [9]])"
      ]
     },
     "execution_count": 349,
     "metadata": {},
     "output_type": "execute_result"
    }
   ],
   "source": [
    "x"
   ]
  },
  {
   "cell_type": "code",
   "execution_count": 350,
   "id": "54934f68",
   "metadata": {},
   "outputs": [
    {
     "data": {
      "text/plain": [
       "array([0, 0, 0, 0, 1, 1, 1, 1, 1, 1])"
      ]
     },
     "execution_count": 350,
     "metadata": {},
     "output_type": "execute_result"
    }
   ],
   "source": [
    "y"
   ]
  },
  {
   "cell_type": "code",
   "execution_count": 351,
   "id": "9a4c39bc",
   "metadata": {},
   "outputs": [],
   "source": [
    "from sklearn.linear_model import LogisticRegression\n",
    "from sklearn.metrics import classification_report, confusion_matrix\n",
    "model = LogisticRegression(solver='liblinear', random_state=0)\n"
   ]
  },
  {
   "cell_type": "code",
   "execution_count": 352,
   "id": "da047162",
   "metadata": {},
   "outputs": [
    {
     "data": {
      "text/plain": [
       "LogisticRegression(random_state=0, solver='liblinear')"
      ]
     },
     "execution_count": 352,
     "metadata": {},
     "output_type": "execute_result"
    }
   ],
   "source": [
    "model.fit(x, y)\n"
   ]
  },
  {
   "cell_type": "code",
   "execution_count": 355,
   "id": "13bcf45e",
   "metadata": {},
   "outputs": [
    {
     "name": "stdout",
     "output_type": "stream",
     "text": [
      "[-1.04608067]\n",
      "[[0.51491375]]\n"
     ]
    }
   ],
   "source": [
    "print(model.intercept_)\n",
    "print(model.coef_)"
   ]
  },
  {
   "cell_type": "markdown",
   "id": "2f7a753e",
   "metadata": {},
   "source": [
    "### Evaluate logistic regression\n"
   ]
  },
  {
   "cell_type": "code",
   "execution_count": 361,
   "id": "9e671a36",
   "metadata": {},
   "outputs": [
    {
     "name": "stdout",
     "output_type": "stream",
     "text": [
      "              precision    recall  f1-score   support\n",
      "\n",
      "           0       1.00      0.75      0.86         4\n",
      "           1       0.86      1.00      0.92         6\n",
      "\n",
      "    accuracy                           0.90        10\n",
      "   macro avg       0.93      0.88      0.89        10\n",
      "weighted avg       0.91      0.90      0.90        10\n",
      "\n"
     ]
    }
   ],
   "source": [
    "print(classification_report(y, model.predict(x)))"
   ]
  },
  {
   "cell_type": "code",
   "execution_count": 356,
   "id": "b2c19999",
   "metadata": {},
   "outputs": [
    {
     "data": {
      "text/plain": [
       "array([[0.74002157, 0.25997843],\n",
       "       [0.62975524, 0.37024476],\n",
       "       [0.5040632 , 0.4959368 ],\n",
       "       [0.37785549, 0.62214451],\n",
       "       [0.26628093, 0.73371907],\n",
       "       [0.17821501, 0.82178499],\n",
       "       [0.11472079, 0.88527921],\n",
       "       [0.07186982, 0.92813018],\n",
       "       [0.04422513, 0.95577487],\n",
       "       [0.02690569, 0.97309431]])"
      ]
     },
     "execution_count": 356,
     "metadata": {},
     "output_type": "execute_result"
    }
   ],
   "source": [
    "model.predict_proba(x)"
   ]
  },
  {
   "cell_type": "code",
   "execution_count": 357,
   "id": "5b2bcf5d",
   "metadata": {},
   "outputs": [
    {
     "data": {
      "text/plain": [
       "array([0, 0, 0, 1, 1, 1, 1, 1, 1, 1])"
      ]
     },
     "execution_count": 357,
     "metadata": {},
     "output_type": "execute_result"
    }
   ],
   "source": [
    "#actual prediction to compare\n",
    "model.predict(x)"
   ]
  },
  {
   "cell_type": "code",
   "execution_count": 358,
   "id": "27dadfb5",
   "metadata": {},
   "outputs": [
    {
     "data": {
      "text/plain": [
       "0.9"
      ]
     },
     "execution_count": 358,
     "metadata": {},
     "output_type": "execute_result"
    }
   ],
   "source": [
    "#percentage of observations classify correctly\n",
    "model.score(x, y)"
   ]
  },
  {
   "cell_type": "code",
   "execution_count": 359,
   "id": "44881b33",
   "metadata": {},
   "outputs": [
    {
     "data": {
      "text/plain": [
       "array([[3, 1],\n",
       "       [0, 6]])"
      ]
     },
     "execution_count": 359,
     "metadata": {},
     "output_type": "execute_result"
    }
   ],
   "source": [
    "#create confusion matrix\n",
    "confusion_matrix(y, model.predict(x))"
   ]
  },
  {
   "cell_type": "code",
   "execution_count": 360,
   "id": "816438ed",
   "metadata": {},
   "outputs": [
    {
     "data": {
      "image/png": "[encoded data removed]",
      "text/plain": [
       "<Figure size 576x576 with 1 Axes>"
      ]
     },
     "metadata": {
      "needs_background": "light"
     },
     "output_type": "display_data"
    }
   ],
   "source": [
    "#visualize confusion matrix\n",
    "cm = confusion_matrix(y, model.predict(x))\n",
    "\n",
    "fig, ax = plt.subplots(figsize=(8, 8))\n",
    "ax.imshow(cm)\n",
    "ax.grid(False)\n",
    "ax.xaxis.set(ticks=(0, 1), ticklabels=('Predicted 0s', 'Predicted 1s'))\n",
    "ax.yaxis.set(ticks=(0, 1), ticklabels=('Actual 0s', 'Actual 1s'))\n",
    "ax.set_ylim(1.5, -0.5)\n",
    "for i in range(2):\n",
    "    for j in range(2):\n",
    "        ax.text(j, i, cm[i, j], ha='center', va='center', color='red')\n",
    "plt.show()"
   ]
  },
  {
   "cell_type": "markdown",
   "id": "5a50c271",
   "metadata": {},
   "source": [
    "Observations:\n",
    "\n",
    "The obtained matrix shows the following:\n",
    "* Three true negative predictions: The first three observations are zeros predicted correctly.\n",
    "* No false negative predictions: These are the ones wrongly predicted as zeros.\n",
    "* One false positive prediction: The fourth observation is a zero that was wrongly predicted as one.\n",
    "* Six true positive predictions: The last six observations are ones predicted correctly.\n"
   ]
  },
  {
   "cell_type": "markdown",
   "id": "8d3e5035",
   "metadata": {},
   "source": [
    "### Summarize logistic regression results"
   ]
  },
  {
   "cell_type": "code",
   "execution_count": 369,
   "id": "8f3fc85b",
   "metadata": {
    "scrolled": false
   },
   "outputs": [
    {
     "name": "stdout",
     "output_type": "stream",
     "text": [
      "Summary:\n",
      "y:\n",
      "[0 0 0 0 1 1 1 1 1 1]\n",
      "\n",
      "intercept: [-1.04608067]\n",
      "coef: [[0.51491375]]\n",
      "\n",
      "p_pred:\n",
      "[[0.74002157 0.25997843]\n",
      " [0.62975524 0.37024476]\n",
      " [0.5040632  0.4959368 ]\n",
      " [0.37785549 0.62214451]\n",
      " [0.26628093 0.73371907]\n",
      " [0.17821501 0.82178499]\n",
      " [0.11472079 0.88527921]\n",
      " [0.07186982 0.92813018]\n",
      " [0.04422513 0.95577487]\n",
      " [0.02690569 0.97309431]]\n",
      "\n",
      "y_pred: [[1349.17418159]\n",
      " [ 875.9734404 ]\n",
      " [1290.02408894]\n",
      " [1171.72390364]\n",
      " [1349.17418159]]\n",
      "\n",
      "score_: 0.9\n",
      "\n",
      "conf_m:\n",
      "[[3 1]\n",
      " [0 6]]\n",
      "\n",
      "report:\n",
      "              precision    recall  f1-score   support\n",
      "\n",
      "           0       1.00      0.75      0.86         4\n",
      "           1       0.86      1.00      0.92         6\n",
      "\n",
      "    accuracy                           0.90        10\n",
      "   macro avg       0.93      0.88      0.89        10\n",
      "weighted avg       0.91      0.90      0.90        10\n",
      "\n"
     ]
    }
   ],
   "source": [
    "print('y:', y, sep='\\n', end='\\n\\n')\n",
    "print('intercept:', model.intercept_)\n",
    "print('coef:', model.coef_, end='\\n\\n')\n",
    "print('p_pred:', model.predict_proba(x), sep='\\n', end='\\n\\n')\n",
    "print('y_pred:', y_pred, end='\\n\\n')\n",
    "print('score_:', model.score(x, y), end='\\n\\n')\n",
    "print('conf_m:', confusion_matrix(y, model.predict(x)), sep='\\n', end='\\n\\n')\n",
    "print('report:', classification_report(y, model.predict(x)), sep='\\n')\n",
    "\n"
   ]
  },
  {
   "cell_type": "markdown",
   "id": "098d6479",
   "metadata": {},
   "source": [
    "## Variable/Features correlations"
   ]
  },
  {
   "cell_type": "code",
   "execution_count": 371,
   "id": "df170714",
   "metadata": {},
   "outputs": [
    {
     "data": {
      "text/plain": [
       "array([[1.        , 0.75864029],\n",
       "       [0.75864029, 1.        ]])"
      ]
     },
     "execution_count": 371,
     "metadata": {},
     "output_type": "execute_result"
    }
   ],
   "source": [
    "#correlation with arrays\n",
    "x = np.arange(10, 20)\n",
    "y = np.array([2, 1, 4, 5, 8, 12, 18, 25, 96, 48])\n",
    "r = np.corrcoef(x, y)\n",
    "r\n",
    "\n"
   ]
  },
  {
   "cell_type": "code",
   "execution_count": 373,
   "id": "de804af6",
   "metadata": {},
   "outputs": [
    {
     "data": {
      "text/html": [
       "<div>\n",
       "<style scoped>\n",
       "    .dataframe tbody tr th:only-of-type {\n",
       "        vertical-align: middle;\n",
       "    }\n",
       "\n",
       "    .dataframe tbody tr th {\n",
       "        vertical-align: top;\n",
       "    }\n",
       "\n",
       "    .dataframe thead th {\n",
       "        text-align: right;\n",
       "    }\n",
       "</style>\n",
       "<table border=\"1\" class=\"dataframe\">\n",
       "  <thead>\n",
       "    <tr style=\"text-align: right;\">\n",
       "      <th></th>\n",
       "      <th>A</th>\n",
       "      <th>B</th>\n",
       "      <th>C</th>\n",
       "    </tr>\n",
       "  </thead>\n",
       "  <tbody>\n",
       "    <tr>\n",
       "      <th>0</th>\n",
       "      <td>45</td>\n",
       "      <td>38</td>\n",
       "      <td>10</td>\n",
       "    </tr>\n",
       "    <tr>\n",
       "      <th>1</th>\n",
       "      <td>37</td>\n",
       "      <td>31</td>\n",
       "      <td>15</td>\n",
       "    </tr>\n",
       "    <tr>\n",
       "      <th>2</th>\n",
       "      <td>42</td>\n",
       "      <td>26</td>\n",
       "      <td>17</td>\n",
       "    </tr>\n",
       "    <tr>\n",
       "      <th>3</th>\n",
       "      <td>35</td>\n",
       "      <td>28</td>\n",
       "      <td>21</td>\n",
       "    </tr>\n",
       "    <tr>\n",
       "      <th>4</th>\n",
       "      <td>39</td>\n",
       "      <td>33</td>\n",
       "      <td>12</td>\n",
       "    </tr>\n",
       "  </tbody>\n",
       "</table>\n",
       "</div>"
      ],
      "text/plain": [
       "    A   B   C\n",
       "0  45  38  10\n",
       "1  37  31  15\n",
       "2  42  26  17\n",
       "3  35  28  21\n",
       "4  39  33  12"
      ]
     },
     "execution_count": 373,
     "metadata": {},
     "output_type": "execute_result"
    }
   ],
   "source": [
    "data = {'A': [45,37,42,35,39],\n",
    "        'B': [38,31,26,28,33],\n",
    "        'C': [10,15,17,21,12]\n",
    "        }\n",
    "\n",
    "sample_data5 = pd.DataFrame(data,columns=['A','B','C'])\n",
    "sample_data5.head()"
   ]
  },
  {
   "cell_type": "code",
   "execution_count": 374,
   "id": "af64bb6a",
   "metadata": {},
   "outputs": [
    {
     "data": {
      "image/png": "[encoded data removed]",
      "text/plain": [
       "<Figure size 540x540 with 12 Axes>"
      ]
     },
     "metadata": {
      "needs_background": "light"
     },
     "output_type": "display_data"
    },
    {
     "data": {
      "image/png": "[encoded data removed]",
      "text/plain": [
       "<Figure size 432x288 with 2 Axes>"
      ]
     },
     "metadata": {
      "needs_background": "light"
     },
     "output_type": "display_data"
    }
   ],
   "source": [
    "##correlations when working with dataframes\n",
    "\n",
    "sns.pairplot(sample_data5)\n",
    "\n",
    "corr = sample_data5.corr()\n",
    "\n",
    "fig, ax = plt.subplots()\n",
    "\n",
    "ax = sns.heatmap(\n",
    "    corr, \n",
    "    vmin=-1, vmax=1, center=0,\n",
    "    cmap=sns.diverging_palette(20, 220, n=200),\n",
    "    square=True,\n",
    "    annot=True,\n",
    "    cbar_kws={\"shrink\": 0.5}\n",
    ")\n",
    "ax.set_xticklabels(\n",
    "    ax.get_xticklabels(),\n",
    "    rotation=45,\n",
    "    horizontalalignment='right'\n",
    ");\n",
    "\n",
    "plt.show()\n"
   ]
  },
  {
   "cell_type": "markdown",
   "id": "3561d2e3",
   "metadata": {},
   "source": [
    "## Create training-testing sample"
   ]
  },
  {
   "cell_type": "code",
   "execution_count": 394,
   "id": "04a4026d",
   "metadata": {},
   "outputs": [
    {
     "data": {
      "text/html": [
       "<div>\n",
       "<style scoped>\n",
       "    .dataframe tbody tr th:only-of-type {\n",
       "        vertical-align: middle;\n",
       "    }\n",
       "\n",
       "    .dataframe tbody tr th {\n",
       "        vertical-align: top;\n",
       "    }\n",
       "\n",
       "    .dataframe thead th {\n",
       "        text-align: right;\n",
       "    }\n",
       "</style>\n",
       "<table border=\"1\" class=\"dataframe\">\n",
       "  <thead>\n",
       "    <tr style=\"text-align: right;\">\n",
       "      <th></th>\n",
       "      <th>0</th>\n",
       "      <th>1</th>\n",
       "    </tr>\n",
       "  </thead>\n",
       "  <tbody>\n",
       "    <tr>\n",
       "      <th>0</th>\n",
       "      <td>0.482598</td>\n",
       "      <td>-1.105432</td>\n",
       "    </tr>\n",
       "    <tr>\n",
       "      <th>1</th>\n",
       "      <td>0.420755</td>\n",
       "      <td>1.616794</td>\n",
       "    </tr>\n",
       "    <tr>\n",
       "      <th>2</th>\n",
       "      <td>-0.883771</td>\n",
       "      <td>0.298835</td>\n",
       "    </tr>\n",
       "    <tr>\n",
       "      <th>3</th>\n",
       "      <td>0.767113</td>\n",
       "      <td>-1.693349</td>\n",
       "    </tr>\n",
       "    <tr>\n",
       "      <th>4</th>\n",
       "      <td>1.638889</td>\n",
       "      <td>-1.044998</td>\n",
       "    </tr>\n",
       "    <tr>\n",
       "      <th>...</th>\n",
       "      <td>...</td>\n",
       "      <td>...</td>\n",
       "    </tr>\n",
       "    <tr>\n",
       "      <th>95</th>\n",
       "      <td>0.279401</td>\n",
       "      <td>0.114784</td>\n",
       "    </tr>\n",
       "    <tr>\n",
       "      <th>96</th>\n",
       "      <td>-1.558594</td>\n",
       "      <td>-0.849519</td>\n",
       "    </tr>\n",
       "    <tr>\n",
       "      <th>97</th>\n",
       "      <td>1.152007</td>\n",
       "      <td>0.175928</td>\n",
       "    </tr>\n",
       "    <tr>\n",
       "      <th>98</th>\n",
       "      <td>0.638986</td>\n",
       "      <td>1.020153</td>\n",
       "    </tr>\n",
       "    <tr>\n",
       "      <th>99</th>\n",
       "      <td>1.792613</td>\n",
       "      <td>-0.639097</td>\n",
       "    </tr>\n",
       "  </tbody>\n",
       "</table>\n",
       "<p>100 rows × 2 columns</p>\n",
       "</div>"
      ],
      "text/plain": [
       "           0         1\n",
       "0   0.482598 -1.105432\n",
       "1   0.420755  1.616794\n",
       "2  -0.883771  0.298835\n",
       "3   0.767113 -1.693349\n",
       "4   1.638889 -1.044998\n",
       "..       ...       ...\n",
       "95  0.279401  0.114784\n",
       "96 -1.558594 -0.849519\n",
       "97  1.152007  0.175928\n",
       "98  0.638986  1.020153\n",
       "99  1.792613 -0.639097\n",
       "\n",
       "[100 rows x 2 columns]"
      ]
     },
     "execution_count": 394,
     "metadata": {},
     "output_type": "execute_result"
    }
   ],
   "source": [
    "sample6 = pd.DataFrame(np.random.randn(100, 2))\n",
    "sample6"
   ]
  },
  {
   "cell_type": "code",
   "execution_count": 395,
   "id": "0398cb49",
   "metadata": {},
   "outputs": [],
   "source": [
    "from sklearn.model_selection import train_test_split\n",
    "\n",
    "train, test = train_test_split(sample6, test_size=0.2)"
   ]
  },
  {
   "cell_type": "code",
   "execution_count": 399,
   "id": "12468139",
   "metadata": {},
   "outputs": [
    {
     "data": {
      "text/plain": [
       "(80, 2)"
      ]
     },
     "execution_count": 399,
     "metadata": {},
     "output_type": "execute_result"
    }
   ],
   "source": [
    "train.shape"
   ]
  },
  {
   "cell_type": "code",
   "execution_count": 400,
   "id": "547c150b",
   "metadata": {},
   "outputs": [
    {
     "data": {
      "text/plain": [
       "(20, 2)"
      ]
     },
     "execution_count": 400,
     "metadata": {},
     "output_type": "execute_result"
    }
   ],
   "source": [
    "test.shape"
   ]
  },
  {
   "cell_type": "markdown",
   "id": "a9638004",
   "metadata": {},
   "source": [
    "### time series test/training datasets\n"
   ]
  },
  {
   "cell_type": "code",
   "execution_count": 401,
   "id": "c9a36cad",
   "metadata": {},
   "outputs": [
    {
     "data": {
      "text/plain": [
       "DatetimeIndex(['2018-01-01 00:00:00', '2018-01-01 01:00:00',\n",
       "               '2018-01-01 02:00:00', '2018-01-01 03:00:00',\n",
       "               '2018-01-01 04:00:00', '2018-01-01 05:00:00',\n",
       "               '2018-01-01 06:00:00', '2018-01-01 07:00:00',\n",
       "               '2018-01-01 08:00:00', '2018-01-01 09:00:00',\n",
       "               ...\n",
       "               '2018-01-07 15:00:00', '2018-01-07 16:00:00',\n",
       "               '2018-01-07 17:00:00', '2018-01-07 18:00:00',\n",
       "               '2018-01-07 19:00:00', '2018-01-07 20:00:00',\n",
       "               '2018-01-07 21:00:00', '2018-01-07 22:00:00',\n",
       "               '2018-01-07 23:00:00', '2018-01-08 00:00:00'],\n",
       "              dtype='datetime64[ns]', length=169, freq='H')"
      ]
     },
     "execution_count": 401,
     "metadata": {},
     "output_type": "execute_result"
    }
   ],
   "source": [
    "date_rng = pd.date_range(start='1/1/2018', end='1/08/2018', freq='H')\n",
    "date_rng"
   ]
  },
  {
   "cell_type": "code",
   "execution_count": 405,
   "id": "d843569d",
   "metadata": {},
   "outputs": [
    {
     "data": {
      "text/html": [
       "<div>\n",
       "<style scoped>\n",
       "    .dataframe tbody tr th:only-of-type {\n",
       "        vertical-align: middle;\n",
       "    }\n",
       "\n",
       "    .dataframe tbody tr th {\n",
       "        vertical-align: top;\n",
       "    }\n",
       "\n",
       "    .dataframe thead th {\n",
       "        text-align: right;\n",
       "    }\n",
       "</style>\n",
       "<table border=\"1\" class=\"dataframe\">\n",
       "  <thead>\n",
       "    <tr style=\"text-align: right;\">\n",
       "      <th></th>\n",
       "      <th>date</th>\n",
       "      <th>data</th>\n",
       "    </tr>\n",
       "  </thead>\n",
       "  <tbody>\n",
       "    <tr>\n",
       "      <th>0</th>\n",
       "      <td>2018-01-01 00:00:00</td>\n",
       "      <td>99</td>\n",
       "    </tr>\n",
       "    <tr>\n",
       "      <th>1</th>\n",
       "      <td>2018-01-01 01:00:00</td>\n",
       "      <td>6</td>\n",
       "    </tr>\n",
       "    <tr>\n",
       "      <th>2</th>\n",
       "      <td>2018-01-01 02:00:00</td>\n",
       "      <td>84</td>\n",
       "    </tr>\n",
       "    <tr>\n",
       "      <th>3</th>\n",
       "      <td>2018-01-01 03:00:00</td>\n",
       "      <td>67</td>\n",
       "    </tr>\n",
       "    <tr>\n",
       "      <th>4</th>\n",
       "      <td>2018-01-01 04:00:00</td>\n",
       "      <td>77</td>\n",
       "    </tr>\n",
       "    <tr>\n",
       "      <th>5</th>\n",
       "      <td>2018-01-01 05:00:00</td>\n",
       "      <td>33</td>\n",
       "    </tr>\n",
       "    <tr>\n",
       "      <th>6</th>\n",
       "      <td>2018-01-01 06:00:00</td>\n",
       "      <td>91</td>\n",
       "    </tr>\n",
       "    <tr>\n",
       "      <th>7</th>\n",
       "      <td>2018-01-01 07:00:00</td>\n",
       "      <td>51</td>\n",
       "    </tr>\n",
       "    <tr>\n",
       "      <th>8</th>\n",
       "      <td>2018-01-01 08:00:00</td>\n",
       "      <td>36</td>\n",
       "    </tr>\n",
       "    <tr>\n",
       "      <th>9</th>\n",
       "      <td>2018-01-01 09:00:00</td>\n",
       "      <td>33</td>\n",
       "    </tr>\n",
       "    <tr>\n",
       "      <th>10</th>\n",
       "      <td>2018-01-01 10:00:00</td>\n",
       "      <td>83</td>\n",
       "    </tr>\n",
       "    <tr>\n",
       "      <th>11</th>\n",
       "      <td>2018-01-01 11:00:00</td>\n",
       "      <td>40</td>\n",
       "    </tr>\n",
       "    <tr>\n",
       "      <th>12</th>\n",
       "      <td>2018-01-01 12:00:00</td>\n",
       "      <td>13</td>\n",
       "    </tr>\n",
       "    <tr>\n",
       "      <th>13</th>\n",
       "      <td>2018-01-01 13:00:00</td>\n",
       "      <td>64</td>\n",
       "    </tr>\n",
       "    <tr>\n",
       "      <th>14</th>\n",
       "      <td>2018-01-01 14:00:00</td>\n",
       "      <td>51</td>\n",
       "    </tr>\n",
       "  </tbody>\n",
       "</table>\n",
       "</div>"
      ],
      "text/plain": [
       "                  date  data\n",
       "0  2018-01-01 00:00:00    99\n",
       "1  2018-01-01 01:00:00     6\n",
       "2  2018-01-01 02:00:00    84\n",
       "3  2018-01-01 03:00:00    67\n",
       "4  2018-01-01 04:00:00    77\n",
       "5  2018-01-01 05:00:00    33\n",
       "6  2018-01-01 06:00:00    91\n",
       "7  2018-01-01 07:00:00    51\n",
       "8  2018-01-01 08:00:00    36\n",
       "9  2018-01-01 09:00:00    33\n",
       "10 2018-01-01 10:00:00    83\n",
       "11 2018-01-01 11:00:00    40\n",
       "12 2018-01-01 12:00:00    13\n",
       "13 2018-01-01 13:00:00    64\n",
       "14 2018-01-01 14:00:00    51"
      ]
     },
     "execution_count": 405,
     "metadata": {},
     "output_type": "execute_result"
    }
   ],
   "source": [
    "date_rng_df = pd.DataFrame(date_rng, columns=['date'])\n",
    "date_rng_df['data'] = np.random.randint(0,100,size=(len(date_rng)))\n",
    "date_rng_df.head(15)"
   ]
  },
  {
   "cell_type": "code",
   "execution_count": 407,
   "id": "e5d323d6",
   "metadata": {},
   "outputs": [
    {
     "data": {
      "text/plain": [
       "(169, 2)"
      ]
     },
     "execution_count": 407,
     "metadata": {},
     "output_type": "execute_result"
    }
   ],
   "source": [
    "date_rng_df.shape"
   ]
  },
  {
   "cell_type": "code",
   "execution_count": 406,
   "id": "a2be9fad",
   "metadata": {},
   "outputs": [
    {
     "name": "stdout",
     "output_type": "stream",
     "text": [
      "train set size: 143\n",
      "test set size: 26\n"
     ]
    }
   ],
   "source": [
    "#train/test datasets\n",
    "n = date_rng_df.shape[0]\n",
    "train_size = 0.85\n",
    "total_installs_train = date_rng_df.iloc[:int(n * train_size)]\n",
    "total_installs_test = date_rng_df.iloc[int(n * train_size):]\n",
    "print(f'train set size: {len(total_installs_train)}')\n",
    "print(f'test set size: {len(total_installs_test)}')"
   ]
  },
  {
   "cell_type": "code",
   "execution_count": 409,
   "id": "b8940646",
   "metadata": {},
   "outputs": [
    {
     "data": {
      "text/html": [
       "<div>\n",
       "<style scoped>\n",
       "    .dataframe tbody tr th:only-of-type {\n",
       "        vertical-align: middle;\n",
       "    }\n",
       "\n",
       "    .dataframe tbody tr th {\n",
       "        vertical-align: top;\n",
       "    }\n",
       "\n",
       "    .dataframe thead th {\n",
       "        text-align: right;\n",
       "    }\n",
       "</style>\n",
       "<table border=\"1\" class=\"dataframe\">\n",
       "  <thead>\n",
       "    <tr style=\"text-align: right;\">\n",
       "      <th></th>\n",
       "      <th>date</th>\n",
       "      <th>data</th>\n",
       "    </tr>\n",
       "  </thead>\n",
       "  <tbody>\n",
       "    <tr>\n",
       "      <th>138</th>\n",
       "      <td>2018-01-06 18:00:00</td>\n",
       "      <td>43</td>\n",
       "    </tr>\n",
       "    <tr>\n",
       "      <th>139</th>\n",
       "      <td>2018-01-06 19:00:00</td>\n",
       "      <td>81</td>\n",
       "    </tr>\n",
       "    <tr>\n",
       "      <th>140</th>\n",
       "      <td>2018-01-06 20:00:00</td>\n",
       "      <td>17</td>\n",
       "    </tr>\n",
       "    <tr>\n",
       "      <th>141</th>\n",
       "      <td>2018-01-06 21:00:00</td>\n",
       "      <td>88</td>\n",
       "    </tr>\n",
       "    <tr>\n",
       "      <th>142</th>\n",
       "      <td>2018-01-06 22:00:00</td>\n",
       "      <td>53</td>\n",
       "    </tr>\n",
       "  </tbody>\n",
       "</table>\n",
       "</div>"
      ],
      "text/plain": [
       "                   date  data\n",
       "138 2018-01-06 18:00:00    43\n",
       "139 2018-01-06 19:00:00    81\n",
       "140 2018-01-06 20:00:00    17\n",
       "141 2018-01-06 21:00:00    88\n",
       "142 2018-01-06 22:00:00    53"
      ]
     },
     "execution_count": 409,
     "metadata": {},
     "output_type": "execute_result"
    }
   ],
   "source": [
    "total_installs_train.tail()"
   ]
  },
  {
   "cell_type": "code",
   "execution_count": 410,
   "id": "67b2cda3",
   "metadata": {},
   "outputs": [
    {
     "data": {
      "text/html": [
       "<div>\n",
       "<style scoped>\n",
       "    .dataframe tbody tr th:only-of-type {\n",
       "        vertical-align: middle;\n",
       "    }\n",
       "\n",
       "    .dataframe tbody tr th {\n",
       "        vertical-align: top;\n",
       "    }\n",
       "\n",
       "    .dataframe thead th {\n",
       "        text-align: right;\n",
       "    }\n",
       "</style>\n",
       "<table border=\"1\" class=\"dataframe\">\n",
       "  <thead>\n",
       "    <tr style=\"text-align: right;\">\n",
       "      <th></th>\n",
       "      <th>date</th>\n",
       "      <th>data</th>\n",
       "    </tr>\n",
       "  </thead>\n",
       "  <tbody>\n",
       "    <tr>\n",
       "      <th>143</th>\n",
       "      <td>2018-01-06 23:00:00</td>\n",
       "      <td>50</td>\n",
       "    </tr>\n",
       "    <tr>\n",
       "      <th>144</th>\n",
       "      <td>2018-01-07 00:00:00</td>\n",
       "      <td>75</td>\n",
       "    </tr>\n",
       "    <tr>\n",
       "      <th>145</th>\n",
       "      <td>2018-01-07 01:00:00</td>\n",
       "      <td>6</td>\n",
       "    </tr>\n",
       "    <tr>\n",
       "      <th>146</th>\n",
       "      <td>2018-01-07 02:00:00</td>\n",
       "      <td>36</td>\n",
       "    </tr>\n",
       "    <tr>\n",
       "      <th>147</th>\n",
       "      <td>2018-01-07 03:00:00</td>\n",
       "      <td>99</td>\n",
       "    </tr>\n",
       "  </tbody>\n",
       "</table>\n",
       "</div>"
      ],
      "text/plain": [
       "                   date  data\n",
       "143 2018-01-06 23:00:00    50\n",
       "144 2018-01-07 00:00:00    75\n",
       "145 2018-01-07 01:00:00     6\n",
       "146 2018-01-07 02:00:00    36\n",
       "147 2018-01-07 03:00:00    99"
      ]
     },
     "execution_count": 410,
     "metadata": {},
     "output_type": "execute_result"
    }
   ],
   "source": [
    "total_installs_test.head()"
   ]
  },
  {
   "cell_type": "markdown",
   "id": "28435340",
   "metadata": {},
   "source": [
    "## Classification Evaluation"
   ]
  },
  {
   "cell_type": "code",
   "execution_count": 427,
   "id": "9c1ebab2",
   "metadata": {},
   "outputs": [],
   "source": [
    "# read data and create a model and kfolds\n",
    "from sklearn import model_selection\n",
    "from sklearn.linear_model import LogisticRegression\n",
    "url = \"https://raw.githubusercontent.com/jbrownlee/Datasets/master/pima-indians-diabetes.data.csv\"\n",
    "names = ['preg', 'plas', 'pres', 'skin', 'test', 'mass', 'pedi', 'age', 'class']\n",
    "dataframe = pd.read_csv(url, names=names)\n",
    "array = dataframe.values\n",
    "X = array[:,0:8]\n",
    "Y = array[:,8]\n",
    "kfold = model_selection.KFold(n_splits=10, random_state=7, shuffle=True)\n",
    "model = LogisticRegression(solver='liblinear')\n"
   ]
  },
  {
   "cell_type": "markdown",
   "id": "f636db81",
   "metadata": {},
   "source": [
    "### Classification Accuracy\n",
    "\n",
    "Classification accuracy is the number of correct predictions made as a ratio of all predictions made.\n",
    "\n",
    "This is the most common evaluation metric for classification problems, it is also the most misused. It is really only suitable when there are an equal number of observations in each class (which is rarely the case) and that all predictions and prediction errors are equally important, which is often not the case."
   ]
  },
  {
   "cell_type": "code",
   "execution_count": 428,
   "id": "b1195202",
   "metadata": {},
   "outputs": [
    {
     "name": "stdout",
     "output_type": "stream",
     "text": [
      "Accuracy: 0.771 (0.051)\n"
     ]
    }
   ],
   "source": [
    "scoring = 'accuracy'\n",
    "results = model_selection.cross_val_score(model, X, Y, cv=kfold, scoring=scoring)\n",
    "print(\"Accuracy: %.3f (%.3f)\" % (results.mean(), results.std()))"
   ]
  },
  {
   "cell_type": "markdown",
   "id": "27b602dc",
   "metadata": {},
   "source": [
    "### Log Loss\n",
    "\n",
    "Logistic loss (or log loss) is a performance metric for evaluating the predictions of probabilities of membership to a given class.\n",
    "\n",
    "The scalar probability between 0 and 1 can be seen as a measure of confidence for a prediction by an algorithm. Predictions that are correct or incorrect are rewarded or punished proportionally to the confidence of the prediction."
   ]
  },
  {
   "cell_type": "code",
   "execution_count": 429,
   "id": "9ee6f6da",
   "metadata": {},
   "outputs": [
    {
     "name": "stdout",
     "output_type": "stream",
     "text": [
      "Logloss: -0.494 (0.042)\n"
     ]
    }
   ],
   "source": [
    "scoring = 'neg_log_loss'\n",
    "results = model_selection.cross_val_score(model, X, Y, cv=kfold, scoring=scoring)\n",
    "print(\"Logloss: %.3f (%.3f)\" % (results.mean(), results.std()))"
   ]
  },
  {
   "cell_type": "markdown",
   "id": "d2e59a86",
   "metadata": {},
   "source": [
    "### Area Under ROC Curve\n",
    "Area Under ROC Curve (or ROC AUC for short) is a performance metric for binary classification problems.\n",
    "\n",
    "The AUC represents a model’s ability to discriminate between positive and negative classes. An area of 1.0 represents a model that made all predictions perfectly. An area of 0.5 represents a model as good as random.\n",
    "\n",
    "A ROC Curve is a plot of the true positive rate and the false positive rate for a given set of probability predictions at different thresholds used to map the probabilities to class labels. The area under the curve is then the approximate integral under the ROC Curve."
   ]
  },
  {
   "cell_type": "code",
   "execution_count": 430,
   "id": "3a5d7823",
   "metadata": {},
   "outputs": [
    {
     "name": "stdout",
     "output_type": "stream",
     "text": [
      "AUC: 0.826 (0.050)\n"
     ]
    }
   ],
   "source": [
    "scoring = 'roc_auc'\n",
    "results = model_selection.cross_val_score(model, X, Y, cv=kfold, scoring=scoring)\n",
    "print(\"AUC: %.3f (%.3f)\" % (results.mean(), results.std()))"
   ]
  },
  {
   "cell_type": "markdown",
   "id": "96f0277b",
   "metadata": {},
   "source": [
    "### Confusion Matrix"
   ]
  },
  {
   "cell_type": "code",
   "execution_count": 431,
   "id": "10f29a99",
   "metadata": {},
   "outputs": [
    {
     "name": "stdout",
     "output_type": "stream",
     "text": [
      "[[141  21]\n",
      " [ 41  51]]\n"
     ]
    }
   ],
   "source": [
    "test_size = 0.33\n",
    "X_train, X_test, Y_train, Y_test = model_selection.train_test_split(X, Y, test_size=test_size, random_state=7)\n",
    "model = LogisticRegression(solver='liblinear')\n",
    "model.fit(X_train, Y_train)\n",
    "predicted = model.predict(X_test)\n",
    "matrix = confusion_matrix(Y_test, predicted)\n",
    "print(matrix)"
   ]
  },
  {
   "cell_type": "markdown",
   "id": "2adba580",
   "metadata": {},
   "source": [
    "### Classification Report"
   ]
  },
  {
   "cell_type": "code",
   "execution_count": 432,
   "id": "8bd07f86",
   "metadata": {},
   "outputs": [
    {
     "name": "stdout",
     "output_type": "stream",
     "text": [
      "              precision    recall  f1-score   support\n",
      "\n",
      "         0.0       0.77      0.87      0.82       162\n",
      "         1.0       0.71      0.55      0.62        92\n",
      "\n",
      "    accuracy                           0.76       254\n",
      "   macro avg       0.74      0.71      0.72       254\n",
      "weighted avg       0.75      0.76      0.75       254\n",
      "\n"
     ]
    }
   ],
   "source": [
    "test_size = 0.33\n",
    "X_train, X_test, Y_train, Y_test = model_selection.train_test_split(X, Y, test_size=test_size, random_state=7)\n",
    "model = LogisticRegression(solver='liblinear')\n",
    "model.fit(X_train, Y_train)\n",
    "predicted = model.predict(X_test)\n",
    "report = classification_report(Y_test, predicted)\n",
    "print(report)"
   ]
  },
  {
   "cell_type": "markdown",
   "id": "657174a2",
   "metadata": {},
   "source": [
    "## Handling null values in Pandas"
   ]
  },
  {
   "cell_type": "code",
   "execution_count": 433,
   "id": "ed82f5d4",
   "metadata": {},
   "outputs": [
    {
     "data": {
      "text/html": [
       "<div>\n",
       "<style scoped>\n",
       "    .dataframe tbody tr th:only-of-type {\n",
       "        vertical-align: middle;\n",
       "    }\n",
       "\n",
       "    .dataframe tbody tr th {\n",
       "        vertical-align: top;\n",
       "    }\n",
       "\n",
       "    .dataframe thead th {\n",
       "        text-align: right;\n",
       "    }\n",
       "</style>\n",
       "<table border=\"1\" class=\"dataframe\">\n",
       "  <thead>\n",
       "    <tr style=\"text-align: right;\">\n",
       "      <th></th>\n",
       "      <th>First Score</th>\n",
       "      <th>Second Score</th>\n",
       "      <th>Third Score</th>\n",
       "    </tr>\n",
       "  </thead>\n",
       "  <tbody>\n",
       "    <tr>\n",
       "      <th>0</th>\n",
       "      <td>True</td>\n",
       "      <td>True</td>\n",
       "      <td>False</td>\n",
       "    </tr>\n",
       "    <tr>\n",
       "      <th>1</th>\n",
       "      <td>True</td>\n",
       "      <td>True</td>\n",
       "      <td>True</td>\n",
       "    </tr>\n",
       "    <tr>\n",
       "      <th>2</th>\n",
       "      <td>False</td>\n",
       "      <td>True</td>\n",
       "      <td>True</td>\n",
       "    </tr>\n",
       "    <tr>\n",
       "      <th>3</th>\n",
       "      <td>True</td>\n",
       "      <td>False</td>\n",
       "      <td>True</td>\n",
       "    </tr>\n",
       "  </tbody>\n",
       "</table>\n",
       "</div>"
      ],
      "text/plain": [
       "   First Score  Second Score  Third Score\n",
       "0         True          True        False\n",
       "1         True          True         True\n",
       "2        False          True         True\n",
       "3         True         False         True"
      ]
     },
     "execution_count": 433,
     "metadata": {},
     "output_type": "execute_result"
    }
   ],
   "source": [
    "# dictionary of lists\n",
    "dict = {'First Score':[100, 90, np.nan, 95],\n",
    "        'Second Score': [30, 45, 56, np.nan],\n",
    "        'Third Score':[np.nan, 40, 80, 98]}\n",
    "  \n",
    "# creating a dataframe using dictionary\n",
    "sample7 = pd.DataFrame(dict)\n",
    "  \n",
    "# using notnull() function \n",
    "sample7.notnull()"
   ]
  },
  {
   "cell_type": "code",
   "execution_count": 434,
   "id": "fd03777f",
   "metadata": {},
   "outputs": [
    {
     "data": {
      "text/html": [
       "<div>\n",
       "<style scoped>\n",
       "    .dataframe tbody tr th:only-of-type {\n",
       "        vertical-align: middle;\n",
       "    }\n",
       "\n",
       "    .dataframe tbody tr th {\n",
       "        vertical-align: top;\n",
       "    }\n",
       "\n",
       "    .dataframe thead th {\n",
       "        text-align: right;\n",
       "    }\n",
       "</style>\n",
       "<table border=\"1\" class=\"dataframe\">\n",
       "  <thead>\n",
       "    <tr style=\"text-align: right;\">\n",
       "      <th></th>\n",
       "      <th>First Score</th>\n",
       "      <th>Second Score</th>\n",
       "      <th>Third Score</th>\n",
       "    </tr>\n",
       "  </thead>\n",
       "  <tbody>\n",
       "    <tr>\n",
       "      <th>0</th>\n",
       "      <td>100.0</td>\n",
       "      <td>30.0</td>\n",
       "      <td>0.0</td>\n",
       "    </tr>\n",
       "    <tr>\n",
       "      <th>1</th>\n",
       "      <td>90.0</td>\n",
       "      <td>45.0</td>\n",
       "      <td>40.0</td>\n",
       "    </tr>\n",
       "    <tr>\n",
       "      <th>2</th>\n",
       "      <td>0.0</td>\n",
       "      <td>56.0</td>\n",
       "      <td>80.0</td>\n",
       "    </tr>\n",
       "    <tr>\n",
       "      <th>3</th>\n",
       "      <td>95.0</td>\n",
       "      <td>0.0</td>\n",
       "      <td>98.0</td>\n",
       "    </tr>\n",
       "  </tbody>\n",
       "</table>\n",
       "</div>"
      ],
      "text/plain": [
       "   First Score  Second Score  Third Score\n",
       "0        100.0          30.0          0.0\n",
       "1         90.0          45.0         40.0\n",
       "2          0.0          56.0         80.0\n",
       "3         95.0           0.0         98.0"
      ]
     },
     "execution_count": 434,
     "metadata": {},
     "output_type": "execute_result"
    }
   ],
   "source": [
    "#fill with 0\n",
    "sample7.fillna(0)\n"
   ]
  },
  {
   "cell_type": "code",
   "execution_count": 435,
   "id": "10ac176d",
   "metadata": {},
   "outputs": [
    {
     "data": {
      "text/html": [
       "<div>\n",
       "<style scoped>\n",
       "    .dataframe tbody tr th:only-of-type {\n",
       "        vertical-align: middle;\n",
       "    }\n",
       "\n",
       "    .dataframe tbody tr th {\n",
       "        vertical-align: top;\n",
       "    }\n",
       "\n",
       "    .dataframe thead th {\n",
       "        text-align: right;\n",
       "    }\n",
       "</style>\n",
       "<table border=\"1\" class=\"dataframe\">\n",
       "  <thead>\n",
       "    <tr style=\"text-align: right;\">\n",
       "      <th></th>\n",
       "      <th>First Score</th>\n",
       "      <th>Second Score</th>\n",
       "      <th>Third Score</th>\n",
       "    </tr>\n",
       "  </thead>\n",
       "  <tbody>\n",
       "    <tr>\n",
       "      <th>0</th>\n",
       "      <td>100.0</td>\n",
       "      <td>30.0</td>\n",
       "      <td>NaN</td>\n",
       "    </tr>\n",
       "    <tr>\n",
       "      <th>1</th>\n",
       "      <td>90.0</td>\n",
       "      <td>45.0</td>\n",
       "      <td>40.0</td>\n",
       "    </tr>\n",
       "    <tr>\n",
       "      <th>2</th>\n",
       "      <td>90.0</td>\n",
       "      <td>56.0</td>\n",
       "      <td>80.0</td>\n",
       "    </tr>\n",
       "    <tr>\n",
       "      <th>3</th>\n",
       "      <td>95.0</td>\n",
       "      <td>56.0</td>\n",
       "      <td>98.0</td>\n",
       "    </tr>\n",
       "  </tbody>\n",
       "</table>\n",
       "</div>"
      ],
      "text/plain": [
       "   First Score  Second Score  Third Score\n",
       "0        100.0          30.0          NaN\n",
       "1         90.0          45.0         40.0\n",
       "2         90.0          56.0         80.0\n",
       "3         95.0          56.0         98.0"
      ]
     },
     "execution_count": 435,
     "metadata": {},
     "output_type": "execute_result"
    }
   ],
   "source": [
    "#fill with previous value\n",
    "sample7.fillna(method ='pad')\n"
   ]
  },
  {
   "cell_type": "code",
   "execution_count": 436,
   "id": "7ccb58d1",
   "metadata": {},
   "outputs": [
    {
     "data": {
      "text/html": [
       "<div>\n",
       "<style scoped>\n",
       "    .dataframe tbody tr th:only-of-type {\n",
       "        vertical-align: middle;\n",
       "    }\n",
       "\n",
       "    .dataframe tbody tr th {\n",
       "        vertical-align: top;\n",
       "    }\n",
       "\n",
       "    .dataframe thead th {\n",
       "        text-align: right;\n",
       "    }\n",
       "</style>\n",
       "<table border=\"1\" class=\"dataframe\">\n",
       "  <thead>\n",
       "    <tr style=\"text-align: right;\">\n",
       "      <th></th>\n",
       "      <th>First Score</th>\n",
       "      <th>Second Score</th>\n",
       "      <th>Third Score</th>\n",
       "    </tr>\n",
       "  </thead>\n",
       "  <tbody>\n",
       "    <tr>\n",
       "      <th>0</th>\n",
       "      <td>100.0</td>\n",
       "      <td>30.0</td>\n",
       "      <td>40.0</td>\n",
       "    </tr>\n",
       "    <tr>\n",
       "      <th>1</th>\n",
       "      <td>90.0</td>\n",
       "      <td>45.0</td>\n",
       "      <td>40.0</td>\n",
       "    </tr>\n",
       "    <tr>\n",
       "      <th>2</th>\n",
       "      <td>95.0</td>\n",
       "      <td>56.0</td>\n",
       "      <td>80.0</td>\n",
       "    </tr>\n",
       "    <tr>\n",
       "      <th>3</th>\n",
       "      <td>95.0</td>\n",
       "      <td>NaN</td>\n",
       "      <td>98.0</td>\n",
       "    </tr>\n",
       "  </tbody>\n",
       "</table>\n",
       "</div>"
      ],
      "text/plain": [
       "   First Score  Second Score  Third Score\n",
       "0        100.0          30.0         40.0\n",
       "1         90.0          45.0         40.0\n",
       "2         95.0          56.0         80.0\n",
       "3         95.0           NaN         98.0"
      ]
     },
     "execution_count": 436,
     "metadata": {},
     "output_type": "execute_result"
    }
   ],
   "source": [
    "#fill with next one\n",
    "sample7.fillna(method ='bfill')\n"
   ]
  },
  {
   "cell_type": "code",
   "execution_count": 437,
   "id": "d960fde4",
   "metadata": {},
   "outputs": [
    {
     "data": {
      "text/html": [
       "<div>\n",
       "<style scoped>\n",
       "    .dataframe tbody tr th:only-of-type {\n",
       "        vertical-align: middle;\n",
       "    }\n",
       "\n",
       "    .dataframe tbody tr th {\n",
       "        vertical-align: top;\n",
       "    }\n",
       "\n",
       "    .dataframe thead th {\n",
       "        text-align: right;\n",
       "    }\n",
       "</style>\n",
       "<table border=\"1\" class=\"dataframe\">\n",
       "  <thead>\n",
       "    <tr style=\"text-align: right;\">\n",
       "      <th></th>\n",
       "      <th>First Score</th>\n",
       "      <th>Second Score</th>\n",
       "      <th>Third Score</th>\n",
       "    </tr>\n",
       "  </thead>\n",
       "  <tbody>\n",
       "    <tr>\n",
       "      <th>0</th>\n",
       "      <td>100.0</td>\n",
       "      <td>30.0</td>\n",
       "      <td>-99.0</td>\n",
       "    </tr>\n",
       "    <tr>\n",
       "      <th>1</th>\n",
       "      <td>90.0</td>\n",
       "      <td>45.0</td>\n",
       "      <td>40.0</td>\n",
       "    </tr>\n",
       "    <tr>\n",
       "      <th>2</th>\n",
       "      <td>-99.0</td>\n",
       "      <td>56.0</td>\n",
       "      <td>80.0</td>\n",
       "    </tr>\n",
       "    <tr>\n",
       "      <th>3</th>\n",
       "      <td>95.0</td>\n",
       "      <td>-99.0</td>\n",
       "      <td>98.0</td>\n",
       "    </tr>\n",
       "  </tbody>\n",
       "</table>\n",
       "</div>"
      ],
      "text/plain": [
       "   First Score  Second Score  Third Score\n",
       "0        100.0          30.0        -99.0\n",
       "1         90.0          45.0         40.0\n",
       "2        -99.0          56.0         80.0\n",
       "3         95.0         -99.0         98.0"
      ]
     },
     "execution_count": 437,
     "metadata": {},
     "output_type": "execute_result"
    }
   ],
   "source": [
    "##replace with specific value\n",
    "sample7.replace(to_replace = np.nan, value = -99) \n"
   ]
  },
  {
   "cell_type": "code",
   "execution_count": 438,
   "id": "4d380e21",
   "metadata": {},
   "outputs": [
    {
     "data": {
      "text/html": [
       "<div>\n",
       "<style scoped>\n",
       "    .dataframe tbody tr th:only-of-type {\n",
       "        vertical-align: middle;\n",
       "    }\n",
       "\n",
       "    .dataframe tbody tr th {\n",
       "        vertical-align: top;\n",
       "    }\n",
       "\n",
       "    .dataframe thead th {\n",
       "        text-align: right;\n",
       "    }\n",
       "</style>\n",
       "<table border=\"1\" class=\"dataframe\">\n",
       "  <thead>\n",
       "    <tr style=\"text-align: right;\">\n",
       "      <th></th>\n",
       "      <th>First Score</th>\n",
       "      <th>Second Score</th>\n",
       "      <th>Third Score</th>\n",
       "    </tr>\n",
       "  </thead>\n",
       "  <tbody>\n",
       "    <tr>\n",
       "      <th>0</th>\n",
       "      <td>100.0</td>\n",
       "      <td>30.0</td>\n",
       "      <td>NaN</td>\n",
       "    </tr>\n",
       "    <tr>\n",
       "      <th>1</th>\n",
       "      <td>90.0</td>\n",
       "      <td>45.0</td>\n",
       "      <td>40.0</td>\n",
       "    </tr>\n",
       "    <tr>\n",
       "      <th>2</th>\n",
       "      <td>92.5</td>\n",
       "      <td>56.0</td>\n",
       "      <td>80.0</td>\n",
       "    </tr>\n",
       "    <tr>\n",
       "      <th>3</th>\n",
       "      <td>95.0</td>\n",
       "      <td>56.0</td>\n",
       "      <td>98.0</td>\n",
       "    </tr>\n",
       "  </tbody>\n",
       "</table>\n",
       "</div>"
      ],
      "text/plain": [
       "   First Score  Second Score  Third Score\n",
       "0        100.0          30.0          NaN\n",
       "1         90.0          45.0         40.0\n",
       "2         92.5          56.0         80.0\n",
       "3         95.0          56.0         98.0"
      ]
     },
     "execution_count": 438,
     "metadata": {},
     "output_type": "execute_result"
    }
   ],
   "source": [
    "#interpolate missing values\n",
    "sample7.interpolate(method ='linear', limit_direction ='forward')\n"
   ]
  },
  {
   "cell_type": "code",
   "execution_count": 439,
   "id": "014d5810",
   "metadata": {},
   "outputs": [
    {
     "data": {
      "text/html": [
       "<div>\n",
       "<style scoped>\n",
       "    .dataframe tbody tr th:only-of-type {\n",
       "        vertical-align: middle;\n",
       "    }\n",
       "\n",
       "    .dataframe tbody tr th {\n",
       "        vertical-align: top;\n",
       "    }\n",
       "\n",
       "    .dataframe thead th {\n",
       "        text-align: right;\n",
       "    }\n",
       "</style>\n",
       "<table border=\"1\" class=\"dataframe\">\n",
       "  <thead>\n",
       "    <tr style=\"text-align: right;\">\n",
       "      <th></th>\n",
       "      <th>First Score</th>\n",
       "      <th>Second Score</th>\n",
       "      <th>Third Score</th>\n",
       "    </tr>\n",
       "  </thead>\n",
       "  <tbody>\n",
       "    <tr>\n",
       "      <th>0</th>\n",
       "      <td>100.0</td>\n",
       "      <td>30.000000</td>\n",
       "      <td>72.666667</td>\n",
       "    </tr>\n",
       "    <tr>\n",
       "      <th>1</th>\n",
       "      <td>90.0</td>\n",
       "      <td>45.000000</td>\n",
       "      <td>40.000000</td>\n",
       "    </tr>\n",
       "    <tr>\n",
       "      <th>2</th>\n",
       "      <td>95.0</td>\n",
       "      <td>56.000000</td>\n",
       "      <td>80.000000</td>\n",
       "    </tr>\n",
       "    <tr>\n",
       "      <th>3</th>\n",
       "      <td>95.0</td>\n",
       "      <td>43.666667</td>\n",
       "      <td>98.000000</td>\n",
       "    </tr>\n",
       "  </tbody>\n",
       "</table>\n",
       "</div>"
      ],
      "text/plain": [
       "   First Score  Second Score  Third Score\n",
       "0        100.0     30.000000    72.666667\n",
       "1         90.0     45.000000    40.000000\n",
       "2         95.0     56.000000    80.000000\n",
       "3         95.0     43.666667    98.000000"
      ]
     },
     "execution_count": 439,
     "metadata": {},
     "output_type": "execute_result"
    }
   ],
   "source": [
    "#replace with mean of column\n",
    "sample7.fillna(sample7.mean())"
   ]
  },
  {
   "cell_type": "code",
   "execution_count": 444,
   "id": "b45102db",
   "metadata": {},
   "outputs": [
    {
     "data": {
      "text/html": [
       "<div>\n",
       "<style scoped>\n",
       "    .dataframe tbody tr th:only-of-type {\n",
       "        vertical-align: middle;\n",
       "    }\n",
       "\n",
       "    .dataframe tbody tr th {\n",
       "        vertical-align: top;\n",
       "    }\n",
       "\n",
       "    .dataframe thead th {\n",
       "        text-align: right;\n",
       "    }\n",
       "</style>\n",
       "<table border=\"1\" class=\"dataframe\">\n",
       "  <thead>\n",
       "    <tr style=\"text-align: right;\">\n",
       "      <th></th>\n",
       "      <th>First Score</th>\n",
       "      <th>Second Score</th>\n",
       "      <th>Third Score</th>\n",
       "    </tr>\n",
       "  </thead>\n",
       "  <tbody>\n",
       "    <tr>\n",
       "      <th>0</th>\n",
       "      <td>100.0</td>\n",
       "      <td>30.0</td>\n",
       "      <td>NaN</td>\n",
       "    </tr>\n",
       "    <tr>\n",
       "      <th>1</th>\n",
       "      <td>90.0</td>\n",
       "      <td>45.0</td>\n",
       "      <td>40.0</td>\n",
       "    </tr>\n",
       "    <tr>\n",
       "      <th>2</th>\n",
       "      <td>95.0</td>\n",
       "      <td>56.0</td>\n",
       "      <td>80.0</td>\n",
       "    </tr>\n",
       "    <tr>\n",
       "      <th>3</th>\n",
       "      <td>95.0</td>\n",
       "      <td>NaN</td>\n",
       "      <td>98.0</td>\n",
       "    </tr>\n",
       "  </tbody>\n",
       "</table>\n",
       "</div>"
      ],
      "text/plain": [
       "   First Score  Second Score  Third Score\n",
       "0        100.0          30.0          NaN\n",
       "1         90.0          45.0         40.0\n",
       "2         95.0          56.0         80.0\n",
       "3         95.0           NaN         98.0"
      ]
     },
     "execution_count": 444,
     "metadata": {},
     "output_type": "execute_result"
    }
   ],
   "source": [
    "#replace only in one column\n",
    "sample7['First Score'] = sample7['First Score'].fillna((sample7['First Score'].mean()))\n",
    "sample7"
   ]
  },
  {
   "cell_type": "markdown",
   "id": "98bd2ba1",
   "metadata": {},
   "source": [
    "## Create rolling average column"
   ]
  },
  {
   "cell_type": "code",
   "execution_count": 445,
   "id": "c9b4c321",
   "metadata": {},
   "outputs": [
    {
     "data": {
      "text/html": [
       "<div>\n",
       "<style scoped>\n",
       "    .dataframe tbody tr th:only-of-type {\n",
       "        vertical-align: middle;\n",
       "    }\n",
       "\n",
       "    .dataframe tbody tr th {\n",
       "        vertical-align: top;\n",
       "    }\n",
       "\n",
       "    .dataframe thead th {\n",
       "        text-align: right;\n",
       "    }\n",
       "</style>\n",
       "<table border=\"1\" class=\"dataframe\">\n",
       "  <thead>\n",
       "    <tr style=\"text-align: right;\">\n",
       "      <th></th>\n",
       "      <th>month</th>\n",
       "      <th>demand</th>\n",
       "    </tr>\n",
       "  </thead>\n",
       "  <tbody>\n",
       "    <tr>\n",
       "      <th>0</th>\n",
       "      <td>1</td>\n",
       "      <td>290</td>\n",
       "    </tr>\n",
       "    <tr>\n",
       "      <th>1</th>\n",
       "      <td>2</td>\n",
       "      <td>260</td>\n",
       "    </tr>\n",
       "    <tr>\n",
       "      <th>2</th>\n",
       "      <td>3</td>\n",
       "      <td>288</td>\n",
       "    </tr>\n",
       "    <tr>\n",
       "      <th>3</th>\n",
       "      <td>4</td>\n",
       "      <td>300</td>\n",
       "    </tr>\n",
       "    <tr>\n",
       "      <th>4</th>\n",
       "      <td>5</td>\n",
       "      <td>310</td>\n",
       "    </tr>\n",
       "    <tr>\n",
       "      <th>5</th>\n",
       "      <td>6</td>\n",
       "      <td>303</td>\n",
       "    </tr>\n",
       "    <tr>\n",
       "      <th>6</th>\n",
       "      <td>7</td>\n",
       "      <td>329</td>\n",
       "    </tr>\n",
       "    <tr>\n",
       "      <th>7</th>\n",
       "      <td>8</td>\n",
       "      <td>340</td>\n",
       "    </tr>\n",
       "    <tr>\n",
       "      <th>8</th>\n",
       "      <td>9</td>\n",
       "      <td>316</td>\n",
       "    </tr>\n",
       "    <tr>\n",
       "      <th>9</th>\n",
       "      <td>10</td>\n",
       "      <td>330</td>\n",
       "    </tr>\n",
       "    <tr>\n",
       "      <th>10</th>\n",
       "      <td>11</td>\n",
       "      <td>308</td>\n",
       "    </tr>\n",
       "    <tr>\n",
       "      <th>11</th>\n",
       "      <td>12</td>\n",
       "      <td>310</td>\n",
       "    </tr>\n",
       "  </tbody>\n",
       "</table>\n",
       "</div>"
      ],
      "text/plain": [
       "    month  demand\n",
       "0       1     290\n",
       "1       2     260\n",
       "2       3     288\n",
       "3       4     300\n",
       "4       5     310\n",
       "5       6     303\n",
       "6       7     329\n",
       "7       8     340\n",
       "8       9     316\n",
       "9      10     330\n",
       "10     11     308\n",
       "11     12     310"
      ]
     },
     "execution_count": 445,
     "metadata": {},
     "output_type": "execute_result"
    }
   ],
   "source": [
    "product = {'month' : [1,2,3,4,5,6,7,8,9,10,11,12],'demand':[290,260,288,300,310,303,329,340,316,330,308,310]}\n",
    "sample8 = pd.DataFrame(product)\n",
    "sample8"
   ]
  },
  {
   "cell_type": "code",
   "execution_count": 448,
   "id": "6362bf36",
   "metadata": {},
   "outputs": [
    {
     "data": {
      "text/html": [
       "<div>\n",
       "<style scoped>\n",
       "    .dataframe tbody tr th:only-of-type {\n",
       "        vertical-align: middle;\n",
       "    }\n",
       "\n",
       "    .dataframe tbody tr th {\n",
       "        vertical-align: top;\n",
       "    }\n",
       "\n",
       "    .dataframe thead th {\n",
       "        text-align: right;\n",
       "    }\n",
       "</style>\n",
       "<table border=\"1\" class=\"dataframe\">\n",
       "  <thead>\n",
       "    <tr style=\"text-align: right;\">\n",
       "      <th></th>\n",
       "      <th>month</th>\n",
       "      <th>demand</th>\n",
       "      <th>SMA_3</th>\n",
       "    </tr>\n",
       "  </thead>\n",
       "  <tbody>\n",
       "    <tr>\n",
       "      <th>0</th>\n",
       "      <td>1</td>\n",
       "      <td>290</td>\n",
       "      <td>NaN</td>\n",
       "    </tr>\n",
       "    <tr>\n",
       "      <th>1</th>\n",
       "      <td>2</td>\n",
       "      <td>260</td>\n",
       "      <td>NaN</td>\n",
       "    </tr>\n",
       "    <tr>\n",
       "      <th>2</th>\n",
       "      <td>3</td>\n",
       "      <td>288</td>\n",
       "      <td>279.3</td>\n",
       "    </tr>\n",
       "    <tr>\n",
       "      <th>3</th>\n",
       "      <td>4</td>\n",
       "      <td>300</td>\n",
       "      <td>282.7</td>\n",
       "    </tr>\n",
       "    <tr>\n",
       "      <th>4</th>\n",
       "      <td>5</td>\n",
       "      <td>310</td>\n",
       "      <td>299.3</td>\n",
       "    </tr>\n",
       "  </tbody>\n",
       "</table>\n",
       "</div>"
      ],
      "text/plain": [
       "   month  demand  SMA_3\n",
       "0      1     290    NaN\n",
       "1      2     260    NaN\n",
       "2      3     288  279.3\n",
       "3      4     300  282.7\n",
       "4      5     310  299.3"
      ]
     },
     "execution_count": 448,
     "metadata": {},
     "output_type": "execute_result"
    }
   ],
   "source": [
    "#create with a loop\n",
    "for i in range(0,sample8.shape[0]-2):\n",
    "    sample8.loc[sample8.index[i+2],'SMA_3'] = np.round(((sample8.iloc[i,1]+ sample8.iloc[i+1,1] +sample8.iloc[i+2,1])/3),1)\n",
    "    \n",
    "sample8.head()"
   ]
  },
  {
   "cell_type": "code",
   "execution_count": 450,
   "id": "4abb63da",
   "metadata": {},
   "outputs": [
    {
     "data": {
      "text/html": [
       "<div>\n",
       "<style scoped>\n",
       "    .dataframe tbody tr th:only-of-type {\n",
       "        vertical-align: middle;\n",
       "    }\n",
       "\n",
       "    .dataframe tbody tr th {\n",
       "        vertical-align: top;\n",
       "    }\n",
       "\n",
       "    .dataframe thead th {\n",
       "        text-align: right;\n",
       "    }\n",
       "</style>\n",
       "<table border=\"1\" class=\"dataframe\">\n",
       "  <thead>\n",
       "    <tr style=\"text-align: right;\">\n",
       "      <th></th>\n",
       "      <th>month</th>\n",
       "      <th>demand</th>\n",
       "      <th>SMA_3</th>\n",
       "      <th>pandas_SMA_3</th>\n",
       "    </tr>\n",
       "  </thead>\n",
       "  <tbody>\n",
       "    <tr>\n",
       "      <th>0</th>\n",
       "      <td>1</td>\n",
       "      <td>290</td>\n",
       "      <td>NaN</td>\n",
       "      <td>NaN</td>\n",
       "    </tr>\n",
       "    <tr>\n",
       "      <th>1</th>\n",
       "      <td>2</td>\n",
       "      <td>260</td>\n",
       "      <td>NaN</td>\n",
       "      <td>NaN</td>\n",
       "    </tr>\n",
       "    <tr>\n",
       "      <th>2</th>\n",
       "      <td>3</td>\n",
       "      <td>288</td>\n",
       "      <td>279.3</td>\n",
       "      <td>279.333333</td>\n",
       "    </tr>\n",
       "    <tr>\n",
       "      <th>3</th>\n",
       "      <td>4</td>\n",
       "      <td>300</td>\n",
       "      <td>282.7</td>\n",
       "      <td>282.666667</td>\n",
       "    </tr>\n",
       "    <tr>\n",
       "      <th>4</th>\n",
       "      <td>5</td>\n",
       "      <td>310</td>\n",
       "      <td>299.3</td>\n",
       "      <td>299.333333</td>\n",
       "    </tr>\n",
       "  </tbody>\n",
       "</table>\n",
       "</div>"
      ],
      "text/plain": [
       "   month  demand  SMA_3  pandas_SMA_3\n",
       "0      1     290    NaN           NaN\n",
       "1      2     260    NaN           NaN\n",
       "2      3     288  279.3    279.333333\n",
       "3      4     300  282.7    282.666667\n",
       "4      5     310  299.3    299.333333"
      ]
     },
     "execution_count": 450,
     "metadata": {},
     "output_type": "execute_result"
    }
   ],
   "source": [
    "#alternative easier solution\n",
    "sample8['pandas_SMA_3'] = sample8.iloc[:,1].rolling(window=3).mean()\n",
    "sample8.head()"
   ]
  }
 ],
 "metadata": {
  "kernelspec": {
   "display_name": "Python 3 (ipykernel)",
   "language": "python",
   "name": "python3"
  },
  "language_info": {
   "codemirror_mode": {
    "name": "ipython",
    "version": 3
   },
   "file_extension": ".py",
   "mimetype": "text/x-python",
   "name": "python",
   "nbconvert_exporter": "python",
   "pygments_lexer": "ipython3",
   "version": "3.9.7"
  }
 },
 "nbformat": 4,
 "nbformat_minor": 5
}
